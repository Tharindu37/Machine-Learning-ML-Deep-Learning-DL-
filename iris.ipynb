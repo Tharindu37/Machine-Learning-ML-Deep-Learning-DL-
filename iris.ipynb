{
 "cells": [
  {
   "cell_type": "markdown",
   "metadata": {},
   "source": [
    "### classification\n",
    "<p>Labels</p>\n",
    "<ul>\n",
    "    <li>Versicolor</li>\n",
    "    <li>Setosa</li>\n",
    "    <li>Virginica</li>\n",
    "<ul>"
   ]
  },
  {
   "cell_type": "code",
   "execution_count": 44,
   "metadata": {},
   "outputs": [
    {
     "name": "stdout",
     "output_type": "stream",
     "text": [
      "[0. 0. 0. 0. 0. 0. 0. 0. 0. 0. 0. 0. 0. 0. 0. 0. 0. 0. 0. 0. 0. 0. 0. 0.\n",
      " 0. 0. 0. 0. 0. 0. 0. 0. 0. 0. 0. 0. 0. 0. 0. 0. 0. 0. 0. 0. 0. 0. 0. 0.\n",
      " 0. 0. 1. 1. 1. 1. 1. 1. 1. 1. 1. 1. 1. 1. 1. 1. 1. 1. 1. 1. 1. 1. 1. 1.\n",
      " 1. 1. 1. 1. 1. 1. 1. 1. 1. 1. 1. 1. 1. 1. 1. 1. 1. 1. 1. 1. 1. 1. 1. 1.\n",
      " 1. 1. 1. 1. 2. 2. 2. 2. 2. 2. 2. 2. 2. 2. 2. 2. 2. 2. 2. 2. 2. 2. 2. 2.\n",
      " 2. 2. 2. 2. 2. 2. 2. 2. 2. 2. 2. 2. 2. 2. 2. 2. 2. 2. 2. 2. 2. 2. 2. 2.\n",
      " 2. 2. 2. 2. 2. 2.]\n"
     ]
    }
   ],
   "source": [
    "import pandas as pd\n",
    "dataset=pd.read_csv('iris.csv').values\n",
    "#dataset=pd.read_csv('iris.csv',header=None).values\n",
    "data=dataset[:,0:4]\n",
    "target=dataset[:,4]\n",
    "print(target)"
   ]
  },
  {
   "cell_type": "code",
   "execution_count": 22,
   "metadata": {},
   "outputs": [
    {
     "name": "stdout",
     "output_type": "stream",
     "text": [
      "Model: \"sequential_3\"\n",
      "_________________________________________________________________\n",
      " Layer (type)                Output Shape              Param #   \n",
      "=================================================================\n",
      " dense_12 (Dense)            (None, 32)                160       \n",
      "                                                                 \n",
      " dense_13 (Dense)            (None, 64)                2112      \n",
      "                                                                 \n",
      " dense_14 (Dense)            (None, 16)                1040      \n",
      "                                                                 \n",
      " dense_15 (Dense)            (None, 3)                 51        \n",
      "                                                                 \n",
      "=================================================================\n",
      "Total params: 3363 (13.14 KB)\n",
      "Trainable params: 3363 (13.14 KB)\n",
      "Non-trainable params: 0 (0.00 Byte)\n",
      "_________________________________________________________________\n"
     ]
    }
   ],
   "source": [
    "from keras.models import Sequential\n",
    "from keras.layers import Dense # Feed forward laayer/ fully connected layers\n",
    "\n",
    "model=Sequential() # empty NN object\n",
    "model.add(Dense(32,input_dim=4,activation='relu')) # 1st HDN Layer\n",
    "model.add(Dense(64,activation='relu')) # 2st HDN Layer\n",
    "model.add(Dense(16,activation='relu')) # 3st HDN Layer\n",
    "model.add(Dense(3,activation='softmax')) # output\n",
    "\n",
    "model.compile(loss='categorical_crossentropy',optimizer='adam', metrics=['accuracy'])\n",
    "model.summary()"
   ]
  },
  {
   "cell_type": "code",
   "execution_count": 21,
   "metadata": {},
   "outputs": [
    {
     "name": "stdout",
     "output_type": "stream",
     "text": [
      "Collecting scikit-learn\n",
      "  Downloading scikit_learn-1.4.0-1-cp310-cp310-win_amd64.whl (10.6 MB)\n",
      "     --------------------------------------- 10.6/10.6 MB 39.6 kB/s eta 0:00:00\n",
      "Collecting threadpoolctl>=2.0.0\n",
      "  Downloading threadpoolctl-3.2.0-py3-none-any.whl (15 kB)\n",
      "Collecting joblib>=1.2.0\n",
      "  Using cached joblib-1.3.2-py3-none-any.whl (302 kB)\n",
      "Collecting scipy>=1.6.0\n",
      "  Downloading scipy-1.12.0-cp310-cp310-win_amd64.whl (46.2 MB)\n",
      "     --------------------------------------- 46.2/46.2 MB 37.3 kB/s eta 0:00:00\n",
      "Requirement already satisfied: numpy<2.0,>=1.19.5 in e:\\programming code\\ml_dl\\virtual\\lib\\site-packages (from scikit-learn) (1.26.4)\n",
      "Installing collected packages: threadpoolctl, scipy, joblib, scikit-learn\n",
      "Successfully installed joblib-1.3.2 scikit-learn-1.4.0 scipy-1.12.0 threadpoolctl-3.2.0\n",
      "Note: you may need to restart the kernel to use updated packages.\n"
     ]
    },
    {
     "name": "stderr",
     "output_type": "stream",
     "text": [
      "\n",
      "[notice] A new release of pip available: 22.2.2 -> 24.0\n",
      "[notice] To update, run: python.exe -m pip install --upgrade pip\n"
     ]
    }
   ],
   "source": [
    "pip install scikit-learn"
   ]
  },
  {
   "cell_type": "code",
   "execution_count": 45,
   "metadata": {},
   "outputs": [
    {
     "name": "stdout",
     "output_type": "stream",
     "text": [
      "[[1. 0. 0.]\n",
      " [1. 0. 0.]\n",
      " [1. 0. 0.]\n",
      " [1. 0. 0.]\n",
      " [1. 0. 0.]\n",
      " [1. 0. 0.]\n",
      " [1. 0. 0.]\n",
      " [1. 0. 0.]\n",
      " [1. 0. 0.]\n",
      " [1. 0. 0.]\n",
      " [1. 0. 0.]\n",
      " [1. 0. 0.]\n",
      " [1. 0. 0.]\n",
      " [1. 0. 0.]\n",
      " [1. 0. 0.]\n",
      " [1. 0. 0.]\n",
      " [1. 0. 0.]\n",
      " [1. 0. 0.]\n",
      " [1. 0. 0.]\n",
      " [1. 0. 0.]\n",
      " [1. 0. 0.]\n",
      " [1. 0. 0.]\n",
      " [1. 0. 0.]\n",
      " [1. 0. 0.]\n",
      " [1. 0. 0.]\n",
      " [1. 0. 0.]\n",
      " [1. 0. 0.]\n",
      " [1. 0. 0.]\n",
      " [1. 0. 0.]\n",
      " [1. 0. 0.]\n",
      " [1. 0. 0.]\n",
      " [1. 0. 0.]\n",
      " [1. 0. 0.]\n",
      " [1. 0. 0.]\n",
      " [1. 0. 0.]\n",
      " [1. 0. 0.]\n",
      " [1. 0. 0.]\n",
      " [1. 0. 0.]\n",
      " [1. 0. 0.]\n",
      " [1. 0. 0.]\n",
      " [1. 0. 0.]\n",
      " [1. 0. 0.]\n",
      " [1. 0. 0.]\n",
      " [1. 0. 0.]\n",
      " [1. 0. 0.]\n",
      " [1. 0. 0.]\n",
      " [1. 0. 0.]\n",
      " [1. 0. 0.]\n",
      " [1. 0. 0.]\n",
      " [1. 0. 0.]\n",
      " [0. 1. 0.]\n",
      " [0. 1. 0.]\n",
      " [0. 1. 0.]\n",
      " [0. 1. 0.]\n",
      " [0. 1. 0.]\n",
      " [0. 1. 0.]\n",
      " [0. 1. 0.]\n",
      " [0. 1. 0.]\n",
      " [0. 1. 0.]\n",
      " [0. 1. 0.]\n",
      " [0. 1. 0.]\n",
      " [0. 1. 0.]\n",
      " [0. 1. 0.]\n",
      " [0. 1. 0.]\n",
      " [0. 1. 0.]\n",
      " [0. 1. 0.]\n",
      " [0. 1. 0.]\n",
      " [0. 1. 0.]\n",
      " [0. 1. 0.]\n",
      " [0. 1. 0.]\n",
      " [0. 1. 0.]\n",
      " [0. 1. 0.]\n",
      " [0. 1. 0.]\n",
      " [0. 1. 0.]\n",
      " [0. 1. 0.]\n",
      " [0. 1. 0.]\n",
      " [0. 1. 0.]\n",
      " [0. 1. 0.]\n",
      " [0. 1. 0.]\n",
      " [0. 1. 0.]\n",
      " [0. 1. 0.]\n",
      " [0. 1. 0.]\n",
      " [0. 1. 0.]\n",
      " [0. 1. 0.]\n",
      " [0. 1. 0.]\n",
      " [0. 1. 0.]\n",
      " [0. 1. 0.]\n",
      " [0. 1. 0.]\n",
      " [0. 1. 0.]\n",
      " [0. 1. 0.]\n",
      " [0. 1. 0.]\n",
      " [0. 1. 0.]\n",
      " [0. 1. 0.]\n",
      " [0. 1. 0.]\n",
      " [0. 1. 0.]\n",
      " [0. 1. 0.]\n",
      " [0. 1. 0.]\n",
      " [0. 1. 0.]\n",
      " [0. 1. 0.]\n",
      " [0. 1. 0.]\n",
      " [0. 0. 1.]\n",
      " [0. 0. 1.]\n",
      " [0. 0. 1.]\n",
      " [0. 0. 1.]\n",
      " [0. 0. 1.]\n",
      " [0. 0. 1.]\n",
      " [0. 0. 1.]\n",
      " [0. 0. 1.]\n",
      " [0. 0. 1.]\n",
      " [0. 0. 1.]\n",
      " [0. 0. 1.]\n",
      " [0. 0. 1.]\n",
      " [0. 0. 1.]\n",
      " [0. 0. 1.]\n",
      " [0. 0. 1.]\n",
      " [0. 0. 1.]\n",
      " [0. 0. 1.]\n",
      " [0. 0. 1.]\n",
      " [0. 0. 1.]\n",
      " [0. 0. 1.]\n",
      " [0. 0. 1.]\n",
      " [0. 0. 1.]\n",
      " [0. 0. 1.]\n",
      " [0. 0. 1.]\n",
      " [0. 0. 1.]\n",
      " [0. 0. 1.]\n",
      " [0. 0. 1.]\n",
      " [0. 0. 1.]\n",
      " [0. 0. 1.]\n",
      " [0. 0. 1.]\n",
      " [0. 0. 1.]\n",
      " [0. 0. 1.]\n",
      " [0. 0. 1.]\n",
      " [0. 0. 1.]\n",
      " [0. 0. 1.]\n",
      " [0. 0. 1.]\n",
      " [0. 0. 1.]\n",
      " [0. 0. 1.]\n",
      " [0. 0. 1.]\n",
      " [0. 0. 1.]\n",
      " [0. 0. 1.]\n",
      " [0. 0. 1.]\n",
      " [0. 0. 1.]\n",
      " [0. 0. 1.]\n",
      " [0. 0. 1.]\n",
      " [0. 0. 1.]\n",
      " [0. 0. 1.]\n",
      " [0. 0. 1.]\n",
      " [0. 0. 1.]\n",
      " [0. 0. 1.]]\n"
     ]
    }
   ],
   "source": [
    "from keras.utils import to_categorical\n",
    "new_target=to_categorical(target)\n",
    "print(new_target)\n"
   ]
  },
  {
   "cell_type": "code",
   "execution_count": 46,
   "metadata": {},
   "outputs": [],
   "source": [
    "from sklearn.model_selection import train_test_split\n",
    "# train_data,valid_data,train_targt,valid_targt=train_test_split(data, new_target,test_size=0.2)\n",
    "# Split the data into training and validation sets\n",
    "train_data, valid_data, train_target, valid_target = train_test_split(data, new_target, test_size=0.2, random_state=42)"
   ]
  },
  {
   "cell_type": "code",
   "execution_count": 47,
   "metadata": {},
   "outputs": [
    {
     "name": "stdout",
     "output_type": "stream",
     "text": [
      "Epoch 1/100\n",
      "WARNING:tensorflow:From e:\\Programming Code\\ML_DL\\virtual\\lib\\site-packages\\keras\\src\\utils\\tf_utils.py:492: The name tf.ragged.RaggedTensorValue is deprecated. Please use tf.compat.v1.ragged.RaggedTensorValue instead.\n",
      "\n",
      "WARNING:tensorflow:From e:\\Programming Code\\ML_DL\\virtual\\lib\\site-packages\\keras\\src\\engine\\base_layer_utils.py:384: The name tf.executing_eagerly_outside_functions is deprecated. Please use tf.compat.v1.executing_eagerly_outside_functions instead.\n",
      "\n",
      "30/30 [==============================] - 2s 10ms/step - loss: 0.9046 - accuracy: 0.6750 - val_loss: 0.7440 - val_accuracy: 0.7000\n",
      "Epoch 2/100\n",
      "30/30 [==============================] - 0s 3ms/step - loss: 0.5911 - accuracy: 0.8500 - val_loss: 0.4968 - val_accuracy: 0.8667\n",
      "Epoch 3/100\n",
      "30/30 [==============================] - 0s 3ms/step - loss: 0.4100 - accuracy: 0.9583 - val_loss: 0.3318 - val_accuracy: 0.9667\n",
      "Epoch 4/100\n",
      "30/30 [==============================] - 0s 3ms/step - loss: 0.2898 - accuracy: 0.9500 - val_loss: 0.2713 - val_accuracy: 0.8667\n",
      "Epoch 5/100\n",
      "30/30 [==============================] - 0s 2ms/step - loss: 0.2289 - accuracy: 0.9750 - val_loss: 0.2075 - val_accuracy: 0.9667\n",
      "Epoch 6/100\n",
      "30/30 [==============================] - 0s 2ms/step - loss: 0.1838 - accuracy: 0.9583 - val_loss: 0.1603 - val_accuracy: 1.0000\n",
      "Epoch 7/100\n",
      "30/30 [==============================] - 0s 3ms/step - loss: 0.1675 - accuracy: 0.9667 - val_loss: 0.1528 - val_accuracy: 0.9667\n",
      "Epoch 8/100\n",
      "30/30 [==============================] - 0s 3ms/step - loss: 0.1314 - accuracy: 0.9667 - val_loss: 0.1573 - val_accuracy: 0.9333\n",
      "Epoch 9/100\n",
      "30/30 [==============================] - 0s 2ms/step - loss: 0.1664 - accuracy: 0.9500 - val_loss: 0.1065 - val_accuracy: 1.0000\n",
      "Epoch 10/100\n",
      "30/30 [==============================] - 0s 3ms/step - loss: 0.1289 - accuracy: 0.9750 - val_loss: 0.1010 - val_accuracy: 0.9667\n",
      "Epoch 11/100\n",
      "30/30 [==============================] - 0s 3ms/step - loss: 0.1305 - accuracy: 0.9417 - val_loss: 0.0901 - val_accuracy: 1.0000\n",
      "Epoch 12/100\n",
      "30/30 [==============================] - 0s 3ms/step - loss: 0.1327 - accuracy: 0.9583 - val_loss: 0.1150 - val_accuracy: 0.9667\n",
      "Epoch 13/100\n",
      "30/30 [==============================] - 0s 3ms/step - loss: 0.1223 - accuracy: 0.9500 - val_loss: 0.1182 - val_accuracy: 0.9667\n",
      "Epoch 14/100\n",
      "30/30 [==============================] - 0s 3ms/step - loss: 0.1578 - accuracy: 0.9417 - val_loss: 0.1579 - val_accuracy: 0.9000\n",
      "Epoch 15/100\n",
      "30/30 [==============================] - 0s 2ms/step - loss: 0.0996 - accuracy: 0.9667 - val_loss: 0.1239 - val_accuracy: 0.9333\n",
      "Epoch 16/100\n",
      "30/30 [==============================] - 0s 2ms/step - loss: 0.0984 - accuracy: 0.9667 - val_loss: 0.1806 - val_accuracy: 0.8667\n",
      "Epoch 17/100\n",
      "30/30 [==============================] - 0s 2ms/step - loss: 0.1373 - accuracy: 0.9417 - val_loss: 0.0744 - val_accuracy: 0.9667\n",
      "Epoch 18/100\n",
      "30/30 [==============================] - 0s 2ms/step - loss: 0.1242 - accuracy: 0.9583 - val_loss: 0.1390 - val_accuracy: 0.9333\n",
      "Epoch 19/100\n",
      "30/30 [==============================] - 0s 2ms/step - loss: 0.1332 - accuracy: 0.9583 - val_loss: 0.1059 - val_accuracy: 0.9667\n",
      "Epoch 20/100\n",
      "30/30 [==============================] - 0s 3ms/step - loss: 0.1373 - accuracy: 0.9333 - val_loss: 0.0694 - val_accuracy: 0.9667\n",
      "Epoch 21/100\n",
      "30/30 [==============================] - 0s 3ms/step - loss: 0.1230 - accuracy: 0.9417 - val_loss: 0.2095 - val_accuracy: 0.8667\n",
      "Epoch 22/100\n",
      "30/30 [==============================] - 0s 3ms/step - loss: 0.0732 - accuracy: 0.9833 - val_loss: 0.0832 - val_accuracy: 0.9667\n",
      "Epoch 23/100\n",
      "30/30 [==============================] - 0s 3ms/step - loss: 0.1011 - accuracy: 0.9667 - val_loss: 0.0916 - val_accuracy: 0.9667\n",
      "Epoch 24/100\n",
      "30/30 [==============================] - 0s 3ms/step - loss: 0.1016 - accuracy: 0.9667 - val_loss: 0.1411 - val_accuracy: 0.9000\n",
      "Epoch 25/100\n",
      "30/30 [==============================] - 0s 3ms/step - loss: 0.0969 - accuracy: 0.9667 - val_loss: 0.1204 - val_accuracy: 0.9000\n",
      "Epoch 26/100\n",
      "30/30 [==============================] - 0s 3ms/step - loss: 0.0854 - accuracy: 0.9750 - val_loss: 0.0593 - val_accuracy: 0.9667\n",
      "Epoch 27/100\n",
      "30/30 [==============================] - 0s 5ms/step - loss: 0.0773 - accuracy: 0.9667 - val_loss: 0.0991 - val_accuracy: 0.9667\n",
      "Epoch 28/100\n",
      "30/30 [==============================] - 0s 2ms/step - loss: 0.0912 - accuracy: 0.9667 - val_loss: 0.1038 - val_accuracy: 0.9667\n",
      "Epoch 29/100\n",
      "30/30 [==============================] - 0s 3ms/step - loss: 0.0897 - accuracy: 0.9667 - val_loss: 0.0580 - val_accuracy: 1.0000\n",
      "Epoch 30/100\n",
      "30/30 [==============================] - 0s 3ms/step - loss: 0.0996 - accuracy: 0.9583 - val_loss: 0.2336 - val_accuracy: 0.8667\n",
      "Epoch 31/100\n",
      "30/30 [==============================] - 0s 3ms/step - loss: 0.0789 - accuracy: 0.9583 - val_loss: 0.0584 - val_accuracy: 1.0000\n",
      "Epoch 32/100\n",
      "30/30 [==============================] - 0s 3ms/step - loss: 0.0851 - accuracy: 0.9667 - val_loss: 0.0581 - val_accuracy: 1.0000\n",
      "Epoch 33/100\n",
      "30/30 [==============================] - 0s 2ms/step - loss: 0.0981 - accuracy: 0.9500 - val_loss: 0.0622 - val_accuracy: 1.0000\n",
      "Epoch 34/100\n",
      "30/30 [==============================] - 0s 2ms/step - loss: 0.0851 - accuracy: 0.9667 - val_loss: 0.0643 - val_accuracy: 1.0000\n",
      "Epoch 35/100\n",
      "30/30 [==============================] - 0s 3ms/step - loss: 0.0821 - accuracy: 0.9750 - val_loss: 0.0746 - val_accuracy: 0.9667\n",
      "Epoch 36/100\n",
      "30/30 [==============================] - 0s 3ms/step - loss: 0.0826 - accuracy: 0.9667 - val_loss: 0.0811 - val_accuracy: 0.9667\n",
      "Epoch 37/100\n",
      "30/30 [==============================] - 0s 3ms/step - loss: 0.0830 - accuracy: 0.9667 - val_loss: 0.0652 - val_accuracy: 1.0000\n",
      "Epoch 38/100\n",
      "30/30 [==============================] - 0s 3ms/step - loss: 0.0829 - accuracy: 0.9667 - val_loss: 0.0614 - val_accuracy: 0.9667\n",
      "Epoch 39/100\n",
      "30/30 [==============================] - 0s 3ms/step - loss: 0.0727 - accuracy: 0.9833 - val_loss: 0.2119 - val_accuracy: 0.8667\n",
      "Epoch 40/100\n",
      "30/30 [==============================] - 0s 2ms/step - loss: 0.0853 - accuracy: 0.9583 - val_loss: 0.0593 - val_accuracy: 1.0000\n",
      "Epoch 41/100\n",
      "30/30 [==============================] - 0s 2ms/step - loss: 0.0890 - accuracy: 0.9583 - val_loss: 0.0550 - val_accuracy: 0.9667\n",
      "Epoch 42/100\n",
      "30/30 [==============================] - 0s 3ms/step - loss: 0.1021 - accuracy: 0.9500 - val_loss: 0.1653 - val_accuracy: 0.9000\n",
      "Epoch 43/100\n",
      "30/30 [==============================] - 0s 2ms/step - loss: 0.1658 - accuracy: 0.9250 - val_loss: 0.1537 - val_accuracy: 0.9000\n",
      "Epoch 44/100\n",
      "30/30 [==============================] - 0s 2ms/step - loss: 0.0770 - accuracy: 0.9667 - val_loss: 0.0917 - val_accuracy: 0.9667\n",
      "Epoch 45/100\n",
      "30/30 [==============================] - 0s 3ms/step - loss: 0.0977 - accuracy: 0.9583 - val_loss: 0.0575 - val_accuracy: 0.9667\n",
      "Epoch 46/100\n",
      "30/30 [==============================] - 0s 3ms/step - loss: 0.0951 - accuracy: 0.9667 - val_loss: 0.0719 - val_accuracy: 0.9667\n",
      "Epoch 47/100\n",
      "30/30 [==============================] - 0s 2ms/step - loss: 0.0797 - accuracy: 0.9667 - val_loss: 0.1429 - val_accuracy: 0.9000\n",
      "Epoch 48/100\n",
      "30/30 [==============================] - 0s 2ms/step - loss: 0.0852 - accuracy: 0.9750 - val_loss: 0.0657 - val_accuracy: 1.0000\n",
      "Epoch 49/100\n",
      "30/30 [==============================] - 0s 2ms/step - loss: 0.0792 - accuracy: 0.9667 - val_loss: 0.0546 - val_accuracy: 1.0000\n",
      "Epoch 50/100\n",
      "30/30 [==============================] - 0s 2ms/step - loss: 0.0946 - accuracy: 0.9500 - val_loss: 0.0861 - val_accuracy: 0.9667\n",
      "Epoch 51/100\n",
      "30/30 [==============================] - 0s 2ms/step - loss: 0.0746 - accuracy: 0.9750 - val_loss: 0.0614 - val_accuracy: 1.0000\n",
      "Epoch 52/100\n",
      "30/30 [==============================] - 0s 2ms/step - loss: 0.0679 - accuracy: 0.9750 - val_loss: 0.0684 - val_accuracy: 1.0000\n",
      "Epoch 53/100\n",
      "30/30 [==============================] - 0s 2ms/step - loss: 0.0719 - accuracy: 0.9750 - val_loss: 0.1557 - val_accuracy: 0.9000\n",
      "Epoch 54/100\n",
      "30/30 [==============================] - 0s 2ms/step - loss: 0.0765 - accuracy: 0.9833 - val_loss: 0.0825 - val_accuracy: 0.9667\n",
      "Epoch 55/100\n",
      "30/30 [==============================] - 0s 2ms/step - loss: 0.0794 - accuracy: 0.9583 - val_loss: 0.0562 - val_accuracy: 0.9667\n",
      "Epoch 56/100\n",
      "30/30 [==============================] - 0s 3ms/step - loss: 0.0775 - accuracy: 0.9583 - val_loss: 0.0648 - val_accuracy: 1.0000\n",
      "Epoch 57/100\n",
      "30/30 [==============================] - 0s 2ms/step - loss: 0.0748 - accuracy: 0.9500 - val_loss: 0.0589 - val_accuracy: 0.9667\n",
      "Epoch 58/100\n",
      "30/30 [==============================] - 0s 3ms/step - loss: 0.0726 - accuracy: 0.9833 - val_loss: 0.0578 - val_accuracy: 0.9667\n",
      "Epoch 59/100\n",
      "30/30 [==============================] - 0s 3ms/step - loss: 0.0793 - accuracy: 0.9500 - val_loss: 0.0677 - val_accuracy: 0.9667\n",
      "Epoch 60/100\n",
      "30/30 [==============================] - 0s 2ms/step - loss: 0.0889 - accuracy: 0.9750 - val_loss: 0.1296 - val_accuracy: 0.9000\n",
      "Epoch 61/100\n",
      "30/30 [==============================] - 0s 3ms/step - loss: 0.0701 - accuracy: 0.9667 - val_loss: 0.1728 - val_accuracy: 0.9000\n",
      "Epoch 62/100\n",
      "30/30 [==============================] - 0s 2ms/step - loss: 0.1276 - accuracy: 0.9500 - val_loss: 0.1398 - val_accuracy: 0.9000\n",
      "Epoch 63/100\n",
      "30/30 [==============================] - 0s 2ms/step - loss: 0.1080 - accuracy: 0.9750 - val_loss: 0.0909 - val_accuracy: 0.9667\n",
      "Epoch 64/100\n",
      "30/30 [==============================] - 0s 2ms/step - loss: 0.1102 - accuracy: 0.9583 - val_loss: 0.3048 - val_accuracy: 0.8667\n",
      "Epoch 65/100\n",
      "30/30 [==============================] - 0s 3ms/step - loss: 0.1618 - accuracy: 0.9500 - val_loss: 0.0861 - val_accuracy: 0.9667\n",
      "Epoch 66/100\n",
      "30/30 [==============================] - 0s 3ms/step - loss: 0.0969 - accuracy: 0.9750 - val_loss: 0.0716 - val_accuracy: 1.0000\n",
      "Epoch 67/100\n",
      "30/30 [==============================] - 0s 3ms/step - loss: 0.0803 - accuracy: 0.9583 - val_loss: 0.0602 - val_accuracy: 1.0000\n",
      "Epoch 68/100\n",
      "30/30 [==============================] - 0s 3ms/step - loss: 0.0842 - accuracy: 0.9750 - val_loss: 0.0656 - val_accuracy: 0.9667\n",
      "Epoch 69/100\n",
      "30/30 [==============================] - 0s 2ms/step - loss: 0.0701 - accuracy: 0.9667 - val_loss: 0.0583 - val_accuracy: 1.0000\n",
      "Epoch 70/100\n",
      "30/30 [==============================] - 0s 2ms/step - loss: 0.0728 - accuracy: 0.9833 - val_loss: 0.0915 - val_accuracy: 0.9667\n",
      "Epoch 71/100\n",
      "30/30 [==============================] - 0s 3ms/step - loss: 0.0606 - accuracy: 0.9833 - val_loss: 0.0815 - val_accuracy: 0.9667\n",
      "Epoch 72/100\n",
      "30/30 [==============================] - 0s 3ms/step - loss: 0.0721 - accuracy: 0.9833 - val_loss: 0.0886 - val_accuracy: 0.9667\n",
      "Epoch 73/100\n",
      "30/30 [==============================] - 0s 2ms/step - loss: 0.0769 - accuracy: 0.9667 - val_loss: 0.0906 - val_accuracy: 0.9667\n",
      "Epoch 74/100\n",
      "30/30 [==============================] - 0s 2ms/step - loss: 0.1253 - accuracy: 0.9500 - val_loss: 0.0810 - val_accuracy: 0.9667\n",
      "Epoch 75/100\n",
      "30/30 [==============================] - 0s 3ms/step - loss: 0.0771 - accuracy: 0.9750 - val_loss: 0.0937 - val_accuracy: 0.9667\n",
      "Epoch 76/100\n",
      "30/30 [==============================] - 0s 3ms/step - loss: 0.0858 - accuracy: 0.9583 - val_loss: 0.0626 - val_accuracy: 0.9667\n",
      "Epoch 77/100\n",
      "30/30 [==============================] - 0s 2ms/step - loss: 0.0722 - accuracy: 0.9750 - val_loss: 0.0825 - val_accuracy: 0.9667\n",
      "Epoch 78/100\n",
      "30/30 [==============================] - 0s 3ms/step - loss: 0.0726 - accuracy: 0.9667 - val_loss: 0.1227 - val_accuracy: 0.9000\n",
      "Epoch 79/100\n",
      "30/30 [==============================] - 0s 3ms/step - loss: 0.0697 - accuracy: 0.9750 - val_loss: 0.0590 - val_accuracy: 0.9667\n",
      "Epoch 80/100\n",
      "30/30 [==============================] - 0s 3ms/step - loss: 0.0682 - accuracy: 0.9667 - val_loss: 0.0642 - val_accuracy: 1.0000\n",
      "Epoch 81/100\n",
      "30/30 [==============================] - 0s 3ms/step - loss: 0.1210 - accuracy: 0.9500 - val_loss: 0.0824 - val_accuracy: 0.9667\n",
      "Epoch 82/100\n",
      "30/30 [==============================] - 0s 2ms/step - loss: 0.0614 - accuracy: 0.9833 - val_loss: 0.1172 - val_accuracy: 0.9000\n",
      "Epoch 83/100\n",
      "30/30 [==============================] - 0s 3ms/step - loss: 0.0929 - accuracy: 0.9583 - val_loss: 0.1698 - val_accuracy: 0.9000\n",
      "Epoch 84/100\n",
      "30/30 [==============================] - 0s 2ms/step - loss: 0.0800 - accuracy: 0.9667 - val_loss: 0.0642 - val_accuracy: 1.0000\n",
      "Epoch 85/100\n",
      "30/30 [==============================] - 0s 2ms/step - loss: 0.0850 - accuracy: 0.9750 - val_loss: 0.1939 - val_accuracy: 0.9000\n",
      "Epoch 86/100\n",
      "30/30 [==============================] - 0s 2ms/step - loss: 0.0913 - accuracy: 0.9500 - val_loss: 0.1415 - val_accuracy: 0.9000\n",
      "Epoch 87/100\n",
      "30/30 [==============================] - 0s 3ms/step - loss: 0.0916 - accuracy: 0.9583 - val_loss: 0.1419 - val_accuracy: 0.9000\n",
      "Epoch 88/100\n",
      "30/30 [==============================] - 0s 3ms/step - loss: 0.0614 - accuracy: 0.9750 - val_loss: 0.0594 - val_accuracy: 0.9667\n",
      "Epoch 89/100\n",
      "30/30 [==============================] - 0s 2ms/step - loss: 0.0668 - accuracy: 0.9750 - val_loss: 0.0613 - val_accuracy: 0.9667\n",
      "Epoch 90/100\n",
      "30/30 [==============================] - 0s 2ms/step - loss: 0.0767 - accuracy: 0.9750 - val_loss: 0.0754 - val_accuracy: 0.9667\n",
      "Epoch 91/100\n",
      "30/30 [==============================] - 0s 2ms/step - loss: 0.0640 - accuracy: 0.9750 - val_loss: 0.0994 - val_accuracy: 0.9333\n",
      "Epoch 92/100\n",
      "30/30 [==============================] - 0s 2ms/step - loss: 0.0779 - accuracy: 0.9583 - val_loss: 0.0647 - val_accuracy: 1.0000\n",
      "Epoch 93/100\n",
      "30/30 [==============================] - 0s 3ms/step - loss: 0.0792 - accuracy: 0.9667 - val_loss: 0.1766 - val_accuracy: 0.9000\n",
      "Epoch 94/100\n",
      "30/30 [==============================] - 0s 3ms/step - loss: 0.0530 - accuracy: 0.9750 - val_loss: 0.0668 - val_accuracy: 0.9667\n",
      "Epoch 95/100\n",
      "30/30 [==============================] - 0s 3ms/step - loss: 0.0718 - accuracy: 0.9667 - val_loss: 0.0866 - val_accuracy: 0.9667\n",
      "Epoch 96/100\n",
      "30/30 [==============================] - 0s 3ms/step - loss: 0.0666 - accuracy: 0.9750 - val_loss: 0.0579 - val_accuracy: 0.9667\n",
      "Epoch 97/100\n",
      "30/30 [==============================] - 0s 2ms/step - loss: 0.0659 - accuracy: 0.9750 - val_loss: 0.0780 - val_accuracy: 0.9667\n",
      "Epoch 98/100\n",
      "30/30 [==============================] - 0s 3ms/step - loss: 0.0712 - accuracy: 0.9667 - val_loss: 0.0716 - val_accuracy: 1.0000\n",
      "Epoch 99/100\n",
      "30/30 [==============================] - 0s 3ms/step - loss: 0.0615 - accuracy: 0.9833 - val_loss: 0.0624 - val_accuracy: 1.0000\n",
      "Epoch 100/100\n",
      "30/30 [==============================] - 0s 3ms/step - loss: 0.0871 - accuracy: 0.9583 - val_loss: 0.0582 - val_accuracy: 0.9667\n"
     ]
    }
   ],
   "source": [
    "history=model.fit(train_data,train_target,epochs=100, batch_size=4,validation_data=(valid_data,valid_target))"
   ]
  },
  {
   "cell_type": "markdown",
   "metadata": {},
   "source": [
    "### Evaluation the Algorithm"
   ]
  },
  {
   "cell_type": "code",
   "execution_count": 48,
   "metadata": {},
   "outputs": [
    {
     "data": {
      "text/plain": [
       "Text(0, 0.5, 'loss')"
      ]
     },
     "execution_count": 48,
     "metadata": {},
     "output_type": "execute_result"
    },
    {
     "data": {
      "image/png": "[encoded data removed]",
      "text/plain": [
       "<Figure size 640x480 with 1 Axes>"
      ]
     },
     "metadata": {},
     "output_type": "display_data"
    }
   ],
   "source": [
    "from matplotlib import pyplot as plt \n",
    "plt.plot(history.history['loss'],label='loss')\n",
    "plt.plot(history.history['val_loss'],label='val_loss')\n",
    "plt.legend()\n",
    "\n",
    "plt.xlabel('epoch #')\n",
    "plt.ylabel('loss')"
   ]
  },
  {
   "cell_type": "code",
   "execution_count": 49,
   "metadata": {},
   "outputs": [
    {
     "data": {
      "text/plain": [
       "Text(0, 0.5, 'accuracy')"
      ]
     },
     "execution_count": 49,
     "metadata": {},
     "output_type": "execute_result"
    },
    {
     "data": {
      "image/png": "[encoded data removed]",
      "text/plain": [
       "<Figure size 640x480 with 1 Axes>"
      ]
     },
     "metadata": {},
     "output_type": "display_data"
    }
   ],
   "source": [
    "from matplotlib import pyplot as plt \n",
    "plt.plot(history.history['accuracy'],label='accuracy')\n",
    "plt.plot(history.history['val_accuracy'],label='val_accuracy')\n",
    "plt.legend()\n",
    "\n",
    "plt.xlabel('epoch #')\n",
    "plt.ylabel('accuracy')"
   ]
  },
  {
   "cell_type": "code",
   "execution_count": 50,
   "metadata": {},
   "outputs": [
    {
     "data": {
      "text/plain": [
       "[<matplotlib.lines.Line2D at 0x20638a63c70>]"
      ]
     },
     "execution_count": 50,
     "metadata": {},
     "output_type": "execute_result"
    },
    {
     "data": {
      "image/png": "[encoded data removed]",
      "text/plain": [
       "<Figure size 640x480 with 1 Axes>"
      ]
     },
     "metadata": {},
     "output_type": "display_data"
    }
   ],
   "source": [
    "plt.plot(history.history['accuracy'])"
   ]
  },
  {
   "cell_type": "code",
   "execution_count": 51,
   "metadata": {},
   "outputs": [
    {
     "name": "stdout",
     "output_type": "stream",
     "text": [
      "1/1 [==============================] - 0s 86ms/step\n"
     ]
    }
   ],
   "source": [
    "preicted_target=model.predict(valid_data)"
   ]
  },
  {
   "cell_type": "code",
   "execution_count": 53,
   "metadata": {},
   "outputs": [
    {
     "name": "stdout",
     "output_type": "stream",
     "text": [
      "Actual results:  [[0. 1. 0.]\n",
      " [1. 0. 0.]\n",
      " [0. 0. 1.]\n",
      " [0. 1. 0.]\n",
      " [0. 1. 0.]\n",
      " [1. 0. 0.]\n",
      " [0. 1. 0.]\n",
      " [0. 0. 1.]\n",
      " [0. 1. 0.]\n",
      " [0. 1. 0.]\n",
      " [0. 0. 1.]\n",
      " [1. 0. 0.]\n",
      " [1. 0. 0.]\n",
      " [1. 0. 0.]\n",
      " [1. 0. 0.]\n",
      " [0. 1. 0.]\n",
      " [0. 0. 1.]\n",
      " [0. 1. 0.]\n",
      " [0. 1. 0.]\n",
      " [0. 0. 1.]\n",
      " [1. 0. 0.]\n",
      " [0. 0. 1.]\n",
      " [1. 0. 0.]\n",
      " [0. 0. 1.]\n",
      " [0. 0. 1.]\n",
      " [0. 0. 1.]\n",
      " [0. 0. 1.]\n",
      " [0. 0. 1.]\n",
      " [1. 0. 0.]\n",
      " [1. 0. 0.]]\n",
      "Predicted results:  [[3.1208474e-04 9.9554503e-01 4.1428558e-03]\n",
      " [9.9995816e-01 4.1850919e-05 1.1050563e-10]\n",
      " [1.0690375e-08 8.2227067e-05 9.9991775e-01]\n",
      " [4.8098300e-04 9.8596674e-01 1.3552233e-02]\n",
      " [1.3960386e-04 9.9747378e-01 2.3865898e-03]\n",
      " [9.9991953e-01 8.0404890e-05 4.1500675e-10]\n",
      " [6.5758970e-04 9.9929893e-01 4.3409942e-05]\n",
      " [2.7553582e-05 6.2696077e-02 9.3727630e-01]\n",
      " [2.1738648e-04 4.5663834e-01 5.4314429e-01]\n",
      " [3.7480696e-04 9.9950290e-01 1.2223773e-04]\n",
      " [1.1176674e-04 2.0835775e-01 7.9153055e-01]\n",
      " [9.9983835e-01 1.6158479e-04 2.2073561e-09]\n",
      " [9.9998188e-01 1.8094908e-05 5.3891228e-11]\n",
      " [9.9983251e-01 1.6746070e-04 1.9510487e-09]\n",
      " [9.9994981e-01 5.0223596e-05 3.7542888e-10]\n",
      " [3.1565392e-04 9.9743336e-01 2.2509939e-03]\n",
      " [1.1775674e-06 1.2809655e-03 9.9871790e-01]\n",
      " [4.8335522e-04 9.9917942e-01 3.3721310e-04]\n",
      " [6.1485160e-04 9.8349762e-01 1.5887544e-02]\n",
      " [1.1277232e-06 1.0990963e-03 9.9889982e-01]\n",
      " [9.9966204e-01 3.3801363e-04 6.6325003e-09]\n",
      " [2.0312904e-04 2.6716751e-01 7.3262930e-01]\n",
      " [9.9978167e-01 2.1831635e-04 2.6583946e-09]\n",
      " [1.6298172e-06 1.6010994e-03 9.9839717e-01]\n",
      " [2.2438833e-05 2.4992490e-01 7.5005269e-01]\n",
      " [8.9102132e-06 1.3759256e-02 9.8623186e-01]\n",
      " [1.3023857e-06 2.3967142e-03 9.9760205e-01]\n",
      " [1.1677121e-06 1.6311415e-03 9.9836773e-01]\n",
      " [9.9975914e-01 2.4082350e-04 3.9353338e-09]\n",
      " [9.9965215e-01 3.4789677e-04 5.7925864e-09]]\n"
     ]
    }
   ],
   "source": [
    "print('Actual results: ',valid_target)\n",
    "print('Predicted results: ',preicted_target)"
   ]
  },
  {
   "cell_type": "code",
   "execution_count": 54,
   "metadata": {},
   "outputs": [
    {
     "name": "stdout",
     "output_type": "stream",
     "text": [
      "Actual results: [1 0 2 1 1 0 1 2 1 1 2 0 0 0 0 1 2 1 1 2 0 2 0 2 2 2 2 2 0 0]\n",
      "Predicted results: [1 0 2 1 1 0 1 2 2 1 2 0 0 0 0 1 2 1 1 2 0 2 0 2 2 2 2 2 0 0]\n"
     ]
    }
   ],
   "source": [
    "import numpy as np\n",
    "\n",
    "valid_labels=np.argmax(valid_target,axis=1)\n",
    "predicted_labels=np.argmax(preicted_target,axis=1)\n",
    "print('Actual results:',np.argmax(valid_target,axis=1))\n",
    "print('Predicted results:', np.argmax(preicted_target,axis=1))"
   ]
  },
  {
   "cell_type": "code",
   "execution_count": 56,
   "metadata": {},
   "outputs": [
    {
     "name": "stdout",
     "output_type": "stream",
     "text": [
      "0.9666666666666667\n"
     ]
    }
   ],
   "source": [
    "from sklearn.metrics import accuracy_score\n",
    "\n",
    "valid_acc=accuracy_score(valid_labels,predicted_labels)\n",
    "print(valid_acc)"
   ]
  },
  {
   "cell_type": "code",
   "execution_count": 57,
   "metadata": {},
   "outputs": [
    {
     "name": "stdout",
     "output_type": "stream",
     "text": [
      "INFO:tensorflow:Assets written to: model/iris-model-v01.model\\assets\n"
     ]
    },
    {
     "name": "stderr",
     "output_type": "stream",
     "text": [
      "INFO:tensorflow:Assets written to: model/iris-model-v01.model\\assets\n"
     ]
    }
   ],
   "source": [
    "model.save('model/iris-model-v01.model')"
   ]
  },
  {
   "cell_type": "code",
   "execution_count": 58,
   "metadata": {},
   "outputs": [
    {
     "name": "stdout",
     "output_type": "stream",
     "text": [
      "WARNING:tensorflow:From e:\\Programming Code\\ML_DL\\virtual\\lib\\site-packages\\keras\\src\\saving\\legacy\\saved_model\\load.py:107: The name tf.gfile.Exists is deprecated. Please use tf.io.gfile.exists instead.\n",
      "\n"
     ]
    },
    {
     "name": "stderr",
     "output_type": "stream",
     "text": [
      "WARNING:tensorflow:From e:\\Programming Code\\ML_DL\\virtual\\lib\\site-packages\\keras\\src\\saving\\legacy\\saved_model\\load.py:107: The name tf.gfile.Exists is deprecated. Please use tf.io.gfile.exists instead.\n",
      "\n"
     ]
    }
   ],
   "source": [
    "# load model\n",
    "from keras.models import load_model\n",
    "\n",
    "model=load_model('model/iris-model-v01.model')"
   ]
  },
  {
   "cell_type": "code",
   "execution_count": 61,
   "metadata": {},
   "outputs": [
    {
     "name": "stdout",
     "output_type": "stream",
     "text": [
      "(4,)\n",
      "(1, 4)\n"
     ]
    }
   ],
   "source": [
    "test_data=[0.2,1.5,1.5,0.6]\n",
    "test_data=np.array(test_data)\n",
    "print(test_data.shape)\n",
    "test_data=test_data.reshape(1,-1)\n",
    "print(test_data.shape)"
   ]
  },
  {
   "cell_type": "code",
   "execution_count": 62,
   "metadata": {},
   "outputs": [
    {
     "name": "stdout",
     "output_type": "stream",
     "text": [
      "1/1 [==============================] - 0s 363ms/step\n"
     ]
    }
   ],
   "source": [
    "predicted_target=model.predict(test_data)"
   ]
  },
  {
   "cell_type": "code",
   "execution_count": 63,
   "metadata": {},
   "outputs": [
    {
     "name": "stdout",
     "output_type": "stream",
     "text": [
      "[[0.12023964 0.72166413 0.15809628]]\n",
      "[1]\n"
     ]
    }
   ],
   "source": [
    "print(predicted_target)\n",
    "predicted_label=np.argmax(predicted_target,axis=1)\n",
    "print(predicted_label)"
   ]
  },
  {
   "cell_type": "code",
   "execution_count": 64,
   "metadata": {},
   "outputs": [],
   "source": [
    "model.save_weights('iris-model-v01.h5')"
   ]
  },
  {
   "cell_type": "code",
   "execution_count": 65,
   "metadata": {},
   "outputs": [],
   "source": [
    "model.load_weights('iris-model-v01.h5')"
   ]
  },
  {
   "cell_type": "code",
   "execution_count": null,
   "metadata": {},
   "outputs": [],
   "source": []
  }
 ],
 "metadata": {
  "kernelspec": {
   "display_name": "virtual",
   "language": "python",
   "name": "python3"
  },
  "language_info": {
   "codemirror_mode": {
    "name": "ipython",
    "version": 3
   },
   "file_extension": ".py",
   "mimetype": "text/x-python",
   "name": "python",
   "nbconvert_exporter": "python",
   "pygments_lexer": "ipython3",
   "version": "3.10.7"
  }
 },
 "nbformat": 4,
 "nbformat_minor": 2
}
