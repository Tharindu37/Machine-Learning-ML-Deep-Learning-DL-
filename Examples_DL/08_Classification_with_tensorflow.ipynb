{
 "cells": [
  {
   "cell_type": "markdown",
   "metadata": {},
   "source": [
    "### Classification with TensorFlow"
   ]
  },
  {
   "cell_type": "code",
   "execution_count": 134,
   "metadata": {},
   "outputs": [
    {
     "name": "stdout",
     "output_type": "stream",
     "text": [
      "Requirement already satisfied: opendatasets in e:\\programming code\\ml_dl\\virtual\\lib\\site-packages (0.1.22)\n",
      "Requirement already satisfied: kaggle in e:\\programming code\\ml_dl\\virtual\\lib\\site-packages (from opendatasets) (1.6.5)\n",
      "Requirement already satisfied: tqdm in e:\\programming code\\ml_dl\\virtual\\lib\\site-packages (from opendatasets) (4.66.2)\n",
      "Requirement already satisfied: click in e:\\programming code\\ml_dl\\virtual\\lib\\site-packages (from opendatasets) (8.1.7)\n",
      "Requirement already satisfied: colorama in e:\\programming code\\ml_dl\\virtual\\lib\\site-packages (from click->opendatasets) (0.4.6)\n",
      "Requirement already satisfied: certifi in e:\\programming code\\ml_dl\\virtual\\lib\\site-packages (from kaggle->opendatasets) (2024.2.2)\n",
      "Requirement already satisfied: bleach in e:\\programming code\\ml_dl\\virtual\\lib\\site-packages (from kaggle->opendatasets) (6.1.0)\n",
      "Requirement already satisfied: python-dateutil in e:\\programming code\\ml_dl\\virtual\\lib\\site-packages (from kaggle->opendatasets) (2.8.2)\n",
      "Requirement already satisfied: six>=1.10 in e:\\programming code\\ml_dl\\virtual\\lib\\site-packages (from kaggle->opendatasets) (1.16.0)\n",
      "Requirement already satisfied: urllib3 in e:\\programming code\\ml_dl\\virtual\\lib\\site-packages (from kaggle->opendatasets) (2.2.0)\n",
      "Requirement already satisfied: requests in e:\\programming code\\ml_dl\\virtual\\lib\\site-packages (from kaggle->opendatasets) (2.31.0)\n",
      "Requirement already satisfied: python-slugify in e:\\programming code\\ml_dl\\virtual\\lib\\site-packages (from kaggle->opendatasets) (8.0.4)\n",
      "Requirement already satisfied: webencodings in e:\\programming code\\ml_dl\\virtual\\lib\\site-packages (from bleach->kaggle->opendatasets) (0.5.1)\n",
      "Requirement already satisfied: text-unidecode>=1.3 in e:\\programming code\\ml_dl\\virtual\\lib\\site-packages (from python-slugify->kaggle->opendatasets) (1.3)\n",
      "Requirement already satisfied: charset-normalizer<4,>=2 in e:\\programming code\\ml_dl\\virtual\\lib\\site-packages (from requests->kaggle->opendatasets) (3.3.2)\n",
      "Requirement already satisfied: idna<4,>=2.5 in e:\\programming code\\ml_dl\\virtual\\lib\\site-packages (from requests->kaggle->opendatasets) (3.6)\n"
     ]
    },
    {
     "name": "stderr",
     "output_type": "stream",
     "text": [
      "\n",
      "[notice] A new release of pip available: 22.2.2 -> 24.0\n",
      "[notice] To update, run: python.exe -m pip install --upgrade pip\n"
     ]
    }
   ],
   "source": [
    "!pip install opendatasets"
   ]
  },
  {
   "cell_type": "code",
   "execution_count": 135,
   "metadata": {},
   "outputs": [],
   "source": [
    "import pandas as pd\n",
    "import matplotlib.pyplot as plt\n",
    "import tensorflow as tf\n",
    "import opendatasets as od"
   ]
  },
  {
   "cell_type": "code",
   "execution_count": 136,
   "metadata": {},
   "outputs": [],
   "source": [
    "#od.download('https://www.kaggle.com/datasets/saranpannasuriyaporn/male-female-height-and-weight')"
   ]
  },
  {
   "cell_type": "code",
   "execution_count": 137,
   "metadata": {},
   "outputs": [
    {
     "data": {
      "text/html": [
       "<div>\n",
       "<style scoped>\n",
       "    .dataframe tbody tr th:only-of-type {\n",
       "        vertical-align: middle;\n",
       "    }\n",
       "\n",
       "    .dataframe tbody tr th {\n",
       "        vertical-align: top;\n",
       "    }\n",
       "\n",
       "    .dataframe thead th {\n",
       "        text-align: right;\n",
       "    }\n",
       "</style>\n",
       "<table border=\"1\" class=\"dataframe\">\n",
       "  <thead>\n",
       "    <tr style=\"text-align: right;\">\n",
       "      <th></th>\n",
       "      <th>Height</th>\n",
       "      <th>Weight</th>\n",
       "      <th>Sex</th>\n",
       "    </tr>\n",
       "  </thead>\n",
       "  <tbody>\n",
       "    <tr>\n",
       "      <th>0</th>\n",
       "      <td>146.323241</td>\n",
       "      <td>59.861065</td>\n",
       "      <td>Female</td>\n",
       "    </tr>\n",
       "    <tr>\n",
       "      <th>1</th>\n",
       "      <td>175.695412</td>\n",
       "      <td>77.863687</td>\n",
       "      <td>Male</td>\n",
       "    </tr>\n",
       "    <tr>\n",
       "      <th>2</th>\n",
       "      <td>183.216164</td>\n",
       "      <td>72.131992</td>\n",
       "      <td>Male</td>\n",
       "    </tr>\n",
       "    <tr>\n",
       "      <th>3</th>\n",
       "      <td>184.245269</td>\n",
       "      <td>77.546000</td>\n",
       "      <td>Male</td>\n",
       "    </tr>\n",
       "    <tr>\n",
       "      <th>4</th>\n",
       "      <td>132.302261</td>\n",
       "      <td>55.188496</td>\n",
       "      <td>Female</td>\n",
       "    </tr>\n",
       "  </tbody>\n",
       "</table>\n",
       "</div>"
      ],
      "text/plain": [
       "       Height     Weight     Sex\n",
       "0  146.323241  59.861065  Female\n",
       "1  175.695412  77.863687    Male\n",
       "2  183.216164  72.131992    Male\n",
       "3  184.245269  77.546000    Male\n",
       "4  132.302261  55.188496  Female"
      ]
     },
     "execution_count": 137,
     "metadata": {},
     "output_type": "execute_result"
    }
   ],
   "source": [
    "data=pd.read_csv('data/dataset_classification.csv')\n",
    "data.head(5)"
   ]
  },
  {
   "cell_type": "code",
   "execution_count": 138,
   "metadata": {},
   "outputs": [],
   "source": [
    "data.loc[data['Sex']=='Male','Sex']=1\n",
    "data.loc[data['Sex']=='Female','Sex']=0"
   ]
  },
  {
   "cell_type": "code",
   "execution_count": 139,
   "metadata": {},
   "outputs": [
    {
     "data": {
      "text/html": [
       "<div>\n",
       "<style scoped>\n",
       "    .dataframe tbody tr th:only-of-type {\n",
       "        vertical-align: middle;\n",
       "    }\n",
       "\n",
       "    .dataframe tbody tr th {\n",
       "        vertical-align: top;\n",
       "    }\n",
       "\n",
       "    .dataframe thead th {\n",
       "        text-align: right;\n",
       "    }\n",
       "</style>\n",
       "<table border=\"1\" class=\"dataframe\">\n",
       "  <thead>\n",
       "    <tr style=\"text-align: right;\">\n",
       "      <th></th>\n",
       "      <th>Height</th>\n",
       "      <th>Weight</th>\n",
       "      <th>Sex</th>\n",
       "    </tr>\n",
       "  </thead>\n",
       "  <tbody>\n",
       "    <tr>\n",
       "      <th>0</th>\n",
       "      <td>146.323241</td>\n",
       "      <td>59.861065</td>\n",
       "      <td>0</td>\n",
       "    </tr>\n",
       "    <tr>\n",
       "      <th>1</th>\n",
       "      <td>175.695412</td>\n",
       "      <td>77.863687</td>\n",
       "      <td>1</td>\n",
       "    </tr>\n",
       "    <tr>\n",
       "      <th>2</th>\n",
       "      <td>183.216164</td>\n",
       "      <td>72.131992</td>\n",
       "      <td>1</td>\n",
       "    </tr>\n",
       "    <tr>\n",
       "      <th>3</th>\n",
       "      <td>184.245269</td>\n",
       "      <td>77.546000</td>\n",
       "      <td>1</td>\n",
       "    </tr>\n",
       "    <tr>\n",
       "      <th>4</th>\n",
       "      <td>132.302261</td>\n",
       "      <td>55.188496</td>\n",
       "      <td>0</td>\n",
       "    </tr>\n",
       "  </tbody>\n",
       "</table>\n",
       "</div>"
      ],
      "text/plain": [
       "       Height     Weight Sex\n",
       "0  146.323241  59.861065   0\n",
       "1  175.695412  77.863687   1\n",
       "2  183.216164  72.131992   1\n",
       "3  184.245269  77.546000   1\n",
       "4  132.302261  55.188496   0"
      ]
     },
     "execution_count": 139,
     "metadata": {},
     "output_type": "execute_result"
    }
   ],
   "source": [
    "data.head(5)"
   ]
  },
  {
   "cell_type": "code",
   "execution_count": 140,
   "metadata": {},
   "outputs": [],
   "source": [
    "X=data.drop(['Sex'],axis=1)\n",
    "y=data['Sex']"
   ]
  },
  {
   "cell_type": "code",
   "execution_count": 141,
   "metadata": {},
   "outputs": [],
   "source": [
    "from sklearn.preprocessing import MinMaxScaler\n",
    "scaler= MinMaxScaler()\n",
    "x_scaled=scaler.fit_transform(X)\n",
    "X=pd.DataFrame(x_scaled,columns=['Height','Weight'])"
   ]
  },
  {
   "cell_type": "code",
   "execution_count": 142,
   "metadata": {},
   "outputs": [
    {
     "data": {
      "text/html": [
       "<div>\n",
       "<style scoped>\n",
       "    .dataframe tbody tr th:only-of-type {\n",
       "        vertical-align: middle;\n",
       "    }\n",
       "\n",
       "    .dataframe tbody tr th {\n",
       "        vertical-align: top;\n",
       "    }\n",
       "\n",
       "    .dataframe thead th {\n",
       "        text-align: right;\n",
       "    }\n",
       "</style>\n",
       "<table border=\"1\" class=\"dataframe\">\n",
       "  <thead>\n",
       "    <tr style=\"text-align: right;\">\n",
       "      <th></th>\n",
       "      <th>Height</th>\n",
       "      <th>Weight</th>\n",
       "    </tr>\n",
       "  </thead>\n",
       "  <tbody>\n",
       "    <tr>\n",
       "      <th>0</th>\n",
       "      <td>0.305685</td>\n",
       "      <td>0.265457</td>\n",
       "    </tr>\n",
       "    <tr>\n",
       "      <th>1</th>\n",
       "      <td>0.690767</td>\n",
       "      <td>0.455592</td>\n",
       "    </tr>\n",
       "    <tr>\n",
       "      <th>2</th>\n",
       "      <td>0.789367</td>\n",
       "      <td>0.395057</td>\n",
       "    </tr>\n",
       "    <tr>\n",
       "      <th>3</th>\n",
       "      <td>0.802859</td>\n",
       "      <td>0.452237</td>\n",
       "    </tr>\n",
       "    <tr>\n",
       "      <th>4</th>\n",
       "      <td>0.121865</td>\n",
       "      <td>0.216108</td>\n",
       "    </tr>\n",
       "  </tbody>\n",
       "</table>\n",
       "</div>"
      ],
      "text/plain": [
       "     Height    Weight\n",
       "0  0.305685  0.265457\n",
       "1  0.690767  0.455592\n",
       "2  0.789367  0.395057\n",
       "3  0.802859  0.452237\n",
       "4  0.121865  0.216108"
      ]
     },
     "execution_count": 142,
     "metadata": {},
     "output_type": "execute_result"
    }
   ],
   "source": [
    "X.head(5)"
   ]
  },
  {
   "cell_type": "code",
   "execution_count": 143,
   "metadata": {},
   "outputs": [],
   "source": [
    "y=y.astype('int')"
   ]
  },
  {
   "cell_type": "code",
   "execution_count": 144,
   "metadata": {},
   "outputs": [
    {
     "data": {
      "text/plain": [
       "0    0\n",
       "1    1\n",
       "2    1\n",
       "3    1\n",
       "4    0\n",
       "Name: Sex, dtype: int32"
      ]
     },
     "execution_count": 144,
     "metadata": {},
     "output_type": "execute_result"
    }
   ],
   "source": [
    "y[:5]"
   ]
  },
  {
   "cell_type": "code",
   "execution_count": 145,
   "metadata": {},
   "outputs": [
    {
     "data": {
      "image/png": "[encoded data removed]",
      "text/plain": [
       "<Figure size 640x480 with 2 Axes>"
      ]
     },
     "metadata": {},
     "output_type": "display_data"
    }
   ],
   "source": [
    "plt.scatter(X['Height'],X['Weight'],c=y)\n",
    "plt.colorbar()\n",
    "plt.show()"
   ]
  },
  {
   "cell_type": "code",
   "execution_count": 146,
   "metadata": {},
   "outputs": [],
   "source": [
    "from sklearn.model_selection import train_test_split\n",
    "X_train,X_test,y_train,y_test=train_test_split(X,y,test_size=0.2,random_state=42)"
   ]
  },
  {
   "cell_type": "code",
   "execution_count": 147,
   "metadata": {},
   "outputs": [
    {
     "data": {
      "text/plain": [
       "((164, 2), (41, 2))"
      ]
     },
     "execution_count": 147,
     "metadata": {},
     "output_type": "execute_result"
    }
   ],
   "source": [
    "X_train.shape, X_test.shape"
   ]
  },
  {
   "cell_type": "code",
   "execution_count": 148,
   "metadata": {},
   "outputs": [
    {
     "data": {
      "text/plain": [
       "(205, 3)"
      ]
     },
     "execution_count": 148,
     "metadata": {},
     "output_type": "execute_result"
    }
   ],
   "source": [
    "data.shape"
   ]
  },
  {
   "cell_type": "markdown",
   "metadata": {},
   "source": [
    "<h5>Model Building</h5>"
   ]
  },
  {
   "cell_type": "code",
   "execution_count": 149,
   "metadata": {},
   "outputs": [
    {
     "name": "stderr",
     "output_type": "stream",
     "text": [
      "WARNING:absl:`lr` is deprecated in Keras optimizer, please use `learning_rate` or use the legacy optimizer, e.g.,tf.keras.optimizers.legacy.Adam.\n"
     ]
    },
    {
     "name": "stdout",
     "output_type": "stream",
     "text": [
      "Epoch 1/20\n",
      "6/6 [==============================] - 1s 3ms/step - loss: 0.7032 - accuracy: 0.4390\n",
      "Epoch 2/20\n",
      "6/6 [==============================] - 0s 3ms/step - loss: 0.6892 - accuracy: 0.5122\n",
      "Epoch 3/20\n",
      "6/6 [==============================] - 0s 2ms/step - loss: 0.6745 - accuracy: 0.5244\n",
      "Epoch 4/20\n",
      "6/6 [==============================] - 0s 2ms/step - loss: 0.6625 - accuracy: 0.5244\n",
      "Epoch 5/20\n",
      "6/6 [==============================] - 0s 3ms/step - loss: 0.6521 - accuracy: 0.5366\n",
      "Epoch 6/20\n",
      "6/6 [==============================] - 0s 2ms/step - loss: 0.6411 - accuracy: 0.5427\n",
      "Epoch 7/20\n",
      "6/6 [==============================] - 0s 2ms/step - loss: 0.6270 - accuracy: 0.5915\n",
      "Epoch 8/20\n",
      "6/6 [==============================] - 0s 3ms/step - loss: 0.6136 - accuracy: 0.6037\n",
      "Epoch 9/20\n",
      "6/6 [==============================] - 0s 3ms/step - loss: 0.5986 - accuracy: 0.6585\n",
      "Epoch 10/20\n",
      "6/6 [==============================] - 0s 3ms/step - loss: 0.5835 - accuracy: 0.6951\n",
      "Epoch 11/20\n",
      "6/6 [==============================] - 0s 2ms/step - loss: 0.5714 - accuracy: 0.7744\n",
      "Epoch 12/20\n",
      "6/6 [==============================] - 0s 2ms/step - loss: 0.5563 - accuracy: 0.7683\n",
      "Epoch 13/20\n",
      "6/6 [==============================] - 0s 2ms/step - loss: 0.5365 - accuracy: 0.7744\n",
      "Epoch 14/20\n",
      "6/6 [==============================] - 0s 3ms/step - loss: 0.5176 - accuracy: 0.7927\n",
      "Epoch 15/20\n",
      "6/6 [==============================] - 0s 2ms/step - loss: 0.4964 - accuracy: 0.7866\n",
      "Epoch 16/20\n",
      "6/6 [==============================] - 0s 2ms/step - loss: 0.4787 - accuracy: 0.7866\n",
      "Epoch 17/20\n",
      "6/6 [==============================] - 0s 2ms/step - loss: 0.4614 - accuracy: 0.7927\n",
      "Epoch 18/20\n",
      "6/6 [==============================] - 0s 2ms/step - loss: 0.4393 - accuracy: 0.8049\n",
      "Epoch 19/20\n",
      "6/6 [==============================] - 0s 2ms/step - loss: 0.4196 - accuracy: 0.8232\n",
      "Epoch 20/20\n",
      "6/6 [==============================] - 0s 2ms/step - loss: 0.4031 - accuracy: 0.8110\n"
     ]
    }
   ],
   "source": [
    "# create a model\n",
    "model= tf.keras.Sequential([\n",
    "    tf.keras.layers.Dense(4,activation='relu', input_shape=(2,)),\n",
    "    tf.keras.layers.Dense(16,activation='relu'),\n",
    "    tf.keras.layers.Dense(64,activation='relu'),\n",
    "    tf.keras.layers.Dense(32,activation='relu'),\n",
    "    tf.keras.layers.Dense(1,activation='sigmoid')\n",
    "    # tf.keras.layers.Dense(2,activation='softmax')\n",
    "])\n",
    "\n",
    "#compile model\n",
    "model.compile(loss=tf.keras.losses.BinaryCrossentropy(),\n",
    "              optimizer=tf.keras.optimizers.Adam(lr=0.1),\n",
    "              metrics=['accuracy'])\n",
    "# model.compile(loss=tf.keras.losses.SparseCategoricalCrossentropy(),\n",
    "#               optimizer=tf.keras.optimizers.Adam(lr=0.1),\n",
    "#               metrics=['accuracy'])\n",
    "\n",
    "# train model\n",
    "history=model.fit(X_train, y_train, epochs=20)"
   ]
  },
  {
   "cell_type": "code",
   "execution_count": 150,
   "metadata": {},
   "outputs": [
    {
     "name": "stdout",
     "output_type": "stream",
     "text": [
      "<class 'pandas.core.frame.DataFrame'>\n",
      "Index: 164 entries, 66 to 102\n",
      "Data columns (total 2 columns):\n",
      " #   Column  Non-Null Count  Dtype  \n",
      "---  ------  --------------  -----  \n",
      " 0   Height  164 non-null    float64\n",
      " 1   Weight  164 non-null    float64\n",
      "dtypes: float64(2)\n",
      "memory usage: 3.8 KB\n"
     ]
    }
   ],
   "source": [
    "X_train.info()"
   ]
  },
  {
   "cell_type": "code",
   "execution_count": 151,
   "metadata": {},
   "outputs": [
    {
     "data": {
      "text/plain": [
       "dtype('int32')"
      ]
     },
     "execution_count": 151,
     "metadata": {},
     "output_type": "execute_result"
    }
   ],
   "source": [
    "y_train.dtype"
   ]
  },
  {
   "cell_type": "code",
   "execution_count": 152,
   "metadata": {},
   "outputs": [
    {
     "name": "stdout",
     "output_type": "stream",
     "text": [
      "Model: \"sequential_29\"\n",
      "_________________________________________________________________\n",
      " Layer (type)                Output Shape              Param #   \n",
      "=================================================================\n",
      " dense_101 (Dense)           (None, 4)                 12        \n",
      "                                                                 \n",
      " dense_102 (Dense)           (None, 16)                80        \n",
      "                                                                 \n",
      " dense_103 (Dense)           (None, 64)                1088      \n",
      "                                                                 \n",
      " dense_104 (Dense)           (None, 32)                2080      \n",
      "                                                                 \n",
      " dense_105 (Dense)           (None, 1)                 33        \n",
      "                                                                 \n",
      "=================================================================\n",
      "Total params: 3293 (12.86 KB)\n",
      "Trainable params: 3293 (12.86 KB)\n",
      "Non-trainable params: 0 (0.00 Byte)\n",
      "_________________________________________________________________\n"
     ]
    }
   ],
   "source": [
    "model.summary()"
   ]
  },
  {
   "cell_type": "markdown",
   "metadata": {},
   "source": [
    "<h5>Model Evaluate</h5>"
   ]
  },
  {
   "cell_type": "code",
   "execution_count": 153,
   "metadata": {},
   "outputs": [
    {
     "name": "stdout",
     "output_type": "stream",
     "text": [
      "WARNING:tensorflow:5 out of the last 9 calls to <function Model.make_test_function.<locals>.test_function at 0x00000232B468DAB0> triggered tf.function retracing. Tracing is expensive and the excessive number of tracings could be due to (1) creating @tf.function repeatedly in a loop, (2) passing tensors with different shapes, (3) passing Python objects instead of tensors. For (1), please define your @tf.function outside of the loop. For (2), @tf.function has reduce_retracing=True option that can avoid unnecessary retracing. For (3), please refer to https://www.tensorflow.org/guide/function#controlling_retracing and https://www.tensorflow.org/api_docs/python/tf/function for  more details.\n"
     ]
    },
    {
     "name": "stderr",
     "output_type": "stream",
     "text": [
      "WARNING:tensorflow:5 out of the last 9 calls to <function Model.make_test_function.<locals>.test_function at 0x00000232B468DAB0> triggered tf.function retracing. Tracing is expensive and the excessive number of tracings could be due to (1) creating @tf.function repeatedly in a loop, (2) passing tensors with different shapes, (3) passing Python objects instead of tensors. For (1), please define your @tf.function outside of the loop. For (2), @tf.function has reduce_retracing=True option that can avoid unnecessary retracing. For (3), please refer to https://www.tensorflow.org/guide/function#controlling_retracing and https://www.tensorflow.org/api_docs/python/tf/function for  more details.\n"
     ]
    },
    {
     "name": "stdout",
     "output_type": "stream",
     "text": [
      "2/2 [==============================] - 0s 4ms/step - loss: 0.4031 - accuracy: 0.8537\n"
     ]
    },
    {
     "data": {
      "text/plain": [
       "[0.403117299079895, 0.8536585569381714]"
      ]
     },
     "execution_count": 153,
     "metadata": {},
     "output_type": "execute_result"
    }
   ],
   "source": [
    "model.evaluate(X_test,y_test)"
   ]
  },
  {
   "cell_type": "code",
   "execution_count": 154,
   "metadata": {},
   "outputs": [
    {
     "name": "stdout",
     "output_type": "stream",
     "text": [
      "WARNING:tensorflow:5 out of the last 9 calls to <function Model.make_predict_function.<locals>.predict_function at 0x00000232A12D6B90> triggered tf.function retracing. Tracing is expensive and the excessive number of tracings could be due to (1) creating @tf.function repeatedly in a loop, (2) passing tensors with different shapes, (3) passing Python objects instead of tensors. For (1), please define your @tf.function outside of the loop. For (2), @tf.function has reduce_retracing=True option that can avoid unnecessary retracing. For (3), please refer to https://www.tensorflow.org/guide/function#controlling_retracing and https://www.tensorflow.org/api_docs/python/tf/function for  more details.\n"
     ]
    },
    {
     "name": "stderr",
     "output_type": "stream",
     "text": [
      "WARNING:tensorflow:5 out of the last 9 calls to <function Model.make_predict_function.<locals>.predict_function at 0x00000232A12D6B90> triggered tf.function retracing. Tracing is expensive and the excessive number of tracings could be due to (1) creating @tf.function repeatedly in a loop, (2) passing tensors with different shapes, (3) passing Python objects instead of tensors. For (1), please define your @tf.function outside of the loop. For (2), @tf.function has reduce_retracing=True option that can avoid unnecessary retracing. For (3), please refer to https://www.tensorflow.org/guide/function#controlling_retracing and https://www.tensorflow.org/api_docs/python/tf/function for  more details.\n"
     ]
    },
    {
     "name": "stdout",
     "output_type": "stream",
     "text": [
      "2/2 [==============================] - 0s 2ms/step\n"
     ]
    }
   ],
   "source": [
    "y_pred=model.predict(X_test)"
   ]
  },
  {
   "cell_type": "code",
   "execution_count": 155,
   "metadata": {},
   "outputs": [
    {
     "data": {
      "text/plain": [
       "array([[0.26523027],\n",
       "       [0.9036169 ],\n",
       "       [0.93529576],\n",
       "       [0.5477714 ],\n",
       "       [0.7287747 ]], dtype=float32)"
      ]
     },
     "execution_count": 155,
     "metadata": {},
     "output_type": "execute_result"
    }
   ],
   "source": [
    "y_pred[:5]"
   ]
  },
  {
   "cell_type": "code",
   "execution_count": 156,
   "metadata": {},
   "outputs": [],
   "source": [
    "# import numpy as np\n",
    "# y_pred=np.argmax(y_pred,axis=1)\n",
    "# y_pred[:5]"
   ]
  },
  {
   "cell_type": "code",
   "execution_count": 157,
   "metadata": {},
   "outputs": [
    {
     "data": {
      "text/plain": [
       "15     0\n",
       "9      1\n",
       "100    1\n",
       "132    0\n",
       "68     1\n",
       "Name: Sex, dtype: int32"
      ]
     },
     "execution_count": 157,
     "metadata": {},
     "output_type": "execute_result"
    }
   ],
   "source": [
    "y_test[:5]"
   ]
  },
  {
   "cell_type": "code",
   "execution_count": 158,
   "metadata": {},
   "outputs": [
    {
     "data": {
      "text/plain": [
       "<tf.Tensor: shape=(), dtype=float32, numpy=0.7692308>"
      ]
     },
     "execution_count": 158,
     "metadata": {},
     "output_type": "execute_result"
    }
   ],
   "source": [
    "# Precission\n",
    "precision=tf.keras.metrics.Precision()\n",
    "precision.update_state(y_test,y_pred)\n",
    "precision.result()"
   ]
  },
  {
   "cell_type": "code",
   "execution_count": 159,
   "metadata": {},
   "outputs": [
    {
     "data": {
      "text/plain": [
       "<tf.Tensor: shape=(), dtype=float32, numpy=1.0>"
      ]
     },
     "execution_count": 159,
     "metadata": {},
     "output_type": "execute_result"
    }
   ],
   "source": [
    "# Recall\n",
    "recall=tf.keras.metrics.Recall()\n",
    "recall.update_state(y_test,y_pred)\n",
    "recall.result()"
   ]
  },
  {
   "cell_type": "code",
   "execution_count": 160,
   "metadata": {},
   "outputs": [
    {
     "data": {
      "text/plain": [
       "{'loss': [0.703226625919342,\n",
       "  0.6892141699790955,\n",
       "  0.6744889616966248,\n",
       "  0.6624850034713745,\n",
       "  0.6521100997924805,\n",
       "  0.6411193013191223,\n",
       "  0.6270028352737427,\n",
       "  0.6135851740837097,\n",
       "  0.5985901951789856,\n",
       "  0.5835226774215698,\n",
       "  0.5714048147201538,\n",
       "  0.5563443899154663,\n",
       "  0.536544919013977,\n",
       "  0.5176097750663757,\n",
       "  0.49640268087387085,\n",
       "  0.4786686301231384,\n",
       "  0.46135520935058594,\n",
       "  0.43932467699050903,\n",
       "  0.4196183681488037,\n",
       "  0.40306010842323303],\n",
       " 'accuracy': [0.4390243887901306,\n",
       "  0.5121951103210449,\n",
       "  0.5243902206420898,\n",
       "  0.5243902206420898,\n",
       "  0.5365853905677795,\n",
       "  0.542682945728302,\n",
       "  0.5914633870124817,\n",
       "  0.6036585569381714,\n",
       "  0.6585366129875183,\n",
       "  0.6951219439506531,\n",
       "  0.7743902206420898,\n",
       "  0.7682926654815674,\n",
       "  0.7743902206420898,\n",
       "  0.792682945728302,\n",
       "  0.7865853905677795,\n",
       "  0.7865853905677795,\n",
       "  0.792682945728302,\n",
       "  0.8048780560493469,\n",
       "  0.8231707215309143,\n",
       "  0.8109756112098694]}"
      ]
     },
     "execution_count": 160,
     "metadata": {},
     "output_type": "execute_result"
    }
   ],
   "source": [
    "history.history"
   ]
  },
  {
   "cell_type": "code",
   "execution_count": 162,
   "metadata": {},
   "outputs": [
    {
     "data": {
      "text/plain": [
       "<Axes: >"
      ]
     },
     "execution_count": 162,
     "metadata": {},
     "output_type": "execute_result"
    },
    {
     "data": {
      "image/png": "[encoded data removed]",
      "text/plain": [
       "<Figure size 640x480 with 1 Axes>"
      ]
     },
     "metadata": {},
     "output_type": "display_data"
    }
   ],
   "source": [
    "pd.DataFrame(history.history).plot()"
   ]
  },
  {
   "cell_type": "code",
   "execution_count": null,
   "metadata": {},
   "outputs": [],
   "source": []
  }
 ],
 "metadata": {
  "kernelspec": {
   "display_name": "virtual",
   "language": "python",
   "name": "python3"
  },
  "language_info": {
   "codemirror_mode": {
    "name": "ipython",
    "version": 3
   },
   "file_extension": ".py",
   "mimetype": "text/x-python",
   "name": "python",
   "nbconvert_exporter": "python",
   "pygments_lexer": "ipython3",
   "version": "3.10.7"
  }
 },
 "nbformat": 4,
 "nbformat_minor": 2
}
