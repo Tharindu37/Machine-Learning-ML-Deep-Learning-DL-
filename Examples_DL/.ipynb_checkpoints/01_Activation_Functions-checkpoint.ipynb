{
 "cells": [
  {
   "cell_type": "markdown",
   "id": "11860509-84a6-4cf1-ad1a-6b40f1609e7c",
   "metadata": {},
   "source": [
    "## Sigmoid Function"
   ]
  },
  {
   "cell_type": "code",
   "execution_count": 1,
   "id": "e620940b-06ca-47d5-b940-c283a18d6a86",
   "metadata": {},
   "outputs": [
    {
     "name": "stdout",
     "output_type": "stream",
     "text": [
      "13 --> 0.999997739675702\n",
      "3 --> 0.9525741268224334\n",
      "-12 --> 6.144174602214718e-06\n"
     ]
    }
   ],
   "source": [
    "import numpy as np;\n",
    "\n",
    "# sigmoid activation function\n",
    "def sigmoid(x):\n",
    "    return 1.0/(1.0+np.exp(-x))\n",
    "inputs=[13,3,-12]\n",
    "\n",
    "for x in inputs:\n",
    "    print('{} --> {}'.format(x,sigmoid(x)))"
   ]
  },
  {
   "cell_type": "markdown",
   "id": "a5e9ef0a-0993-4e86-a970-917ff3299b34",
   "metadata": {},
   "source": [
    "## Tanh Function"
   ]
  },
  {
   "cell_type": "code",
   "execution_count": 2,
   "id": "d747b3b5-93d8-41cb-a08c-620ef5354f99",
   "metadata": {},
   "outputs": [
    {
     "name": "stdout",
     "output_type": "stream",
     "text": [
      "13 --> 0.9999999999897818\n",
      "3 --> 0.9950547536867306\n",
      "-12 --> -0.9999999999244972\n"
     ]
    }
   ],
   "source": [
    "import numpy as np\n",
    "\n",
    "# tanh activation function\n",
    "def tanh(x):\n",
    "    return (np.exp(x)-np.exp(-x))/(np.exp(x)+np.exp(-x))\n",
    "\n",
    "inputs=[13,3,-12]\n",
    "\n",
    "for x in inputs:\n",
    "    print('{} --> {}'.format(x, tanh(x)))"
   ]
  },
  {
   "cell_type": "markdown",
   "id": "d8f045cc-aa7d-494d-a809-13fc3ac6dca6",
   "metadata": {},
   "source": [
    "## ReLU Function"
   ]
  },
  {
   "cell_type": "code",
   "execution_count": 3,
   "id": "418bd903-7a0b-4930-a78c-360a61a33176",
   "metadata": {},
   "outputs": [
    {
     "name": "stdout",
     "output_type": "stream",
     "text": [
      "13 --> 13\n",
      "3 --> 3\n",
      "-12 --> 0.0\n"
     ]
    }
   ],
   "source": [
    "# relu activation function\n",
    "def relu(x):\n",
    "    return max(0.0,x)\n",
    "\n",
    "inputs=[13,3,-12]\n",
    "\n",
    "for x in inputs:\n",
    "    print('{} --> {}'.format(x, relu(x)))"
   ]
  },
  {
   "cell_type": "markdown",
   "id": "86fdb6bb-b2ca-4eda-8848-35b0721982fb",
   "metadata": {},
   "source": [
    "## Leaky ReLU Function"
   ]
  },
  {
   "cell_type": "code",
   "execution_count": 4,
   "id": "61b4791c-fc96-4f20-927e-8f6de1a2e4e3",
   "metadata": {},
   "outputs": [
    {
     "name": "stdout",
     "output_type": "stream",
     "text": [
      "13 --> 13\n",
      "3 --> 3\n",
      "-12 --> -1.2000000000000002\n"
     ]
    }
   ],
   "source": [
    "# leaky relu activation function\n",
    "def leakyRelu(x):\n",
    "    return max(0.1*x,x)\n",
    "\n",
    "inputs=[13,3,-12]\n",
    "for x in inputs:\n",
    "    print('{} --> {}'.format(x, leakyRelu(x)))"
   ]
  },
  {
   "cell_type": "markdown",
   "id": "be41995d-f77d-4c87-9a1a-f0b3caf1d402",
   "metadata": {},
   "source": [
    "## Softmax Function"
   ]
  },
  {
   "cell_type": "code",
   "execution_count": 6,
   "id": "ef7474c3-2972-484e-802f-7524616a6314",
   "metadata": {},
   "outputs": [
    {
     "name": "stdout",
     "output_type": "stream",
     "text": [
      "[0.11849965 0.8756006  0.00589975]\n"
     ]
    }
   ],
   "source": [
    "import numpy as np\n",
    "\n",
    "# softmax activation function\n",
    "def softmax(x):\n",
    "    return np.exp(x) / np.exp(x).sum()\n",
    "\n",
    "inputs=[1,3,-2]\n",
    "print(softmax(inputs))"
   ]
  },
  {
   "cell_type": "code",
   "execution_count": null,
   "id": "b20b5398-de67-40a9-89c5-8ff563058a23",
   "metadata": {},
   "outputs": [],
   "source": []
  }
 ],
 "metadata": {
  "kernelspec": {
   "display_name": "Python 3 (ipykernel)",
   "language": "python",
   "name": "python3"
  },
  "language_info": {
   "codemirror_mode": {
    "name": "ipython",
    "version": 3
   },
   "file_extension": ".py",
   "mimetype": "text/x-python",
   "name": "python",
   "nbconvert_exporter": "python",
   "pygments_lexer": "ipython3",
   "version": "3.10.7"
  }
 },
 "nbformat": 4,
 "nbformat_minor": 5
}
