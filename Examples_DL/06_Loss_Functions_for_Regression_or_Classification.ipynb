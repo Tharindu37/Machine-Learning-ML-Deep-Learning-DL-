{
 "cells": [
  {
   "cell_type": "markdown",
   "metadata": {},
   "source": [
    "### Loss Functions for Regression\n",
    "<ul>\n",
    "    <li>MSE (Mean Squared Error)</li>\n",
    "    <li>MAE (Mean Absolute Error)</li>\n",
    "    <li>Huber Loss</li>\n",
    "</ul>"
   ]
  },
  {
   "cell_type": "markdown",
   "metadata": {},
   "source": [
    "<h5>Mean Squared Error (MSE)</h5>"
   ]
  },
  {
   "cell_type": "code",
   "execution_count": 1,
   "metadata": {},
   "outputs": [
    {
     "name": "stdout",
     "output_type": "stream",
     "text": [
      "WARNING:tensorflow:From e:\\Programming Code\\ML_DL\\virtual\\lib\\site-packages\\keras\\src\\losses.py:2976: The name tf.losses.sparse_softmax_cross_entropy is deprecated. Please use tf.compat.v1.losses.sparse_softmax_cross_entropy instead.\n",
      "\n",
      "WARNING:tensorflow:From e:\\Programming Code\\ML_DL\\virtual\\lib\\site-packages\\keras\\src\\utils\\losses_utils.py:325: The name tf.get_default_graph is deprecated. Please use tf.compat.v1.get_default_graph instead.\n",
      "\n",
      "Mean Squared Error: 0.05249999836087227\n"
     ]
    }
   ],
   "source": [
    "import tensorflow as tf\n",
    "\n",
    "y_true=[0.0,0.5,0.7,1.0]\n",
    "y_pred=[0.2,0.3,0.9,0.7]\n",
    "\n",
    "mse=tf.keras.losses.MeanSquaredError()\n",
    "result=mse(y_true, y_pred).numpy()\n",
    "print(f\"Mean Squared Error: {result}\")"
   ]
  },
  {
   "cell_type": "markdown",
   "metadata": {},
   "source": [
    "<h5>Mean Absolute Error (MAE)</h5>"
   ]
  },
  {
   "cell_type": "code",
   "execution_count": 3,
   "metadata": {},
   "outputs": [
    {
     "name": "stdout",
     "output_type": "stream",
     "text": [
      "Mean Absolute Error: 0.22499999403953552\n"
     ]
    }
   ],
   "source": [
    "y_true=[0.0,0.5,0.7,1.0]\n",
    "y_pred=[0.2,0.3,0.9,0.7]\n",
    "\n",
    "mae=tf.keras.losses.MeanAbsoluteError()\n",
    "result=mae(y_true,y_pred).numpy()\n",
    "print(f\"Mean Absolute Error: {result}\")"
   ]
  },
  {
   "cell_type": "markdown",
   "metadata": {},
   "source": [
    "<h5>Huber Loss</h5>"
   ]
  },
  {
   "cell_type": "code",
   "execution_count": 4,
   "metadata": {},
   "outputs": [
    {
     "name": "stdout",
     "output_type": "stream",
     "text": [
      "Huber Loss: 0.025937499478459358\n"
     ]
    }
   ],
   "source": [
    "y_true=[0.0,0.5,0.7,1.0]\n",
    "y_pred=[0.2,0.3,0.9,0.7]\n",
    "\n",
    "huber=tf.keras.losses.Huber(delta=0.25)\n",
    "result=huber(y_true,y_pred).numpy()\n",
    "print(f\"Huber Loss: {result}\")"
   ]
  },
  {
   "cell_type": "markdown",
   "metadata": {},
   "source": [
    "### Loss Functions for Classification\n",
    "<ul>\n",
    "    <li>Binary Cross Entropy</li>\n",
    "    <li>Categorical Cross Entropy</li>\n",
    "    <li>Sparse Categorical Cross Entropy</li>\n",
    "</ul>"
   ]
  },
  {
   "cell_type": "markdown",
   "metadata": {},
   "source": [
    "<h5>Binary Cross Entropy</h5>"
   ]
  },
  {
   "cell_type": "code",
   "execution_count": 5,
   "metadata": {},
   "outputs": [
    {
     "name": "stdout",
     "output_type": "stream",
     "text": [
      "Binary Cross Entropy: 0.544208288192749\n"
     ]
    }
   ],
   "source": [
    "y_true=[0,1,0,0]\n",
    "y_pred=[0.3,0.6,0.7,0.1]\n",
    "\n",
    "bce=tf.keras.losses.BinaryCrossentropy()\n",
    "result=bce(y_true,y_pred).numpy()\n",
    "print(f\"Binary Cross Entropy: {result}\")"
   ]
  },
  {
   "cell_type": "markdown",
   "metadata": {},
   "source": [
    "<h5>Categorical Cross Entropy</h5>"
   ]
  },
  {
   "cell_type": "code",
   "execution_count": 6,
   "metadata": {},
   "outputs": [
    {
     "name": "stdout",
     "output_type": "stream",
     "text": [
      "Categorical Cross Entropy: 1.1769392490386963\n"
     ]
    }
   ],
   "source": [
    "# Softmax Function for output (Activation Function)\n",
    "y_true=[[0,1,0],[0,0,1]]\n",
    "y_pred=[[0.05,0.95,0],[0.1,0.8,0.1]]\n",
    "\n",
    "cce=tf.keras.losses.CategoricalCrossentropy()\n",
    "result=cce(y_true,y_pred).numpy()\n",
    "print(f\"Categorical Cross Entropy: {result}\")"
   ]
  },
  {
   "cell_type": "markdown",
   "metadata": {},
   "source": [
    "<h5>Sparse Categorical Cross Entropy</h5>"
   ]
  },
  {
   "cell_type": "code",
   "execution_count": 7,
   "metadata": {},
   "outputs": [
    {
     "name": "stdout",
     "output_type": "stream",
     "text": [
      "Sparse Categorical Cross Entropy: 1.1769392490386963\n"
     ]
    }
   ],
   "source": [
    "y_true=[1,2]\n",
    "y_pred=[[0.05,0.95,0],[0.1,0.8,0.1]]\n",
    "\n",
    "scce=tf.keras.losses.SparseCategoricalCrossentropy()\n",
    "result=scce(y_true,y_pred).numpy()\n",
    "print(f\"Sparse Categorical Cross Entropy: {result}\")"
   ]
  },
  {
   "cell_type": "code",
   "execution_count": null,
   "metadata": {},
   "outputs": [],
   "source": []
  }
 ],
 "metadata": {
  "kernelspec": {
   "display_name": "virtual",
   "language": "python",
   "name": "python3"
  },
  "language_info": {
   "codemirror_mode": {
    "name": "ipython",
    "version": 3
   },
   "file_extension": ".py",
   "mimetype": "text/x-python",
   "name": "python",
   "nbconvert_exporter": "python",
   "pygments_lexer": "ipython3",
   "version": "3.10.7"
  }
 },
 "nbformat": 4,
 "nbformat_minor": 2
}
