{
 "cells": [
  {
   "cell_type": "markdown",
   "metadata": {},
   "source": [
    "### Regression with TensorFlow"
   ]
  },
  {
   "cell_type": "code",
   "execution_count": 1,
   "metadata": {},
   "outputs": [
    {
     "name": "stdout",
     "output_type": "stream",
     "text": [
      "Requirement already satisfied: opendatasets in e:\\programming code\\ml_dl\\virtual\\lib\\site-packages (0.1.22)\n",
      "Requirement already satisfied: tqdm in e:\\programming code\\ml_dl\\virtual\\lib\\site-packages (from opendatasets) (4.66.2)\n",
      "Requirement already satisfied: click in e:\\programming code\\ml_dl\\virtual\\lib\\site-packages (from opendatasets) (8.1.7)\n",
      "Requirement already satisfied: kaggle in e:\\programming code\\ml_dl\\virtual\\lib\\site-packages (from opendatasets) (1.6.5)\n",
      "Requirement already satisfied: colorama in e:\\programming code\\ml_dl\\virtual\\lib\\site-packages (from click->opendatasets) (0.4.6)\n",
      "Requirement already satisfied: certifi in e:\\programming code\\ml_dl\\virtual\\lib\\site-packages (from kaggle->opendatasets) (2024.2.2)\n",
      "Requirement already satisfied: python-slugify in e:\\programming code\\ml_dl\\virtual\\lib\\site-packages (from kaggle->opendatasets) (8.0.4)\n",
      "Requirement already satisfied: python-dateutil in e:\\programming code\\ml_dl\\virtual\\lib\\site-packages (from kaggle->opendatasets) (2.8.2)\n",
      "Requirement already satisfied: urllib3 in e:\\programming code\\ml_dl\\virtual\\lib\\site-packages (from kaggle->opendatasets) (2.2.0)\n",
      "Requirement already satisfied: requests in e:\\programming code\\ml_dl\\virtual\\lib\\site-packages (from kaggle->opendatasets) (2.31.0)\n",
      "Requirement already satisfied: bleach in e:\\programming code\\ml_dl\\virtual\\lib\\site-packages (from kaggle->opendatasets) (6.1.0)\n",
      "Requirement already satisfied: six>=1.10 in e:\\programming code\\ml_dl\\virtual\\lib\\site-packages (from kaggle->opendatasets) (1.16.0)\n",
      "Requirement already satisfied: webencodings in e:\\programming code\\ml_dl\\virtual\\lib\\site-packages (from bleach->kaggle->opendatasets) (0.5.1)\n",
      "Requirement already satisfied: text-unidecode>=1.3 in e:\\programming code\\ml_dl\\virtual\\lib\\site-packages (from python-slugify->kaggle->opendatasets) (1.3)\n",
      "Requirement already satisfied: charset-normalizer<4,>=2 in e:\\programming code\\ml_dl\\virtual\\lib\\site-packages (from requests->kaggle->opendatasets) (3.3.2)\n",
      "Requirement already satisfied: idna<4,>=2.5 in e:\\programming code\\ml_dl\\virtual\\lib\\site-packages (from requests->kaggle->opendatasets) (3.6)\n"
     ]
    },
    {
     "name": "stderr",
     "output_type": "stream",
     "text": [
      "\n",
      "[notice] A new release of pip available: 22.2.2 -> 24.0\n",
      "[notice] To update, run: python.exe -m pip install --upgrade pip\n"
     ]
    }
   ],
   "source": [
    "!pip install opendatasets"
   ]
  },
  {
   "cell_type": "code",
   "execution_count": 3,
   "metadata": {},
   "outputs": [
    {
     "name": "stderr",
     "output_type": "stream",
     "text": [
      "C:\\Users\\ASUS\\AppData\\Local\\Temp\\ipykernel_24040\\766860265.py:1: DeprecationWarning: \n",
      "Pyarrow will become a required dependency of pandas in the next major release of pandas (pandas 3.0),\n",
      "(to allow more performant data types, such as the Arrow string type, and better interoperability with other libraries)\n",
      "but was not found to be installed on your system.\n",
      "If this would cause problems for you,\n",
      "please provide us feedback at https://github.com/pandas-dev/pandas/issues/54466\n",
      "        \n",
      "  import pandas as pd\n"
     ]
    },
    {
     "name": "stdout",
     "output_type": "stream",
     "text": [
      "WARNING:tensorflow:From e:\\Programming Code\\ML_DL\\virtual\\lib\\site-packages\\keras\\src\\losses.py:2976: The name tf.losses.sparse_softmax_cross_entropy is deprecated. Please use tf.compat.v1.losses.sparse_softmax_cross_entropy instead.\n",
      "\n"
     ]
    }
   ],
   "source": [
    "import pandas as pd\n",
    "import matplotlib.pyplot as plt\n",
    "import tensorflow as tf\n",
    "import opendatasets as od"
   ]
  },
  {
   "cell_type": "code",
   "execution_count": 4,
   "metadata": {},
   "outputs": [],
   "source": [
    "#od.download('https://www.kaggle.com/datasets/andonians/random-linear-regression')"
   ]
  },
  {
   "cell_type": "code",
   "execution_count": 5,
   "metadata": {},
   "outputs": [],
   "source": [
    "data=pd.read_csv(\"data/dataset.csv\")"
   ]
  },
  {
   "cell_type": "code",
   "execution_count": 6,
   "metadata": {},
   "outputs": [
    {
     "data": {
      "text/html": [
       "<div>\n",
       "<style scoped>\n",
       "    .dataframe tbody tr th:only-of-type {\n",
       "        vertical-align: middle;\n",
       "    }\n",
       "\n",
       "    .dataframe tbody tr th {\n",
       "        vertical-align: top;\n",
       "    }\n",
       "\n",
       "    .dataframe thead th {\n",
       "        text-align: right;\n",
       "    }\n",
       "</style>\n",
       "<table border=\"1\" class=\"dataframe\">\n",
       "  <thead>\n",
       "    <tr style=\"text-align: right;\">\n",
       "      <th></th>\n",
       "      <th>x</th>\n",
       "      <th>y</th>\n",
       "    </tr>\n",
       "  </thead>\n",
       "  <tbody>\n",
       "    <tr>\n",
       "      <th>0</th>\n",
       "      <td>77</td>\n",
       "      <td>79.775152</td>\n",
       "    </tr>\n",
       "    <tr>\n",
       "      <th>1</th>\n",
       "      <td>21</td>\n",
       "      <td>23.177279</td>\n",
       "    </tr>\n",
       "    <tr>\n",
       "      <th>2</th>\n",
       "      <td>22</td>\n",
       "      <td>25.609262</td>\n",
       "    </tr>\n",
       "    <tr>\n",
       "      <th>3</th>\n",
       "      <td>20</td>\n",
       "      <td>17.857388</td>\n",
       "    </tr>\n",
       "    <tr>\n",
       "      <th>4</th>\n",
       "      <td>36</td>\n",
       "      <td>41.849864</td>\n",
       "    </tr>\n",
       "    <tr>\n",
       "      <th>...</th>\n",
       "      <td>...</td>\n",
       "      <td>...</td>\n",
       "    </tr>\n",
       "    <tr>\n",
       "      <th>295</th>\n",
       "      <td>71</td>\n",
       "      <td>68.545888</td>\n",
       "    </tr>\n",
       "    <tr>\n",
       "      <th>296</th>\n",
       "      <td>46</td>\n",
       "      <td>47.334876</td>\n",
       "    </tr>\n",
       "    <tr>\n",
       "      <th>297</th>\n",
       "      <td>55</td>\n",
       "      <td>54.090637</td>\n",
       "    </tr>\n",
       "    <tr>\n",
       "      <th>298</th>\n",
       "      <td>62</td>\n",
       "      <td>63.297171</td>\n",
       "    </tr>\n",
       "    <tr>\n",
       "      <th>299</th>\n",
       "      <td>47</td>\n",
       "      <td>52.459467</td>\n",
       "    </tr>\n",
       "  </tbody>\n",
       "</table>\n",
       "<p>300 rows × 2 columns</p>\n",
       "</div>"
      ],
      "text/plain": [
       "      x          y\n",
       "0    77  79.775152\n",
       "1    21  23.177279\n",
       "2    22  25.609262\n",
       "3    20  17.857388\n",
       "4    36  41.849864\n",
       "..   ..        ...\n",
       "295  71  68.545888\n",
       "296  46  47.334876\n",
       "297  55  54.090637\n",
       "298  62  63.297171\n",
       "299  47  52.459467\n",
       "\n",
       "[300 rows x 2 columns]"
      ]
     },
     "execution_count": 6,
     "metadata": {},
     "output_type": "execute_result"
    }
   ],
   "source": [
    "data"
   ]
  },
  {
   "cell_type": "code",
   "execution_count": 7,
   "metadata": {},
   "outputs": [
    {
     "data": {
      "text/plain": [
       "(300, 2)"
      ]
     },
     "execution_count": 7,
     "metadata": {},
     "output_type": "execute_result"
    }
   ],
   "source": [
    "data.shape"
   ]
  },
  {
   "cell_type": "code",
   "execution_count": 9,
   "metadata": {},
   "outputs": [],
   "source": [
    "X=data['x']\n",
    "y=data['y']"
   ]
  },
  {
   "cell_type": "code",
   "execution_count": 10,
   "metadata": {},
   "outputs": [
    {
     "data": {
      "text/plain": [
       "0      77\n",
       "1      21\n",
       "2      22\n",
       "3      20\n",
       "4      36\n",
       "       ..\n",
       "295    71\n",
       "296    46\n",
       "297    55\n",
       "298    62\n",
       "299    47\n",
       "Name: x, Length: 300, dtype: int64"
      ]
     },
     "execution_count": 10,
     "metadata": {},
     "output_type": "execute_result"
    }
   ],
   "source": [
    "X"
   ]
  },
  {
   "cell_type": "code",
   "execution_count": 11,
   "metadata": {},
   "outputs": [
    {
     "data": {
      "text/plain": [
       "0      79.775152\n",
       "1      23.177279\n",
       "2      25.609262\n",
       "3      17.857388\n",
       "4      41.849864\n",
       "         ...    \n",
       "295    68.545888\n",
       "296    47.334876\n",
       "297    54.090637\n",
       "298    63.297171\n",
       "299    52.459467\n",
       "Name: y, Length: 300, dtype: float64"
      ]
     },
     "execution_count": 11,
     "metadata": {},
     "output_type": "execute_result"
    }
   ],
   "source": [
    "y"
   ]
  },
  {
   "cell_type": "code",
   "execution_count": 12,
   "metadata": {},
   "outputs": [
    {
     "data": {
      "image/png": "[encoded data removed]",
      "text/plain": [
       "<Figure size 640x480 with 1 Axes>"
      ]
     },
     "metadata": {},
     "output_type": "display_data"
    }
   ],
   "source": [
    "plt.scatter(X,y,c='b')\n",
    "plt.show()"
   ]
  },
  {
   "cell_type": "code",
   "execution_count": 13,
   "metadata": {},
   "outputs": [],
   "source": [
    "from sklearn.model_selection import train_test_split\n",
    "X_train, X_test, y_train, y_test = train_test_split(X,y, test_size=0.2, random_state=42)"
   ]
  },
  {
   "cell_type": "code",
   "execution_count": 14,
   "metadata": {},
   "outputs": [
    {
     "data": {
      "text/plain": [
       "((240,), (60,))"
      ]
     },
     "execution_count": 14,
     "metadata": {},
     "output_type": "execute_result"
    }
   ],
   "source": [
    "X_train.shape, X_test.shape"
   ]
  },
  {
   "cell_type": "code",
   "execution_count": 15,
   "metadata": {},
   "outputs": [
    {
     "data": {
      "image/png": "[encoded data removed]",
      "text/plain": [
       "<Figure size 640x480 with 1 Axes>"
      ]
     },
     "metadata": {},
     "output_type": "display_data"
    }
   ],
   "source": [
    "plt.scatter(X_train,y_train, c='b', label='Trainingn data')\n",
    "plt.scatter(X_test, y_test, c='y', label='Testing data')\n",
    "plt.legend()\n",
    "plt.show()"
   ]
  },
  {
   "cell_type": "markdown",
   "metadata": {},
   "source": [
    "<h5>Model Building</h5>"
   ]
  },
  {
   "cell_type": "code",
   "execution_count": 54,
   "metadata": {},
   "outputs": [
    {
     "name": "stderr",
     "output_type": "stream",
     "text": [
      "WARNING:absl:`lr` is deprecated in Keras optimizer, please use `learning_rate` or use the legacy optimizer, e.g.,tf.keras.optimizers.legacy.Adam.\n"
     ]
    },
    {
     "name": "stdout",
     "output_type": "stream",
     "text": [
      "Epoch 1/10\n",
      "8/8 [==============================] - 0s 1ms/step - loss: 58.0946 - mae: 58.0946\n",
      "Epoch 2/10\n",
      "8/8 [==============================] - 0s 1ms/step - loss: 50.0746 - mae: 50.0746\n",
      "Epoch 3/10\n",
      "8/8 [==============================] - 0s 1ms/step - loss: 41.9522 - mae: 41.9522\n",
      "Epoch 4/10\n",
      "8/8 [==============================] - 0s 1ms/step - loss: 34.0279 - mae: 34.0279\n",
      "Epoch 5/10\n",
      "8/8 [==============================] - 0s 1ms/step - loss: 25.8858 - mae: 25.8858\n",
      "Epoch 6/10\n",
      "8/8 [==============================] - 0s 1ms/step - loss: 17.7020 - mae: 17.7020\n",
      "Epoch 7/10\n",
      "8/8 [==============================] - 0s 1ms/step - loss: 9.6566 - mae: 9.6566\n",
      "Epoch 8/10\n",
      "8/8 [==============================] - 0s 2ms/step - loss: 3.2131 - mae: 3.2131\n",
      "Epoch 9/10\n",
      "8/8 [==============================] - 0s 1ms/step - loss: 4.2977 - mae: 4.2977\n",
      "Epoch 10/10\n",
      "8/8 [==============================] - 0s 1ms/step - loss: 3.2700 - mae: 3.2700\n"
     ]
    }
   ],
   "source": [
    "# create a model\n",
    "model=tf.keras.Sequential([\n",
    "    tf.keras.layers.Dense(64,input_shape=(1,)),\n",
    "    tf.keras.layers.Dense(1)\n",
    "])\n",
    "\n",
    "# compile model\n",
    "model.compile(loss=tf.keras.losses.mae,\n",
    "              optimizer=tf.keras.optimizers.Adam(lr=0.05),\n",
    "              metrics=['mae'])\n",
    "\n",
    "# train model\n",
    "epoch_number=10\n",
    "history=model.fit(tf.expand_dims(X_train,axis=1),y_train, epochs=epoch_number)"
   ]
  },
  {
   "cell_type": "code",
   "execution_count": 55,
   "metadata": {},
   "outputs": [
    {
     "name": "stdout",
     "output_type": "stream",
     "text": [
      "Model: \"sequential_15\"\n",
      "_________________________________________________________________\n",
      " Layer (type)                Output Shape              Param #   \n",
      "=================================================================\n",
      " dense_35 (Dense)            (None, 64)                128       \n",
      "                                                                 \n",
      " dense_36 (Dense)            (None, 1)                 65        \n",
      "                                                                 \n",
      "=================================================================\n",
      "Total params: 193 (772.00 Byte)\n",
      "Trainable params: 193 (772.00 Byte)\n",
      "Non-trainable params: 0 (0.00 Byte)\n",
      "_________________________________________________________________\n"
     ]
    }
   ],
   "source": [
    "model.summary()"
   ]
  },
  {
   "cell_type": "code",
   "execution_count": 56,
   "metadata": {},
   "outputs": [
    {
     "name": "stdout",
     "output_type": "stream",
     "text": [
      "2/2 [==============================] - 0s 4ms/step\n"
     ]
    },
    {
     "data": {
      "text/plain": [
       "array([[90.00365  ],\n",
       "       [76.10434  ],\n",
       "       [93.97487  ],\n",
       "       [ 5.6150126],\n",
       "       [90.996445 ]], dtype=float32)"
      ]
     },
     "execution_count": 56,
     "metadata": {},
     "output_type": "execute_result"
    }
   ],
   "source": [
    "y_predictions=model.predict(X_test)\n",
    "y_predictions[:5]"
   ]
  },
  {
   "cell_type": "code",
   "execution_count": 57,
   "metadata": {},
   "outputs": [
    {
     "data": {
      "text/plain": [
       "203    92.887723\n",
       "266    79.503415\n",
       "152    97.001484\n",
       "9       8.746748\n",
       "233    89.739520\n",
       "Name: y, dtype: float64"
      ]
     },
     "execution_count": 57,
     "metadata": {},
     "output_type": "execute_result"
    }
   ],
   "source": [
    "y_test.head(5)"
   ]
  },
  {
   "cell_type": "code",
   "execution_count": 48,
   "metadata": {},
   "outputs": [
    {
     "data": {
      "image/png": "[encoded data removed]",
      "text/plain": [
       "<Figure size 640x480 with 1 Axes>"
      ]
     },
     "metadata": {},
     "output_type": "display_data"
    }
   ],
   "source": [
    "plt.scatter(X_train,y_train,c='b', label='Training_data')\n",
    "plt.scatter(X_test, y_test,c='y', label='Testing_data')\n",
    "plt.scatter(X_test,y_predictions,c='r',label='Predictions')\n",
    "plt.legend()\n",
    "plt.show()"
   ]
  },
  {
   "cell_type": "code",
   "execution_count": 58,
   "metadata": {},
   "outputs": [
    {
     "name": "stdout",
     "output_type": "stream",
     "text": [
      "2/2 [==============================] - 0s 4ms/step - loss: 2.5742 - mae: 2.5742\n"
     ]
    },
    {
     "data": {
      "text/plain": [
       "[2.5742127895355225, 2.5742127895355225]"
      ]
     },
     "execution_count": 58,
     "metadata": {},
     "output_type": "execute_result"
    }
   ],
   "source": [
    "model.evaluate(X_test,y_test)"
   ]
  },
  {
   "cell_type": "code",
   "execution_count": 59,
   "metadata": {},
   "outputs": [
    {
     "data": {
      "text/plain": [
       "<tf.Tensor: shape=(), dtype=float32, numpy=2.5742126>"
      ]
     },
     "execution_count": 59,
     "metadata": {},
     "output_type": "execute_result"
    }
   ],
   "source": [
    "# Using MAE (Mean Absolute Error)\n",
    "mae=tf.metrics.mean_absolute_error(y_test,tf.squeeze(y_predictions))\n",
    "mae"
   ]
  },
  {
   "cell_type": "code",
   "execution_count": 60,
   "metadata": {},
   "outputs": [
    {
     "data": {
      "text/plain": [
       "(60, 1)"
      ]
     },
     "execution_count": 60,
     "metadata": {},
     "output_type": "execute_result"
    }
   ],
   "source": [
    "y_predictions.shape"
   ]
  },
  {
   "cell_type": "code",
   "execution_count": 61,
   "metadata": {},
   "outputs": [
    {
     "data": {
      "text/plain": [
       "TensorShape([60])"
      ]
     },
     "execution_count": 61,
     "metadata": {},
     "output_type": "execute_result"
    }
   ],
   "source": [
    "tf.squeeze(y_predictions).shape"
   ]
  },
  {
   "cell_type": "code",
   "execution_count": 62,
   "metadata": {},
   "outputs": [
    {
     "data": {
      "text/plain": [
       "<tf.Tensor: shape=(), dtype=float32, numpy=9.794221>"
      ]
     },
     "execution_count": 62,
     "metadata": {},
     "output_type": "execute_result"
    }
   ],
   "source": [
    "# Using MSE (Mean Squared Error)\n",
    "mse=tf.metrics.mean_squared_error(y_test, tf.squeeze(y_predictions))\n",
    "mse"
   ]
  },
  {
   "cell_type": "code",
   "execution_count": 63,
   "metadata": {},
   "outputs": [
    {
     "data": {
      "image/png": "[encoded data removed]",
      "text/plain": [
       "<Figure size 640x480 with 1 Axes>"
      ]
     },
     "metadata": {},
     "output_type": "display_data"
    }
   ],
   "source": [
    "x_range=range(1,epoch_number+1)\n",
    "loss=history.history['loss']\n",
    "plt.plot(x_range,loss)\n",
    "plt.xlabel('epoch')\n",
    "plt.ylabel('loss')\n",
    "plt.show()"
   ]
  },
  {
   "cell_type": "code",
   "execution_count": 64,
   "metadata": {},
   "outputs": [
    {
     "name": "stdout",
     "output_type": "stream",
     "text": [
      "\n",
      "Weights:\n",
      "[[ 0.2090734   0.0743795  -0.22841999 -0.08422643 -0.03245607  0.23317814\n",
      "  -0.15589777 -0.32695174  0.12698157 -0.28512377 -0.08685166  0.0840518\n",
      "   0.06804682  0.2582874  -0.19204512  0.13884813 -0.01835498  0.14875475\n",
      "   0.16183189 -0.17742857  0.32000697  0.03546354  0.3439929  -0.01029716\n",
      "  -0.21910807 -0.12360193  0.16760138  0.14740352  0.00086577 -0.36422324\n",
      "  -0.10848568  0.18270102 -0.3274686   0.12486764 -0.27379718  0.10429628\n",
      "  -0.21200895 -0.04891131  0.11655129 -0.33399725  0.0013747  -0.19754975\n",
      "   0.19466725 -0.17878734  0.02207448 -0.21131618  0.26047555 -0.17019764\n",
      "   0.13631533 -0.1870072   0.10785939  0.09665706 -0.15669915 -0.03716583\n",
      "  -0.02693457  0.01371405  0.02340843 -0.21138054 -0.05212225  0.29374966\n",
      "  -0.2723956   0.2427697   0.28160542  0.01040862]]\n",
      "Biases:\n",
      "[ 0.06044896 -0.05730152  0.05344447  0.04602642 -0.05268132 -0.03784434\n",
      " -0.06159808 -0.06208016 -0.05702528 -0.06051327 -0.06311765  0.06041439\n",
      "  0.06089193  0.06215366  0.05373573 -0.05660506  0.04925683  0.0628775\n",
      "  0.06105188 -0.06259931  0.06187127 -0.05737525  0.06025282 -0.0571025\n",
      "  0.05666026 -0.06032709  0.06067339 -0.05714853 -0.05569153 -0.06039973\n",
      "  0.05688482 -0.0574953  -0.06022147 -0.05448344 -0.06481341 -0.0570442\n",
      " -0.06049798  0.05744859  0.06134722 -0.06314755  0.0456439  -0.06554411\n",
      " -0.04957481  0.05754143 -0.05347507  0.0545534   0.06158562  0.05358689\n",
      "  0.06509169 -0.06176694  0.07016248 -0.05705097  0.02286335  0.05548939\n",
      "  0.05745213 -0.05263078 -0.05754613  0.05737024 -0.05969002  0.06273132\n",
      " -0.03679268  0.06212494  0.06125889 -0.0566898 ]\n",
      "\n",
      "Weights:\n",
      "[[ 0.3018147 ]\n",
      " [-0.1947967 ]\n",
      " [ 0.03467065]\n",
      " [-0.0046363 ]\n",
      " [-0.05157022]\n",
      " [ 0.01812727]\n",
      " [-0.18838122]\n",
      " [-0.1608739 ]\n",
      " [-0.16282375]\n",
      " [-0.28857893]\n",
      " [-0.14165568]\n",
      " [ 0.33019692]\n",
      " [ 0.27065492]\n",
      " [ 0.15881899]\n",
      " [ 0.03865634]\n",
      " [-0.12784505]\n",
      " [ 0.00866986]\n",
      " [ 0.13920964]\n",
      " [ 0.2275158 ]\n",
      " [-0.14563394]\n",
      " [ 0.16999295]\n",
      " [-0.20450278]\n",
      " [ 0.33850852]\n",
      " [-0.17265908]\n",
      " [ 0.13192439]\n",
      " [-0.3337985 ]\n",
      " [ 0.269214  ]\n",
      " [-0.17631587]\n",
      " [-0.08600335]\n",
      " [-0.30728397]\n",
      " [ 0.14944348]\n",
      " [-0.22627601]\n",
      " [-0.34631675]\n",
      " [-0.05116881]\n",
      " [-0.10212988]\n",
      " [-0.16459054]\n",
      " [-0.2932172 ]\n",
      " [ 0.21626262]\n",
      " [ 0.2084794 ]\n",
      " [-0.12860186]\n",
      " [ 0.00387847]\n",
      " [-0.09570428]\n",
      " [-0.00575099]\n",
      " [ 0.23468758]\n",
      " [-0.03787231]\n",
      " [ 0.0522856 ]\n",
      " [ 0.18552104]\n",
      " [ 0.03668173]\n",
      " [ 0.10267117]\n",
      " [-0.17771605]\n",
      " [ 0.07357503]\n",
      " [-0.16522585]\n",
      " [-0.02722666]\n",
      " [ 0.0766535 ]\n",
      " [ 0.21623069]\n",
      " [-0.02968846]\n",
      " [-0.23244521]\n",
      " [ 0.20601057]\n",
      " [-0.2908579 ]\n",
      " [ 0.13939355]\n",
      " [-0.05047099]\n",
      " [ 0.16021663]\n",
      " [ 0.20649154]\n",
      " [-0.13416827]]\n",
      "Biases:\n",
      "[0.05896219]\n"
     ]
    }
   ],
   "source": [
    "for layer in model.layers:\n",
    "    weights=layer.get_weights()[0]\n",
    "    biases=layer.get_weights()[1]\n",
    "    print(f\"\\nWeights:\\n{weights}\\nBiases:\\n{biases}\")"
   ]
  },
  {
   "cell_type": "code",
   "execution_count": null,
   "metadata": {},
   "outputs": [],
   "source": []
  }
 ],
 "metadata": {
  "kernelspec": {
   "display_name": "virtual",
   "language": "python",
   "name": "python3"
  },
  "language_info": {
   "codemirror_mode": {
    "name": "ipython",
    "version": 3
   },
   "file_extension": ".py",
   "mimetype": "text/x-python",
   "name": "python",
   "nbconvert_exporter": "python",
   "pygments_lexer": "ipython3",
   "version": "3.10.7"
  }
 },
 "nbformat": 4,
 "nbformat_minor": 2
}
