{
 "cells": [
  {
   "cell_type": "code",
   "execution_count": 1,
   "metadata": {},
   "outputs": [
    {
     "name": "stdout",
     "output_type": "stream",
     "text": [
      "WARNING:tensorflow:From e:\\Programming Code\\ML_DL\\virtual\\lib\\site-packages\\keras\\src\\losses.py:2976: The name tf.losses.sparse_softmax_cross_entropy is deprecated. Please use tf.compat.v1.losses.sparse_softmax_cross_entropy instead.\n",
      "\n"
     ]
    }
   ],
   "source": [
    "import numpy as np\n",
    "import tensorflow as tf\n",
    "import time"
   ]
  },
  {
   "cell_type": "code",
   "execution_count": 2,
   "metadata": {},
   "outputs": [
    {
     "name": "stdout",
     "output_type": "stream",
     "text": [
      "WARNING:tensorflow:From C:\\Users\\ASUS\\AppData\\Local\\Temp\\ipykernel_1220\\337460670.py:1: is_gpu_available (from tensorflow.python.framework.test_util) is deprecated and will be removed in a future version.\n",
      "Instructions for updating:\n",
      "Use `tf.config.list_physical_devices('GPU')` instead.\n"
     ]
    },
    {
     "data": {
      "text/plain": [
       "False"
      ]
     },
     "execution_count": 2,
     "metadata": {},
     "output_type": "execute_result"
    }
   ],
   "source": [
    "tf.test.is_gpu_available()"
   ]
  },
  {
   "cell_type": "code",
   "execution_count": 3,
   "metadata": {},
   "outputs": [],
   "source": [
    "shape=5000"
   ]
  },
  {
   "cell_type": "code",
   "execution_count": 4,
   "metadata": {},
   "outputs": [],
   "source": [
    "np_array=np.random.uniform(size=[shape,shape])"
   ]
  },
  {
   "cell_type": "code",
   "execution_count": 5,
   "metadata": {},
   "outputs": [
    {
     "data": {
      "text/plain": [
       "array([[0.07811126, 0.42989288, 0.36042945, ..., 0.1154702 , 0.31879154,\n",
       "        0.84216078],\n",
       "       [0.01590999, 0.55120256, 0.47264997, ..., 0.4306159 , 0.247985  ,\n",
       "        0.26983759],\n",
       "       [0.27976805, 0.99485705, 0.58584908, ..., 0.84970257, 0.43891598,\n",
       "        0.1111292 ],\n",
       "       ...,\n",
       "       [0.8086152 , 0.26749181, 0.21745817, ..., 0.99664589, 0.25126021,\n",
       "        0.01075696],\n",
       "       [0.21969458, 0.99555958, 0.31378646, ..., 0.30188745, 0.12165583,\n",
       "        0.11593716],\n",
       "       [0.07345054, 0.86877296, 0.36417776, ..., 0.81838845, 0.07765158,\n",
       "        0.38509593]])"
      ]
     },
     "execution_count": 5,
     "metadata": {},
     "output_type": "execute_result"
    }
   ],
   "source": [
    "np_array"
   ]
  },
  {
   "cell_type": "code",
   "execution_count": 6,
   "metadata": {},
   "outputs": [
    {
     "name": "stdout",
     "output_type": "stream",
     "text": [
      "16.03449821472168 seconds\n"
     ]
    }
   ],
   "source": [
    "start=time.time()\n",
    "for i in range(10):\n",
    "    np.matmul(np_array,np_array)\n",
    "end=time.time()\n",
    "time_period=end-start\n",
    "print(f'{time_period} seconds')"
   ]
  },
  {
   "cell_type": "code",
   "execution_count": 7,
   "metadata": {},
   "outputs": [],
   "source": [
    "tf_array=tf.random.uniform([shape,shape])"
   ]
  },
  {
   "cell_type": "code",
   "execution_count": 8,
   "metadata": {},
   "outputs": [
    {
     "data": {
      "text/plain": [
       "<tf.Tensor: shape=(5000, 5000), dtype=float32, numpy=\n",
       "array([[0.01234031, 0.52048707, 0.67671216, ..., 0.674876  , 0.73598075,\n",
       "        0.33932114],\n",
       "       [0.28181887, 0.80476046, 0.5125594 , ..., 0.26922107, 0.8154069 ,\n",
       "        0.96250284],\n",
       "       [0.19381702, 0.48838854, 0.49402452, ..., 0.25760782, 0.33573568,\n",
       "        0.45246947],\n",
       "       ...,\n",
       "       [0.69105005, 0.61851335, 0.11957717, ..., 0.5725992 , 0.6615535 ,\n",
       "        0.85683775],\n",
       "       [0.37651396, 0.81311834, 0.5200013 , ..., 0.4079479 , 0.03798974,\n",
       "        0.4645728 ],\n",
       "       [0.862597  , 0.00626051, 0.45889807, ..., 0.70343554, 0.9184369 ,\n",
       "        0.8047838 ]], dtype=float32)>"
      ]
     },
     "execution_count": 8,
     "metadata": {},
     "output_type": "execute_result"
    }
   ],
   "source": [
    "tf_array"
   ]
  },
  {
   "cell_type": "code",
   "execution_count": 9,
   "metadata": {},
   "outputs": [
    {
     "name": "stdout",
     "output_type": "stream",
     "text": [
      "7.924069404602051 seconds\n"
     ]
    }
   ],
   "source": [
    "start=time.time()\n",
    "for i in range(10):\n",
    "    tf.matmul(tf_array,tf_array)\n",
    "end=time.time()\n",
    "time_period=end-start\n",
    "print(f'{time_period} seconds')"
   ]
  },
  {
   "cell_type": "code",
   "execution_count": null,
   "metadata": {},
   "outputs": [],
   "source": []
  }
 ],
 "metadata": {
  "kernelspec": {
   "display_name": "virtual",
   "language": "python",
   "name": "python3"
  },
  "language_info": {
   "codemirror_mode": {
    "name": "ipython",
    "version": 3
   },
   "file_extension": ".py",
   "mimetype": "text/x-python",
   "name": "python",
   "nbconvert_exporter": "python",
   "pygments_lexer": "ipython3",
   "version": "3.10.7"
  }
 },
 "nbformat": 4,
 "nbformat_minor": 2
}
