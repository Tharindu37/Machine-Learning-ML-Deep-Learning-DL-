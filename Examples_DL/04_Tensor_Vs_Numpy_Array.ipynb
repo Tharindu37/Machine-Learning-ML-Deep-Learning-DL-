{
 "cells": [
  {
   "cell_type": "code",
   "execution_count": 3,
   "metadata": {},
   "outputs": [],
   "source": [
    "import numpy as np\n",
    "import tensorflow as tf\n",
    "import time"
   ]
  },
  {
   "cell_type": "code",
   "execution_count": 4,
   "metadata": {},
   "outputs": [
    {
     "name": "stdout",
     "output_type": "stream",
     "text": [
      "WARNING:tensorflow:From C:\\Users\\ASUS\\AppData\\Local\\Temp\\ipykernel_25168\\337460670.py:1: is_gpu_available (from tensorflow.python.framework.test_util) is deprecated and will be removed in a future version.\n",
      "Instructions for updating:\n",
      "Use `tf.config.list_physical_devices('GPU')` instead.\n"
     ]
    },
    {
     "data": {
      "text/plain": [
       "False"
      ]
     },
     "execution_count": 4,
     "metadata": {},
     "output_type": "execute_result"
    }
   ],
   "source": [
    "tf.test.is_gpu_available()"
   ]
  },
  {
   "cell_type": "code",
   "execution_count": 6,
   "metadata": {},
   "outputs": [],
   "source": [
    "shape=5000"
   ]
  },
  {
   "cell_type": "code",
   "execution_count": 7,
   "metadata": {},
   "outputs": [],
   "source": [
    "np_array=np.random.uniform(size=[shape,shape])"
   ]
  },
  {
   "cell_type": "code",
   "execution_count": 8,
   "metadata": {},
   "outputs": [
    {
     "data": {
      "text/plain": [
       "array([[0.13238836, 0.31037202, 0.19251712, ..., 0.14493963, 0.14901484,\n",
       "        0.2066018 ],\n",
       "       [0.79061602, 0.21279139, 0.88691831, ..., 0.20027789, 0.88477001,\n",
       "        0.7842747 ],\n",
       "       [0.64473004, 0.72299103, 0.21537227, ..., 0.18728278, 0.35243263,\n",
       "        0.1492517 ],\n",
       "       ...,\n",
       "       [0.30911103, 0.02483175, 0.3513129 , ..., 0.21649585, 0.40457943,\n",
       "        0.02596151],\n",
       "       [0.9073129 , 0.0852934 , 0.2338686 , ..., 0.71955188, 0.68589035,\n",
       "        0.05276098],\n",
       "       [0.51978861, 0.22899989, 0.15648521, ..., 0.16736933, 0.5191866 ,\n",
       "        0.9529664 ]])"
      ]
     },
     "execution_count": 8,
     "metadata": {},
     "output_type": "execute_result"
    }
   ],
   "source": [
    "np_array"
   ]
  },
  {
   "cell_type": "code",
   "execution_count": 9,
   "metadata": {},
   "outputs": [
    {
     "name": "stdout",
     "output_type": "stream",
     "text": [
      "16.54359006881714 seconds\n"
     ]
    }
   ],
   "source": [
    "start=time.time()\n",
    "for i in range(10):\n",
    "    np.matmul(np_array,np_array)\n",
    "end=time.time()\n",
    "time_period=end-start\n",
    "print(f'{time_period} seconds')"
   ]
  },
  {
   "cell_type": "code",
   "execution_count": 10,
   "metadata": {},
   "outputs": [],
   "source": [
    "tf_array=tf.random.uniform([shape,shape])"
   ]
  },
  {
   "cell_type": "code",
   "execution_count": 11,
   "metadata": {},
   "outputs": [
    {
     "data": {
      "text/plain": [
       "<tf.Tensor: shape=(5000, 5000), dtype=float32, numpy=\n",
       "array([[0.40951157, 0.9964837 , 0.55446184, ..., 0.974321  , 0.74929154,\n",
       "        0.5328853 ],\n",
       "       [0.21354163, 0.02643228, 0.33674145, ..., 0.19281065, 0.4646833 ,\n",
       "        0.5189879 ],\n",
       "       [0.47846568, 0.05778205, 0.6836307 , ..., 0.18740952, 0.00495958,\n",
       "        0.42247164],\n",
       "       ...,\n",
       "       [0.15630472, 0.33473396, 0.8580073 , ..., 0.0845331 , 0.0444293 ,\n",
       "        0.4034015 ],\n",
       "       [0.90133417, 0.47272992, 0.98339653, ..., 0.48827612, 0.257581  ,\n",
       "        0.9843005 ],\n",
       "       [0.38519096, 0.9683974 , 0.46146595, ..., 0.60826576, 0.05445719,\n",
       "        0.77779365]], dtype=float32)>"
      ]
     },
     "execution_count": 11,
     "metadata": {},
     "output_type": "execute_result"
    }
   ],
   "source": [
    "tf_array"
   ]
  },
  {
   "cell_type": "code",
   "execution_count": 12,
   "metadata": {},
   "outputs": [
    {
     "name": "stdout",
     "output_type": "stream",
     "text": [
      "7.43842625617981 seconds\n"
     ]
    }
   ],
   "source": [
    "start=time.time()\n",
    "for i in range(10):\n",
    "    tf.matmul(tf_array,tf_array)\n",
    "end=time.time()\n",
    "time_period=end-start\n",
    "print(f'{time_period} seconds')"
   ]
  },
  {
   "cell_type": "code",
   "execution_count": null,
   "metadata": {},
   "outputs": [],
   "source": []
  }
 ],
 "metadata": {
  "kernelspec": {
   "display_name": "virtual",
   "language": "python",
   "name": "python3"
  },
  "language_info": {
   "codemirror_mode": {
    "name": "ipython",
    "version": 3
   },
   "file_extension": ".py",
   "mimetype": "text/x-python",
   "name": "python",
   "nbconvert_exporter": "python",
   "pygments_lexer": "ipython3",
   "version": "3.10.7"
  }
 },
 "nbformat": 4,
 "nbformat_minor": 2
}
