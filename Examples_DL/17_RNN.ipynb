{
  "nbformat": 4,
  "nbformat_minor": 0,
  "metadata": {
    "colab": {
      "provenance": [],
      "authorship_tag": "ABX9TyNeRulBfhHE/aLfTzW0FKYQ",
      "include_colab_link": true
    },
    "kernelspec": {
      "name": "python3",
      "display_name": "Python 3"
    },
    "language_info": {
      "name": "python"
    }
  },
  "cells": [
    {
      "cell_type": "markdown",
      "metadata": {
        "id": "view-in-github",
        "colab_type": "text"
      },
      "source": [
        "<a href=\"https://colab.research.google.com/github/Tharindu37/Machine-Learning-ML-Deep-Learning-DL-/blob/main/Examples_DL/17_RNN.ipynb\" target=\"_parent\"><img src=\"https://colab.research.google.com/assets/colab-badge.svg\" alt=\"Open In Colab\"/></a>"
      ]
    },
    {
      "cell_type": "markdown",
      "source": [
        "## RNN"
      ],
      "metadata": {
        "id": "PWkHXPBl9t8U"
      }
    },
    {
      "cell_type": "markdown",
      "source": [
        "### Vanishing gradient Problem"
      ],
      "metadata": {
        "id": "fjipe4t198VR"
      }
    },
    {
      "cell_type": "markdown",
      "source": [
        "<h5>LSTM ( Long short term memrory)</h5>\n",
        "<h5>GRU (Gated recurrent unit)</h5>"
      ],
      "metadata": {
        "id": "DQhrLTep-BDi"
      }
    },
    {
      "cell_type": "code",
      "execution_count": null,
      "metadata": {
        "id": "FUtV7FYk2zsR"
      },
      "outputs": [],
      "source": []
    }
  ]
}