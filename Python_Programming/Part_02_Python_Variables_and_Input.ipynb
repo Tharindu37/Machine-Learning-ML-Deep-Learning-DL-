{
 "cells": [
  {
   "cell_type": "markdown",
   "id": "9a311ee4-a7f6-4202-a54c-b304db2e4b2c",
   "metadata": {},
   "source": [
    "## 1.1 Python Veriables\n",
    "<ul>\n",
    "    <li>Numbers</li>\n",
    "    <li>String</li>\n",
    "    <li>List</li>\n",
    "    <li>Tuple</li>\n",
    "    <li>Dictionary</li>\n",
    "</ul>\n",
    "\n",
    "<h5>Python Identifiers</h5>\n",
    "<p>A Python identifier is a name used to identify a variable, function, class, module or other object.</p>"
   ]
  },
  {
   "cell_type": "code",
   "execution_count": 1,
   "id": "ff6da05d-c102-4ec0-836e-c83c52fb09e2",
   "metadata": {},
   "outputs": [
    {
     "name": "stdout",
     "output_type": "stream",
     "text": [
      "10 20.5 X Hello World\n"
     ]
    }
   ],
   "source": [
    "a=10\n",
    "b=20.5\n",
    "c='X'\n",
    "d='Hello World'\n",
    "\n",
    "print(a, b, c, d)"
   ]
  },
  {
   "cell_type": "code",
   "execution_count": 2,
   "id": "a0ddd61a-a3f3-4311-a527-33ec7f277f98",
   "metadata": {},
   "outputs": [
    {
     "name": "stdout",
     "output_type": "stream",
     "text": [
      "1 1 1\n"
     ]
    }
   ],
   "source": [
    "a = b = c = 1\n",
    "print(a, b, c)"
   ]
  },
  {
   "cell_type": "code",
   "execution_count": 3,
   "id": "a359f757-f6fd-4817-8744-b93d76cf2261",
   "metadata": {},
   "outputs": [
    {
     "name": "stdout",
     "output_type": "stream",
     "text": [
      "1 2 john\n"
     ]
    }
   ],
   "source": [
    "a, b, c = 1, 2, \"john\"\n",
    "print(a, b, c)"
   ]
  },
  {
   "cell_type": "markdown",
   "id": "c95a08d9-1ea8-417b-8935-c9c62c45a3f4",
   "metadata": {},
   "source": [
    "## 1.2 Python Strings\n",
    "<p>String in Python are identified as a contiguous set of characters represented in the quotation marks. Python allows for either pairs of single or double quotes.</p>"
   ]
  },
  {
   "cell_type": "code",
   "execution_count": 4,
   "id": "0ec01507-943a-4149-862b-5b6b7ebaf7e7",
   "metadata": {},
   "outputs": [
    {
     "name": "stdout",
     "output_type": "stream",
     "text": [
      "Hello World!\n",
      "H\n",
      "llo\n",
      "llo World!\n",
      "Hello World!Hello World!\n",
      "Hello World!TEST\n"
     ]
    }
   ],
   "source": [
    "myStr=\"Hello World!\"\n",
    "print(myStr) # Prints complete string\n",
    "print(myStr[0]) # Prints first character of the string\n",
    "print(myStr[2:5]) # Prints characters starting from 3rd to 5th\n",
    "print(myStr[2:]) # Prints string starting from 3rd character\n",
    "print(myStr * 2) # Prints string two times\n",
    "print(myStr + \"TEST\") # Prints concatenated string"
   ]
  },
  {
   "cell_type": "markdown",
   "id": "1221b968-efe9-4fb1-8d42-f8a677bd7bda",
   "metadata": {},
   "source": [
    "## 1.3 Python Input\n",
    "<p>Python <b>input()</b> function returns the user keyboard input as a string. You can use the <b>eval()</b> function to convert it into the desired data type. </p>"
   ]
  },
  {
   "cell_type": "code",
   "execution_count": 6,
   "id": "10d0b49b-5837-4ce2-975a-71733ad82bc7",
   "metadata": {},
   "outputs": [
    {
     "name": "stdin",
     "output_type": "stream",
     "text": [
      " 10\n"
     ]
    },
    {
     "name": "stdout",
     "output_type": "stream",
     "text": [
      "x:  10\n"
     ]
    }
   ],
   "source": [
    "x=input()\n",
    "print('x: ', x)"
   ]
  },
  {
   "cell_type": "code",
   "execution_count": 7,
   "id": "93f3620b-b11b-4f56-91bd-35384e8d4ef4",
   "metadata": {},
   "outputs": [
    {
     "name": "stdin",
     "output_type": "stream",
     "text": [
      "Enter a value for x: 20\n"
     ]
    },
    {
     "name": "stdout",
     "output_type": "stream",
     "text": [
      "x:  20\n"
     ]
    }
   ],
   "source": [
    "x=input('Enter a value for x:')\n",
    "print('x: ', x)"
   ]
  },
  {
   "cell_type": "code",
   "execution_count": 8,
   "id": "10911ac2-0b8d-4976-af9f-372c8ade2859",
   "metadata": {},
   "outputs": [
    {
     "name": "stdin",
     "output_type": "stream",
     "text": [
      "Enter a value for x: 10\n",
      "Enter a value for y: 20.5\n"
     ]
    },
    {
     "name": "stdout",
     "output_type": "stream",
     "text": [
      "x+y 1020.5\n"
     ]
    }
   ],
   "source": [
    "x=input('Enter a value for x:')\n",
    "y=input('Enter a value for y:')\n",
    "print('x+y', x+y)"
   ]
  },
  {
   "cell_type": "code",
   "execution_count": 9,
   "id": "859aa030-f03c-4dc6-9515-1a0f57a64d9d",
   "metadata": {},
   "outputs": [
    {
     "name": "stdin",
     "output_type": "stream",
     "text": [
      "Enter a value for x: 10\n",
      "Enter a value for y: 20.5\n"
     ]
    },
    {
     "name": "stdout",
     "output_type": "stream",
     "text": [
      "x+y: 30.5\n"
     ]
    }
   ],
   "source": [
    "x=eval(input('Enter a value for x:'))\n",
    "y=eval(input('Enter a value for y:'))\n",
    "print('x+y:', x+y)"
   ]
  },
  {
   "cell_type": "code",
   "execution_count": 12,
   "id": "075639a5-63aa-41d8-8cd0-6a0b4a0f8899",
   "metadata": {},
   "outputs": [
    {
     "name": "stdin",
     "output_type": "stream",
     "text": [
      "Enter value1: 20\n",
      "Enter value1: 10\n"
     ]
    },
    {
     "name": "stdout",
     "output_type": "stream",
     "text": [
      "Addition 30\n",
      "Subtraction 10\n",
      "Multiplication 200\n",
      "Division 2.0\n",
      "Modulus 0\n",
      "Exponent 10240000000000\n"
     ]
    }
   ],
   "source": [
    "value1=eval(input('Enter value1:'))\n",
    "value2=eval(input('Enter value1:'))\n",
    "print('Addition', value1+value2)\n",
    "print('Subtraction', value1-value2)\n",
    "print('Multiplication', value1*value2)\n",
    "print('Division', value1/value2)\n",
    "print('Modulus', value1%value2)\n",
    "print('Exponent', value1**value2)"
   ]
  },
  {
   "cell_type": "markdown",
   "id": "e928942f-1ca0-43d1-b8f0-437e2b81ac3f",
   "metadata": {},
   "source": [
    "## 2 Arrays in Python\n",
    "<p>In most of the other Programming Languages, an array defined as a data structure, which can store a fixed-size collection of elements of the same data type.</p>\n",
    "<ul>\n",
    "    <li>Lists</li>\n",
    "    <li>Tuples</li>\n",
    "    <li>Dictionaries</li>\n",
    "</ul>"
   ]
  },
  {
   "cell_type": "markdown",
   "id": "4a7fc563-25b8-4c97-b14a-3ba87f315688",
   "metadata": {},
   "source": [
    "## 2.1 Lists\n",
    "<p>The list is the most versatile datatype available in Python, which can be written as a list of comma-separated values (items) between square brackets. Important thing about a list is that the items in a list need not be of the same type.</p>\n",
    "<p>Creating a list is as simple as putting different comma-separated values between square brackets.</p>"
   ]
  },
  {
   "cell_type": "code",
   "execution_count": 13,
   "id": "5b2a57d3-3a65-43c0-820a-366566307a35",
   "metadata": {},
   "outputs": [
    {
     "name": "stdout",
     "output_type": "stream",
     "text": [
      "[10, 20.5, 'X', 'Hello']\n",
      "10\n",
      "20.5\n"
     ]
    }
   ],
   "source": [
    "myList=[10,20.5,'X','Hello']\n",
    "print(myList)\n",
    "print(myList[0])\n",
    "print(myList[1])"
   ]
  },
  {
   "cell_type": "code",
   "execution_count": 17,
   "id": "316f3132-2f7b-4bf5-9a29-59e993c92660",
   "metadata": {},
   "outputs": [
    {
     "name": "stdout",
     "output_type": "stream",
     "text": [
      "[10, 20, 40]\n",
      "[10, 20, 40]\n",
      "[23, 21, 24, 12]\n",
      "[40, 23, 21]\n"
     ]
    }
   ],
   "source": [
    "myList=[10,20,40,23,21,24,12]\n",
    "print(myList[0:3])\n",
    "print(myList[:3])\n",
    "print(myList[3:])\n",
    "print(myList[2:5])"
   ]
  },
  {
   "cell_type": "markdown",
   "id": "359a51ea-d26c-45f9-9cb5-495008c05a45",
   "metadata": {},
   "source": [
    "<h5>Update List Elements</h5>\n",
    "<p>You can update single or multiple elements of lists by giving the slice on the left-hand side of the assignment operator.</p>"
   ]
  },
  {
   "cell_type": "code",
   "execution_count": 15,
   "id": "83ad6572-1d09-42f9-9e94-834f760abf94",
   "metadata": {},
   "outputs": [
    {
     "name": "stdout",
     "output_type": "stream",
     "text": [
      "Value available at index 2 1997\n",
      "New value available at index 2 :  2001\n"
     ]
    }
   ],
   "source": [
    "myList=['Physics','Chemistry',1997,2000]\n",
    "print(\"Value available at index 2\", myList[2])\n",
    "\n",
    "myList[2]=2001\n",
    "print(\"New value available at index 2 : \", myList[2])"
   ]
  },
  {
   "cell_type": "markdown",
   "id": "a9e39c2f-7216-4a72-a60b-ea53ff38f1db",
   "metadata": {},
   "source": [
    "<h5>Delete List Elements</h5>\n",
    "<p>To remove a list element, you can use either the del statement if you know exactly which element(s) you are deleting. You can use the <b>remove()</b> method if you do not know exactly which items to delete. For example -</p>"
   ]
  },
  {
   "cell_type": "code",
   "execution_count": 16,
   "id": "725e28a6-1bcf-4bb2-aa35-ea293eefc91d",
   "metadata": {},
   "outputs": [
    {
     "name": "stdout",
     "output_type": "stream",
     "text": [
      "['Physics', 'Chemistry', 1997, 2000]\n",
      "After deleting value at index 2 :  ['Physics', 'Chemistry', 2000]\n"
     ]
    }
   ],
   "source": [
    "myList=['Physics','Chemistry',1997,2000]\n",
    "print(myList)\n",
    "\n",
    "del myList[2]\n",
    "print(\"After deleting value at index 2 : \", myList)"
   ]
  },
  {
   "cell_type": "markdown",
   "id": "a5f5d87e-f9ce-4a3b-8220-82addb91ee45",
   "metadata": {},
   "source": [
    "<h5>Built-in List Functions and Methods</h5>\n",
    "<p>Python include the following list functions-</p>\n",
    "<ul>\n",
    "    <li><b>len(list)</b> Gives the total length of the list.</li>\n",
    "    <li><b>max(list)</b> Returns item from the list with max value.</li>\n",
    "    <li><b>min(list)</b> Returns item from the list with min value.</li>\n",
    "    <li><b>sum(list)</b> Returns summation of the items from the list.</li>\n",
    "</ul>"
   ]
  },
  {
   "cell_type": "code",
   "execution_count": 18,
   "id": "bfd27652-c0b6-47f9-a51f-44a42c6848e0",
   "metadata": {},
   "outputs": [
    {
     "name": "stdout",
     "output_type": "stream",
     "text": [
      "3\n"
     ]
    }
   ],
   "source": [
    "list1=['Physics','Chemistry','Maths']\n",
    "x=len(list1)\n",
    "print(x)"
   ]
  },
  {
   "cell_type": "code",
   "execution_count": 19,
   "id": "4873b5ec-411b-4156-af7e-4c4f04ebf3c4",
   "metadata": {},
   "outputs": [
    {
     "name": "stdout",
     "output_type": "stream",
     "text": [
      "Max value element :  Python\n",
      "Max value element :  700\n"
     ]
    }
   ],
   "source": [
    "list1, list2=['C++', 'Java', 'Python'], [456, 700, 200]\n",
    "print(\"Max value element : \", max(list1))\n",
    "print(\"Max value element : \", max(list2))"
   ]
  },
  {
   "cell_type": "code",
   "execution_count": 20,
   "id": "308ee07a-dfcd-40a2-9eea-8391a05dd6fd",
   "metadata": {},
   "outputs": [
    {
     "name": "stdout",
     "output_type": "stream",
     "text": [
      "[0, 1, 2, 3, 4, 5, 6, 7, 8, 9]\n",
      "45\n"
     ]
    }
   ],
   "source": [
    "list3=list(range(10))\n",
    "print(list3)\n",
    "print(sum(list3))"
   ]
  },
  {
   "cell_type": "markdown",
   "id": "5f44b835-1748-46d5-a08a-7e838af12015",
   "metadata": {},
   "source": [
    "<h6>Python includes the following list methods</h6>\n",
    "<ul>\n",
    "    <li><b>list.append(obj)</b> Appends object obj to list</li>\n",
    "    <li><b>list.count(obj)</b> Returns count of how many times obj occurs in list</li>\n",
    "    <li><b>list.extend(seq)</b> Appends the contents of seq to list</li>\n",
    "    <li><b>list.index(obj)</b> Returns the lowest index in list that obj appears</li>\n",
    "    <li><b>list.insert(index,obj)</b> Inserts object obj into list at offset index</li>\n",
    "    <li><b>list.sort([func])</b> Sorts objects of list, use compare func if given</li>\n",
    "    <li><b>list.remove(obj)</b> Removes object obj from list</li>\n",
    "</ul>"
   ]
  },
  {
   "cell_type": "code",
   "execution_count": 22,
   "id": "e71dcdba-8d68-4a67-aa00-bfcd5370856f",
   "metadata": {},
   "outputs": [
    {
     "name": "stdout",
     "output_type": "stream",
     "text": [
      "Update list :  ['C++', 'Java', 'Python', 'C#']\n"
     ]
    }
   ],
   "source": [
    "list1=['C++', 'Java', 'Python']\n",
    "list1.append('C#')\n",
    "print(\"Update list : \", list1)"
   ]
  },
  {
   "cell_type": "code",
   "execution_count": 23,
   "id": "190eca51-ec6f-4165-8233-3a25036a6c4f",
   "metadata": {},
   "outputs": [
    {
     "name": "stdout",
     "output_type": "stream",
     "text": [
      "Count for 123 :  2\n",
      "Count fro zara :  1\n"
     ]
    }
   ],
   "source": [
    "aList=[123, 'xyz', 'zara', 'abc', 123];\n",
    "print(\"Count for 123 : \", aList.count(123))\n",
    "print(\"Count fro zara : \", aList.count('zara'))"
   ]
  },
  {
   "cell_type": "code",
   "execution_count": 1,
   "id": "c606ecbf-46e1-48a9-9986-6abddad01d15",
   "metadata": {},
   "outputs": [
    {
     "name": "stdout",
     "output_type": "stream",
     "text": [
      "Extended List : ['physics', 'chemistry', 'maths', 0, 1, 2, 3, 4]\n"
     ]
    }
   ],
   "source": [
    "list1=['physics','chemistry','maths']\n",
    "list2=list(range(5)) #creates list of numbers between 0-4\n",
    "list1.extend(list2)\n",
    "print('Extended List :', list1)"
   ]
  },
  {
   "cell_type": "code",
   "execution_count": 2,
   "id": "a6e9551c-f296-429c-a582-a0640e512a22",
   "metadata": {},
   "outputs": [
    {
     "name": "stdout",
     "output_type": "stream",
     "text": [
      "Index of chemistry: 1\n"
     ]
    }
   ],
   "source": [
    "list1=['physics','chemistry','maths']\n",
    "print('Index of chemistry:', list1.index('chemistry'))"
   ]
  },
  {
   "cell_type": "code",
   "execution_count": 3,
   "id": "c5f0a1b0-dc3d-475a-a047-4ec105fbb95e",
   "metadata": {},
   "outputs": [
    {
     "name": "stdout",
     "output_type": "stream",
     "text": [
      "list now:  ['physics', 'biology', 'chemistry']\n",
      "list now:  ['physics', 'chemistry']\n"
     ]
    }
   ],
   "source": [
    "list1=['physics','biology','chemistry','maths']\n",
    "list1.pop()\n",
    "print('list now: ',list1)\n",
    "list1.pop(1)\n",
    "print('list now: ', list1)"
   ]
  },
  {
   "cell_type": "code",
   "execution_count": 4,
   "id": "dd3c9a47-f35a-4151-9764-c06420af9400",
   "metadata": {},
   "outputs": [
    {
     "name": "stdout",
     "output_type": "stream",
     "text": [
      "list now :  ['physics', 'chemistry', 'maths']\n",
      "list now :  ['physics', 'chemistry']\n"
     ]
    }
   ],
   "source": [
    "list1=['physics','biology','chemistry','maths']\n",
    "list1.remove('biology')\n",
    "print(\"list now : \", list1)\n",
    "list1.remove('maths')\n",
    "print(\"list now : \", list1)"
   ]
  },
  {
   "cell_type": "code",
   "execution_count": 5,
   "id": "0a8777e1-90e0-426b-87a3-1416590156af",
   "metadata": {},
   "outputs": [
    {
     "name": "stdout",
     "output_type": "stream",
     "text": [
      "list now :  ['maths', 'chemistry', 'biology', 'physics']\n"
     ]
    }
   ],
   "source": [
    "list1=['physics','biology','chemistry','maths']\n",
    "list1.reverse()\n",
    "print(\"list now : \", list1)"
   ]
  },
  {
   "cell_type": "code",
   "execution_count": 11,
   "id": "deed22ee-f6f2-46ec-b01f-eb5af0baa341",
   "metadata": {},
   "outputs": [
    {
     "name": "stdout",
     "output_type": "stream",
     "text": [
      "list now :  ['biology', 'chemistry', 'maths', 'physics']\n"
     ]
    }
   ],
   "source": [
    "list1=['physics','biology','chemistry','maths']\n",
    "list1.sort(reverse=False)\n",
    "print(\"list now : \", list1)"
   ]
  },
  {
   "cell_type": "code",
   "execution_count": 7,
   "id": "32087a40-f930-4f40-93ed-86cdc60e32a6",
   "metadata": {},
   "outputs": [
    {
     "name": "stdout",
     "output_type": "stream",
     "text": [
      "list now :  ['biology', 'chemistry', 'maths', 'physics']\n"
     ]
    }
   ],
   "source": [
    "list1=['physics','biology','chemistry','maths']\n",
    "list1.sort()\n",
    "print(\"list now : \", list1)"
   ]
  },
  {
   "cell_type": "code",
   "execution_count": 12,
   "id": "4f2b45d4-9c5a-4c54-8843-a42e0610f448",
   "metadata": {},
   "outputs": [
    {
     "name": "stdout",
     "output_type": "stream",
     "text": [
      "list now :  ['physics', 'maths', 'chemistry', 'biology']\n"
     ]
    }
   ],
   "source": [
    "list1=['physics','biology','chemistry','maths']\n",
    "list1.sort(reverse=True)\n",
    "print(\"list now : \", list1)"
   ]
  },
  {
   "cell_type": "markdown",
   "id": "3f2090d4-4098-4189-880e-bce0d609506b",
   "metadata": {},
   "source": [
    "## 2.2 Tuples\n",
    "<p>A tuple a sequence of immutable python objects. Tuples are sequences just like lists. The main difference between the tuples and lists is that the tuples cannot be changed unike lists. Tuples use parentheses whereas lists use square brackets.</p>\n",
    "<p>Creating a tuple is as simple as putting different comma-separated values. Optionally you can put these comma-separated values between parentheses also</p>"
   ]
  },
  {
   "cell_type": "code",
   "execution_count": 9,
   "id": "838e33ed-34f1-49e0-9b0f-b2a56f2c6823",
   "metadata": {},
   "outputs": [
    {
     "name": "stdout",
     "output_type": "stream",
     "text": [
      "tup1[0]:  physics\n",
      "tup2[1:5]:  (2, 3, 4, 5)\n"
     ]
    }
   ],
   "source": [
    "tup1=('physics','chemistry',1997,2000)\n",
    "tup2=(1,2,3,4,5,6,7)\n",
    "\n",
    "print(\"tup1[0]: \", tup1[0])\n",
    "print(\"tup2[1:5]: \", tup2[1:5])"
   ]
  },
  {
   "cell_type": "markdown",
   "id": "55216495-9aa4-4770-bba1-34d7535724ae",
   "metadata": {},
   "source": [
    "<h5>Updating Tuples</h5>\n",
    "<p>Tuples are immutable, which means you cannot update or change the values of tuple elements.</p>"
   ]
  },
  {
   "cell_type": "code",
   "execution_count": 10,
   "id": "439d614d-1471-49d3-ab6e-7a4dc6addc29",
   "metadata": {},
   "outputs": [
    {
     "ename": "TypeError",
     "evalue": "'tuple' object does not support item assignment",
     "output_type": "error",
     "traceback": [
      "\u001b[1;31m---------------------------------------------------------------------------\u001b[0m",
      "\u001b[1;31mTypeError\u001b[0m                                 Traceback (most recent call last)",
      "Cell \u001b[1;32mIn[10], line 4\u001b[0m\n\u001b[0;32m      2\u001b[0m tup2\u001b[38;5;241m=\u001b[39m(\u001b[38;5;124m'\u001b[39m\u001b[38;5;124mabc\u001b[39m\u001b[38;5;124m'\u001b[39m,\u001b[38;5;124m'\u001b[39m\u001b[38;5;124mxyz\u001b[39m\u001b[38;5;124m'\u001b[39m)\n\u001b[0;32m      3\u001b[0m \u001b[38;5;66;03m# Following action is not valid for tuples\u001b[39;00m\n\u001b[1;32m----> 4\u001b[0m \u001b[43mtup1\u001b[49m\u001b[43m[\u001b[49m\u001b[38;5;241;43m0\u001b[39;49m\u001b[43m]\u001b[49m\u001b[38;5;241m=\u001b[39m\u001b[38;5;241m100\u001b[39m\n",
      "\u001b[1;31mTypeError\u001b[0m: 'tuple' object does not support item assignment"
     ]
    }
   ],
   "source": [
    "tup1=(12,34.56)\n",
    "tup2=('abc','xyz')\n",
    "# Following action is not valid for tuples\n",
    "tup1[0]=100"
   ]
  },
  {
   "cell_type": "code",
   "execution_count": 13,
   "id": "e47297be-5c45-4ebf-a3ed-fa4e1587014e",
   "metadata": {},
   "outputs": [
    {
     "ename": "AttributeError",
     "evalue": "'tuple' object has no attribute 'append'",
     "output_type": "error",
     "traceback": [
      "\u001b[1;31m---------------------------------------------------------------------------\u001b[0m",
      "\u001b[1;31mAttributeError\u001b[0m                            Traceback (most recent call last)",
      "Cell \u001b[1;32mIn[13], line 2\u001b[0m\n\u001b[0;32m      1\u001b[0m \u001b[38;5;66;03m# Following action is not valid for tuples\u001b[39;00m\n\u001b[1;32m----> 2\u001b[0m \u001b[43mtup1\u001b[49m\u001b[38;5;241;43m.\u001b[39;49m\u001b[43mappend\u001b[49m(\u001b[38;5;241m100\u001b[39m)\n",
      "\u001b[1;31mAttributeError\u001b[0m: 'tuple' object has no attribute 'append'"
     ]
    }
   ],
   "source": [
    "# Following action is not valid for tuples\n",
    "tup1.append(100)"
   ]
  },
  {
   "cell_type": "markdown",
   "id": "c685badc-a4cf-49af-9165-eefcc58e83b6",
   "metadata": {},
   "source": [
    "<p>However, You are able to take portions of the existing tuples to create new tuples as the following example demonstrates</p>"
   ]
  },
  {
   "cell_type": "code",
   "execution_count": 14,
   "id": "13efb407-4378-4b85-b06a-9e91ed54732b",
   "metadata": {},
   "outputs": [
    {
     "name": "stdout",
     "output_type": "stream",
     "text": [
      "(12, 34.56, 'abc', 'xyz')\n"
     ]
    }
   ],
   "source": [
    "tup1=(12,34.56)\n",
    "tup2=('abc','xyz')\n",
    "\n",
    "tup3=tup1+tup2\n",
    "print(tup3)"
   ]
  },
  {
   "cell_type": "markdown",
   "id": "fbed9169-54b3-4a72-9fd6-4eb26380d8fb",
   "metadata": {},
   "source": [
    "<p>Or else you can convert a tuple into list and then modify.</p>"
   ]
  },
  {
   "cell_type": "code",
   "execution_count": 15,
   "id": "45cc3217-31fc-42bc-a86e-60789608d112",
   "metadata": {},
   "outputs": [
    {
     "name": "stdout",
     "output_type": "stream",
     "text": [
      "[12, 34.56]\n",
      "[20, 34.56, 100]\n"
     ]
    }
   ],
   "source": [
    "tup1=(12,34.56)\n",
    "\n",
    "list1=list(tup1)\n",
    "print(list1)\n",
    "list1.append(100)\n",
    "list1[0]=20\n",
    "print(list1)"
   ]
  },
  {
   "cell_type": "markdown",
   "id": "41a76919-e2b9-4550-9ca8-5bbd71e8620a",
   "metadata": {},
   "source": [
    "<p>Almost all the inbuilt list functions and inbuilt list methods expect methods which tries to modify a tuple work similar for tuples as well.</p>"
   ]
  },
  {
   "cell_type": "code",
   "execution_count": 16,
   "id": "f9fe48f1-bee7-45e2-97d3-8c4696954da2",
   "metadata": {},
   "outputs": [
    {
     "name": "stdout",
     "output_type": "stream",
     "text": [
      "6246\n",
      "5\n"
     ]
    }
   ],
   "source": [
    "myTuple=(12,433,53,234,6246)\n",
    "print(max(myTuple))\n",
    "print(len(myTuple))"
   ]
  },
  {
   "cell_type": "markdown",
   "id": "32c7375f-a406-4ac3-a333-93e8eb1c87e5",
   "metadata": {},
   "source": [
    "## 2.3 Dictionary\n",
    "<p>Each key is separated from its value by a colon(:), the items are separated by commas, and the whole thing is enclosed in curly braces. An empty dictionary without any items is written with just two curly braces, like this:{}</p>\n",
    "<p>Keys are unique within a dictionary while values may not be. The values of a dictionary can be of any type, but the keys must be of an immutable data type.</p>"
   ]
  },
  {
   "cell_type": "code",
   "execution_count": null,
   "id": "504c6756-1f2e-443d-9d86-72dc213f6f39",
   "metadata": {},
   "outputs": [],
   "source": []
  }
 ],
 "metadata": {
  "kernelspec": {
   "display_name": "Python 3 (ipykernel)",
   "language": "python",
   "name": "python3"
  },
  "language_info": {
   "codemirror_mode": {
    "name": "ipython",
    "version": 3
   },
   "file_extension": ".py",
   "mimetype": "text/x-python",
   "name": "python",
   "nbconvert_exporter": "python",
   "pygments_lexer": "ipython3",
   "version": "3.10.7"
  }
 },
 "nbformat": 4,
 "nbformat_minor": 5
}
