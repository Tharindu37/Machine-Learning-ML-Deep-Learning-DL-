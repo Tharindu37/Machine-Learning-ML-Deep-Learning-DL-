{
  "nbformat": 4,
  "nbformat_minor": 0,
  "metadata": {
    "colab": {
      "provenance": []
    },
    "kernelspec": {
      "name": "python3",
      "display_name": "Python 3"
    },
    "language_info": {
      "name": "python"
    }
  },
  "cells": [
    {
      "cell_type": "markdown",
      "source": [
        "## Exercise 1 - Numpy and Pandas"
      ],
      "metadata": {
        "id": "ofMTu0sC1JXP"
      }
    },
    {
      "cell_type": "code",
      "execution_count": 3,
      "metadata": {
        "id": "wZeVPlk1zwgt"
      },
      "outputs": [],
      "source": [
        "import pandas as pd\n",
        "dataset=pd.read_csv('/content/drive/MyDrive/Colab Notebooks/Python_Programming/student.csv')\n",
        "#dataset=pd.read_csv(r'C:\\Users\\student.csv')"
      ]
    },
    {
      "cell_type": "code",
      "source": [
        "print(dataset)"
      ],
      "metadata": {
        "colab": {
          "base_uri": "https://localhost:8080/"
        },
        "id": "oN2dkGJZ1aM8",
        "outputId": "dc34cc99-e5f7-494d-892b-8a43ea3c0e42"
      },
      "execution_count": 4,
      "outputs": [
        {
          "output_type": "stream",
          "name": "stdout",
          "text": [
            "        Name  Maths  Physics  Chemistry\n",
            "0       John     45       89         34\n",
            "1    William     50        3         65\n",
            "2      Henry     34        2         76\n",
            "3      Chris     22       42         87\n",
            "4       Jack     78       44         55\n",
            "5   Stephane     23       11         67\n",
            "6     Harald     23       97         87\n",
            "7     Hearmy     43       45         54\n",
            "8     Sinsel      2       34         34\n",
            "9     George     23       66         56\n",
            "10     James     44       33         76\n",
            "11      Jade     22       56         55\n",
            "12     Tommy     44       32          4\n",
            "13     Yonus     90       28          4\n",
            "14     Randy     19       67         56\n",
            "15       Rex     32       87          6\n",
            "16    Tucsan     45       65         90\n",
            "17     Amell    100       32         45\n",
            "18       Vin     34        2         65\n",
            "19    Hector     55        4         98\n"
          ]
        }
      ]
    },
    {
      "cell_type": "code",
      "source": [
        "import pandas as pd\n",
        "dataset=pd.read_csv('/content/drive/MyDrive/Colab Notebooks/Python_Programming/student.csv').values\n",
        "print(dataset)"
      ],
      "metadata": {
        "colab": {
          "base_uri": "https://localhost:8080/"
        },
        "id": "-rsi-WZ31cdJ",
        "outputId": "5e9daaae-a513-40ed-f631-45fc3f046f41"
      },
      "execution_count": 5,
      "outputs": [
        {
          "output_type": "stream",
          "name": "stdout",
          "text": [
            "[['John' 45 89 34]\n",
            " ['William' 50 3 65]\n",
            " ['Henry' 34 2 76]\n",
            " ['Chris' 22 42 87]\n",
            " ['Jack' 78 44 55]\n",
            " ['Stephane' 23 11 67]\n",
            " ['Harald' 23 97 87]\n",
            " ['Hearmy' 43 45 54]\n",
            " ['Sinsel' 2 34 34]\n",
            " ['George' 23 66 56]\n",
            " ['James' 44 33 76]\n",
            " ['Jade' 22 56 55]\n",
            " ['Tommy' 44 32 4]\n",
            " ['Yonus' 90 28 4]\n",
            " ['Randy' 19 67 56]\n",
            " ['Rex' 32 87 6]\n",
            " ['Tucsan' 45 65 90]\n",
            " ['Amell' 100 32 45]\n",
            " ['Vin' 34 2 65]\n",
            " ['Hector' 55 4 98]]\n"
          ]
        }
      ]
    },
    {
      "cell_type": "code",
      "source": [
        "print(dataset.ndim, dataset.shape)"
      ],
      "metadata": {
        "colab": {
          "base_uri": "https://localhost:8080/"
        },
        "id": "IiAH8nuQ2E4u",
        "outputId": "677c4c2d-e313-4848-d4e5-75fc20294987"
      },
      "execution_count": 6,
      "outputs": [
        {
          "output_type": "stream",
          "name": "stdout",
          "text": [
            "2 (20, 4)\n"
          ]
        }
      ]
    },
    {
      "cell_type": "code",
      "source": [
        "import numpy as np\n",
        "avg=np.mean(dataset[:,1:],axis=1)\n",
        "print(avg)"
      ],
      "metadata": {
        "colab": {
          "base_uri": "https://localhost:8080/"
        },
        "id": "IPrRxh5a2Yop",
        "outputId": "0d86ae1b-8ab5-4ce8-96d5-3aeacf87ce53"
      },
      "execution_count": 7,
      "outputs": [
        {
          "output_type": "stream",
          "name": "stdout",
          "text": [
            "[56.0 39.333333333333336 37.333333333333336 50.333333333333336 59.0\n",
            " 33.666666666666664 69.0 47.333333333333336 23.333333333333332\n",
            " 48.333333333333336 51.0 44.333333333333336 26.666666666666668\n",
            " 40.666666666666664 47.333333333333336 41.666666666666664\n",
            " 66.66666666666667 59.0 33.666666666666664 52.333333333333336]\n"
          ]
        }
      ]
    },
    {
      "cell_type": "code",
      "source": [
        "def findGrade(mark):\n",
        "  if(mark>=0 and mark<35):\n",
        "    grade='F'\n",
        "  elif(mark>=35 and mark<45):\n",
        "    grade='S'\n",
        "  elif(mark>=45 and mark<65):\n",
        "    grade='C'\n",
        "  elif(mark>=65 and mark<75):\n",
        "    grade='B'\n",
        "  elif(mark>=75 and mark<=100):\n",
        "    grade='A'\n",
        "  return grade"
      ],
      "metadata": {
        "id": "wxSooobB2vWJ"
      },
      "execution_count": 8,
      "outputs": []
    },
    {
      "cell_type": "code",
      "source": [
        "mathsGrades=np.array([findGrade(i) for i in dataset[:,1]])\n",
        "print(mathsGrades)\n",
        "mathsGrades=mathsGrades.reshape(-1,1)\n",
        "print(mathsGrades)"
      ],
      "metadata": {
        "colab": {
          "base_uri": "https://localhost:8080/"
        },
        "id": "bTm72UTW3aKf",
        "outputId": "be56529c-d002-4eac-daf6-f3ca8fab089e"
      },
      "execution_count": 11,
      "outputs": [
        {
          "output_type": "stream",
          "name": "stdout",
          "text": [
            "['C' 'C' 'F' 'F' 'A' 'F' 'F' 'S' 'F' 'F' 'S' 'F' 'S' 'A' 'F' 'F' 'C' 'A'\n",
            " 'F' 'C']\n",
            "[['C']\n",
            " ['C']\n",
            " ['F']\n",
            " ['F']\n",
            " ['A']\n",
            " ['F']\n",
            " ['F']\n",
            " ['S']\n",
            " ['F']\n",
            " ['F']\n",
            " ['S']\n",
            " ['F']\n",
            " ['S']\n",
            " ['A']\n",
            " ['F']\n",
            " ['F']\n",
            " ['C']\n",
            " ['A']\n",
            " ['F']\n",
            " ['C']]\n"
          ]
        }
      ]
    },
    {
      "cell_type": "code",
      "source": [
        "phyGrades=np.array([findGrade(i) for i in dataset[:,2]])\n",
        "print(phyGrades)\n",
        "phyGrades=phyGrades.reshape(-1,1)\n",
        "print(phyGrades)"
      ],
      "metadata": {
        "colab": {
          "base_uri": "https://localhost:8080/"
        },
        "id": "-FTSjEbg33_B",
        "outputId": "6f36637d-b965-4961-f359-070c32d9014f"
      },
      "execution_count": 12,
      "outputs": [
        {
          "output_type": "stream",
          "name": "stdout",
          "text": [
            "['A' 'F' 'F' 'S' 'S' 'F' 'A' 'C' 'F' 'B' 'F' 'C' 'F' 'F' 'B' 'A' 'B' 'F'\n",
            " 'F' 'F']\n",
            "[['A']\n",
            " ['F']\n",
            " ['F']\n",
            " ['S']\n",
            " ['S']\n",
            " ['F']\n",
            " ['A']\n",
            " ['C']\n",
            " ['F']\n",
            " ['B']\n",
            " ['F']\n",
            " ['C']\n",
            " ['F']\n",
            " ['F']\n",
            " ['B']\n",
            " ['A']\n",
            " ['B']\n",
            " ['F']\n",
            " ['F']\n",
            " ['F']]\n"
          ]
        }
      ]
    },
    {
      "cell_type": "code",
      "source": [
        "chemGrades=np.array([findGrade(i) for i in dataset[:,3]])\n",
        "print(chemGrades)\n",
        "chemGrades=chemGrades.reshape(-1,1)\n",
        "print(chemGrades)"
      ],
      "metadata": {
        "colab": {
          "base_uri": "https://localhost:8080/"
        },
        "id": "oYaJEmWe4ng4",
        "outputId": "29ac1907-3c3d-47a4-9ac8-47d557501205"
      },
      "execution_count": 13,
      "outputs": [
        {
          "output_type": "stream",
          "name": "stdout",
          "text": [
            "['F' 'B' 'A' 'A' 'C' 'B' 'A' 'C' 'F' 'C' 'A' 'C' 'F' 'F' 'C' 'F' 'A' 'C'\n",
            " 'B' 'A']\n",
            "[['F']\n",
            " ['B']\n",
            " ['A']\n",
            " ['A']\n",
            " ['C']\n",
            " ['B']\n",
            " ['A']\n",
            " ['C']\n",
            " ['F']\n",
            " ['C']\n",
            " ['A']\n",
            " ['C']\n",
            " ['F']\n",
            " ['F']\n",
            " ['C']\n",
            " ['F']\n",
            " ['A']\n",
            " ['C']\n",
            " ['B']\n",
            " ['A']]\n"
          ]
        }
      ]
    },
    {
      "cell_type": "code",
      "source": [
        "avg=avg.reshape(-1,1).reshape(-1,1)\n",
        "print(avg)"
      ],
      "metadata": {
        "colab": {
          "base_uri": "https://localhost:8080/"
        },
        "id": "5mKHlh3A4uOk",
        "outputId": "20d25802-6088-434e-ba6e-c0389a29a8f2"
      },
      "execution_count": 14,
      "outputs": [
        {
          "output_type": "stream",
          "name": "stdout",
          "text": [
            "[[56.0]\n",
            " [39.333333333333336]\n",
            " [37.333333333333336]\n",
            " [50.333333333333336]\n",
            " [59.0]\n",
            " [33.666666666666664]\n",
            " [69.0]\n",
            " [47.333333333333336]\n",
            " [23.333333333333332]\n",
            " [48.333333333333336]\n",
            " [51.0]\n",
            " [44.333333333333336]\n",
            " [26.666666666666668]\n",
            " [40.666666666666664]\n",
            " [47.333333333333336]\n",
            " [41.666666666666664]\n",
            " [66.66666666666667]\n",
            " [59.0]\n",
            " [33.666666666666664]\n",
            " [52.333333333333336]]\n"
          ]
        }
      ]
    },
    {
      "cell_type": "code",
      "source": [
        "print(dataset)"
      ],
      "metadata": {
        "colab": {
          "base_uri": "https://localhost:8080/"
        },
        "id": "Nhmbb06846mH",
        "outputId": "552b999e-3ceb-4d32-c8bf-c76700a73e4b"
      },
      "execution_count": 15,
      "outputs": [
        {
          "output_type": "stream",
          "name": "stdout",
          "text": [
            "[['John' 45 89 34]\n",
            " ['William' 50 3 65]\n",
            " ['Henry' 34 2 76]\n",
            " ['Chris' 22 42 87]\n",
            " ['Jack' 78 44 55]\n",
            " ['Stephane' 23 11 67]\n",
            " ['Harald' 23 97 87]\n",
            " ['Hearmy' 43 45 54]\n",
            " ['Sinsel' 2 34 34]\n",
            " ['George' 23 66 56]\n",
            " ['James' 44 33 76]\n",
            " ['Jade' 22 56 55]\n",
            " ['Tommy' 44 32 4]\n",
            " ['Yonus' 90 28 4]\n",
            " ['Randy' 19 67 56]\n",
            " ['Rex' 32 87 6]\n",
            " ['Tucsan' 45 65 90]\n",
            " ['Amell' 100 32 45]\n",
            " ['Vin' 34 2 65]\n",
            " ['Hector' 55 4 98]]\n"
          ]
        }
      ]
    },
    {
      "cell_type": "code",
      "source": [
        "dataset=np.append(dataset,mathsGrades,axis=1)\n",
        "print(dataset)"
      ],
      "metadata": {
        "colab": {
          "base_uri": "https://localhost:8080/"
        },
        "id": "wXf3y98o494q",
        "outputId": "135d89b2-6a06-4e41-972f-a3a936058a44"
      },
      "execution_count": 17,
      "outputs": [
        {
          "output_type": "stream",
          "name": "stdout",
          "text": [
            "[['John' 45 89 34 'C']\n",
            " ['William' 50 3 65 'C']\n",
            " ['Henry' 34 2 76 'F']\n",
            " ['Chris' 22 42 87 'F']\n",
            " ['Jack' 78 44 55 'A']\n",
            " ['Stephane' 23 11 67 'F']\n",
            " ['Harald' 23 97 87 'F']\n",
            " ['Hearmy' 43 45 54 'S']\n",
            " ['Sinsel' 2 34 34 'F']\n",
            " ['George' 23 66 56 'F']\n",
            " ['James' 44 33 76 'S']\n",
            " ['Jade' 22 56 55 'F']\n",
            " ['Tommy' 44 32 4 'S']\n",
            " ['Yonus' 90 28 4 'A']\n",
            " ['Randy' 19 67 56 'F']\n",
            " ['Rex' 32 87 6 'F']\n",
            " ['Tucsan' 45 65 90 'C']\n",
            " ['Amell' 100 32 45 'A']\n",
            " ['Vin' 34 2 65 'F']\n",
            " ['Hector' 55 4 98 'C']]\n"
          ]
        }
      ]
    },
    {
      "cell_type": "code",
      "source": [
        "dataset=np.append(dataset,phyGrades,axis=1)\n",
        "print(dataset)"
      ],
      "metadata": {
        "colab": {
          "base_uri": "https://localhost:8080/"
        },
        "id": "X-MNgUnN5HnS",
        "outputId": "462b5345-9470-471e-f959-8bf542cbd53f"
      },
      "execution_count": 18,
      "outputs": [
        {
          "output_type": "stream",
          "name": "stdout",
          "text": [
            "[['John' 45 89 34 'C' 'A']\n",
            " ['William' 50 3 65 'C' 'F']\n",
            " ['Henry' 34 2 76 'F' 'F']\n",
            " ['Chris' 22 42 87 'F' 'S']\n",
            " ['Jack' 78 44 55 'A' 'S']\n",
            " ['Stephane' 23 11 67 'F' 'F']\n",
            " ['Harald' 23 97 87 'F' 'A']\n",
            " ['Hearmy' 43 45 54 'S' 'C']\n",
            " ['Sinsel' 2 34 34 'F' 'F']\n",
            " ['George' 23 66 56 'F' 'B']\n",
            " ['James' 44 33 76 'S' 'F']\n",
            " ['Jade' 22 56 55 'F' 'C']\n",
            " ['Tommy' 44 32 4 'S' 'F']\n",
            " ['Yonus' 90 28 4 'A' 'F']\n",
            " ['Randy' 19 67 56 'F' 'B']\n",
            " ['Rex' 32 87 6 'F' 'A']\n",
            " ['Tucsan' 45 65 90 'C' 'B']\n",
            " ['Amell' 100 32 45 'A' 'F']\n",
            " ['Vin' 34 2 65 'F' 'F']\n",
            " ['Hector' 55 4 98 'C' 'F']]\n"
          ]
        }
      ]
    },
    {
      "cell_type": "code",
      "source": [
        "dataset=np.append(dataset,chemGrades,axis=1)\n",
        "print(dataset)"
      ],
      "metadata": {
        "colab": {
          "base_uri": "https://localhost:8080/"
        },
        "id": "XGjT3Jv-5V0u",
        "outputId": "3cc42d69-723e-4da7-9f12-1fc152c0a5e6"
      },
      "execution_count": 19,
      "outputs": [
        {
          "output_type": "stream",
          "name": "stdout",
          "text": [
            "[['John' 45 89 34 'C' 'A' 'F']\n",
            " ['William' 50 3 65 'C' 'F' 'B']\n",
            " ['Henry' 34 2 76 'F' 'F' 'A']\n",
            " ['Chris' 22 42 87 'F' 'S' 'A']\n",
            " ['Jack' 78 44 55 'A' 'S' 'C']\n",
            " ['Stephane' 23 11 67 'F' 'F' 'B']\n",
            " ['Harald' 23 97 87 'F' 'A' 'A']\n",
            " ['Hearmy' 43 45 54 'S' 'C' 'C']\n",
            " ['Sinsel' 2 34 34 'F' 'F' 'F']\n",
            " ['George' 23 66 56 'F' 'B' 'C']\n",
            " ['James' 44 33 76 'S' 'F' 'A']\n",
            " ['Jade' 22 56 55 'F' 'C' 'C']\n",
            " ['Tommy' 44 32 4 'S' 'F' 'F']\n",
            " ['Yonus' 90 28 4 'A' 'F' 'F']\n",
            " ['Randy' 19 67 56 'F' 'B' 'C']\n",
            " ['Rex' 32 87 6 'F' 'A' 'F']\n",
            " ['Tucsan' 45 65 90 'C' 'B' 'A']\n",
            " ['Amell' 100 32 45 'A' 'F' 'C']\n",
            " ['Vin' 34 2 65 'F' 'F' 'B']\n",
            " ['Hector' 55 4 98 'C' 'F' 'A']]\n"
          ]
        }
      ]
    },
    {
      "cell_type": "code",
      "source": [
        "dataset=np.append(dataset,avg,axis=1)\n",
        "print(dataset)"
      ],
      "metadata": {
        "colab": {
          "base_uri": "https://localhost:8080/"
        },
        "id": "s8DJXzxX5X3w",
        "outputId": "22a07a32-ee77-46c4-ccf9-17162eea30ed"
      },
      "execution_count": 20,
      "outputs": [
        {
          "output_type": "stream",
          "name": "stdout",
          "text": [
            "[['John' 45 89 34 'C' 'A' 'F' 56.0]\n",
            " ['William' 50 3 65 'C' 'F' 'B' 39.333333333333336]\n",
            " ['Henry' 34 2 76 'F' 'F' 'A' 37.333333333333336]\n",
            " ['Chris' 22 42 87 'F' 'S' 'A' 50.333333333333336]\n",
            " ['Jack' 78 44 55 'A' 'S' 'C' 59.0]\n",
            " ['Stephane' 23 11 67 'F' 'F' 'B' 33.666666666666664]\n",
            " ['Harald' 23 97 87 'F' 'A' 'A' 69.0]\n",
            " ['Hearmy' 43 45 54 'S' 'C' 'C' 47.333333333333336]\n",
            " ['Sinsel' 2 34 34 'F' 'F' 'F' 23.333333333333332]\n",
            " ['George' 23 66 56 'F' 'B' 'C' 48.333333333333336]\n",
            " ['James' 44 33 76 'S' 'F' 'A' 51.0]\n",
            " ['Jade' 22 56 55 'F' 'C' 'C' 44.333333333333336]\n",
            " ['Tommy' 44 32 4 'S' 'F' 'F' 26.666666666666668]\n",
            " ['Yonus' 90 28 4 'A' 'F' 'F' 40.666666666666664]\n",
            " ['Randy' 19 67 56 'F' 'B' 'C' 47.333333333333336]\n",
            " ['Rex' 32 87 6 'F' 'A' 'F' 41.666666666666664]\n",
            " ['Tucsan' 45 65 90 'C' 'B' 'A' 66.66666666666667]\n",
            " ['Amell' 100 32 45 'A' 'F' 'C' 59.0]\n",
            " ['Vin' 34 2 65 'F' 'F' 'B' 33.666666666666664]\n",
            " ['Hector' 55 4 98 'C' 'F' 'A' 52.333333333333336]]\n"
          ]
        }
      ]
    },
    {
      "cell_type": "code",
      "source": [
        "np.save('student_new',dataset)"
      ],
      "metadata": {
        "id": "eEBD07R25b8R"
      },
      "execution_count": 21,
      "outputs": []
    },
    {
      "cell_type": "code",
      "source": [
        "data=np.load('/content/drive/MyDrive/Colab Notebooks/Python_Programming/student_new.npy')\n",
        "print(data)"
      ],
      "metadata": {
        "colab": {
          "base_uri": "https://localhost:8080/",
          "height": 338
        },
        "id": "43iNSfyG5uL_",
        "outputId": "a18808cb-5caa-4e89-8ade-b5382ff78d87"
      },
      "execution_count": 22,
      "outputs": [
        {
          "output_type": "error",
          "ename": "ValueError",
          "evalue": "Object arrays cannot be loaded when allow_pickle=False",
          "traceback": [
            "\u001b[0;31m---------------------------------------------------------------------------\u001b[0m",
            "\u001b[0;31mValueError\u001b[0m                                Traceback (most recent call last)",
            "\u001b[0;32m<ipython-input-22-c01efe3907a3>\u001b[0m in \u001b[0;36m<cell line: 1>\u001b[0;34m()\u001b[0m\n\u001b[0;32m----> 1\u001b[0;31m \u001b[0mdata\u001b[0m\u001b[0;34m=\u001b[0m\u001b[0mnp\u001b[0m\u001b[0;34m.\u001b[0m\u001b[0mload\u001b[0m\u001b[0;34m(\u001b[0m\u001b[0;34m'/content/drive/MyDrive/Colab Notebooks/Python_Programming/student_new.npy'\u001b[0m\u001b[0;34m)\u001b[0m\u001b[0;34m\u001b[0m\u001b[0;34m\u001b[0m\u001b[0m\n\u001b[0m\u001b[1;32m      2\u001b[0m \u001b[0mprint\u001b[0m\u001b[0;34m(\u001b[0m\u001b[0mdata\u001b[0m\u001b[0;34m)\u001b[0m\u001b[0;34m\u001b[0m\u001b[0;34m\u001b[0m\u001b[0m\n",
            "\u001b[0;32m/usr/local/lib/python3.10/dist-packages/numpy/lib/npyio.py\u001b[0m in \u001b[0;36mload\u001b[0;34m(file, mmap_mode, allow_pickle, fix_imports, encoding, max_header_size)\u001b[0m\n\u001b[1;32m    430\u001b[0m                                           max_header_size=max_header_size)\n\u001b[1;32m    431\u001b[0m             \u001b[0;32melse\u001b[0m\u001b[0;34m:\u001b[0m\u001b[0;34m\u001b[0m\u001b[0;34m\u001b[0m\u001b[0m\n\u001b[0;32m--> 432\u001b[0;31m                 return format.read_array(fid, allow_pickle=allow_pickle,\n\u001b[0m\u001b[1;32m    433\u001b[0m                                          \u001b[0mpickle_kwargs\u001b[0m\u001b[0;34m=\u001b[0m\u001b[0mpickle_kwargs\u001b[0m\u001b[0;34m,\u001b[0m\u001b[0;34m\u001b[0m\u001b[0;34m\u001b[0m\u001b[0m\n\u001b[1;32m    434\u001b[0m                                          max_header_size=max_header_size)\n",
            "\u001b[0;32m/usr/local/lib/python3.10/dist-packages/numpy/lib/format.py\u001b[0m in \u001b[0;36mread_array\u001b[0;34m(fp, allow_pickle, pickle_kwargs, max_header_size)\u001b[0m\n\u001b[1;32m    774\u001b[0m         \u001b[0;31m# The array contained Python objects. We need to unpickle the data.\u001b[0m\u001b[0;34m\u001b[0m\u001b[0;34m\u001b[0m\u001b[0m\n\u001b[1;32m    775\u001b[0m         \u001b[0;32mif\u001b[0m \u001b[0;32mnot\u001b[0m \u001b[0mallow_pickle\u001b[0m\u001b[0;34m:\u001b[0m\u001b[0;34m\u001b[0m\u001b[0;34m\u001b[0m\u001b[0m\n\u001b[0;32m--> 776\u001b[0;31m             raise ValueError(\"Object arrays cannot be loaded when \"\n\u001b[0m\u001b[1;32m    777\u001b[0m                              \"allow_pickle=False\")\n\u001b[1;32m    778\u001b[0m         \u001b[0;32mif\u001b[0m \u001b[0mpickle_kwargs\u001b[0m \u001b[0;32mis\u001b[0m \u001b[0;32mNone\u001b[0m\u001b[0;34m:\u001b[0m\u001b[0;34m\u001b[0m\u001b[0;34m\u001b[0m\u001b[0m\n",
            "\u001b[0;31mValueError\u001b[0m: Object arrays cannot be loaded when allow_pickle=False"
          ]
        }
      ]
    },
    {
      "cell_type": "code",
      "source": [
        "np.savetxt(\"dataset_new.csv\", dataset, delimiter=\",\")"
      ],
      "metadata": {
        "colab": {
          "base_uri": "https://localhost:8080/",
          "height": 442
        },
        "id": "wRQVx5rM6ZR1",
        "outputId": "71e10775-5bbe-4046-d3bb-f67b63aa4f8b"
      },
      "execution_count": 24,
      "outputs": [
        {
          "output_type": "error",
          "ename": "TypeError",
          "evalue": "Mismatch between array dtype ('object') and format specifier ('%.18e,%.18e,%.18e,%.18e,%.18e,%.18e,%.18e,%.18e')",
          "traceback": [
            "\u001b[0;31m---------------------------------------------------------------------------\u001b[0m",
            "\u001b[0;31mTypeError\u001b[0m                                 Traceback (most recent call last)",
            "\u001b[0;32m/usr/local/lib/python3.10/dist-packages/numpy/lib/npyio.py\u001b[0m in \u001b[0;36msavetxt\u001b[0;34m(fname, X, fmt, delimiter, newline, header, footer, comments, encoding)\u001b[0m\n\u001b[1;32m   1589\u001b[0m                 \u001b[0;32mtry\u001b[0m\u001b[0;34m:\u001b[0m\u001b[0;34m\u001b[0m\u001b[0;34m\u001b[0m\u001b[0m\n\u001b[0;32m-> 1590\u001b[0;31m                     \u001b[0mv\u001b[0m \u001b[0;34m=\u001b[0m \u001b[0mformat\u001b[0m \u001b[0;34m%\u001b[0m \u001b[0mtuple\u001b[0m\u001b[0;34m(\u001b[0m\u001b[0mrow\u001b[0m\u001b[0;34m)\u001b[0m \u001b[0;34m+\u001b[0m \u001b[0mnewline\u001b[0m\u001b[0;34m\u001b[0m\u001b[0;34m\u001b[0m\u001b[0m\n\u001b[0m\u001b[1;32m   1591\u001b[0m                 \u001b[0;32mexcept\u001b[0m \u001b[0mTypeError\u001b[0m \u001b[0;32mas\u001b[0m \u001b[0me\u001b[0m\u001b[0;34m:\u001b[0m\u001b[0;34m\u001b[0m\u001b[0;34m\u001b[0m\u001b[0m\n",
            "\u001b[0;31mTypeError\u001b[0m: must be real number, not str",
            "\nThe above exception was the direct cause of the following exception:\n",
            "\u001b[0;31mTypeError\u001b[0m                                 Traceback (most recent call last)",
            "\u001b[0;32m<ipython-input-24-06270ba22767>\u001b[0m in \u001b[0;36m<cell line: 1>\u001b[0;34m()\u001b[0m\n\u001b[0;32m----> 1\u001b[0;31m \u001b[0mnp\u001b[0m\u001b[0;34m.\u001b[0m\u001b[0msavetxt\u001b[0m\u001b[0;34m(\u001b[0m\u001b[0;34m\"dataset_new.csv\"\u001b[0m\u001b[0;34m,\u001b[0m \u001b[0mdataset\u001b[0m\u001b[0;34m,\u001b[0m \u001b[0mdelimiter\u001b[0m\u001b[0;34m=\u001b[0m\u001b[0;34m\",\"\u001b[0m\u001b[0;34m)\u001b[0m\u001b[0;34m\u001b[0m\u001b[0;34m\u001b[0m\u001b[0m\n\u001b[0m",
            "\u001b[0;32m/usr/local/lib/python3.10/dist-packages/numpy/core/overrides.py\u001b[0m in \u001b[0;36msavetxt\u001b[0;34m(*args, **kwargs)\u001b[0m\n",
            "\u001b[0;32m/usr/local/lib/python3.10/dist-packages/numpy/lib/npyio.py\u001b[0m in \u001b[0;36msavetxt\u001b[0;34m(fname, X, fmt, delimiter, newline, header, footer, comments, encoding)\u001b[0m\n\u001b[1;32m   1590\u001b[0m                     \u001b[0mv\u001b[0m \u001b[0;34m=\u001b[0m \u001b[0mformat\u001b[0m \u001b[0;34m%\u001b[0m \u001b[0mtuple\u001b[0m\u001b[0;34m(\u001b[0m\u001b[0mrow\u001b[0m\u001b[0;34m)\u001b[0m \u001b[0;34m+\u001b[0m \u001b[0mnewline\u001b[0m\u001b[0;34m\u001b[0m\u001b[0;34m\u001b[0m\u001b[0m\n\u001b[1;32m   1591\u001b[0m                 \u001b[0;32mexcept\u001b[0m \u001b[0mTypeError\u001b[0m \u001b[0;32mas\u001b[0m \u001b[0me\u001b[0m\u001b[0;34m:\u001b[0m\u001b[0;34m\u001b[0m\u001b[0;34m\u001b[0m\u001b[0m\n\u001b[0;32m-> 1592\u001b[0;31m                     raise TypeError(\"Mismatch between array dtype ('%s') and \"\n\u001b[0m\u001b[1;32m   1593\u001b[0m                                     \u001b[0;34m\"format specifier ('%s')\"\u001b[0m\u001b[0;34m\u001b[0m\u001b[0;34m\u001b[0m\u001b[0m\n\u001b[1;32m   1594\u001b[0m                                     % (str(X.dtype), format)) from e\n",
            "\u001b[0;31mTypeError\u001b[0m: Mismatch between array dtype ('object') and format specifier ('%.18e,%.18e,%.18e,%.18e,%.18e,%.18e,%.18e,%.18e')"
          ]
        }
      ]
    },
    {
      "cell_type": "code",
      "source": [
        "df=pd.DataFrame(data=dataset)\n",
        "print(df)"
      ],
      "metadata": {
        "colab": {
          "base_uri": "https://localhost:8080/"
        },
        "id": "CPAA_7fW6z8z",
        "outputId": "51d760f7-bc87-47ad-da32-ab0561499b71"
      },
      "execution_count": 25,
      "outputs": [
        {
          "output_type": "stream",
          "name": "stdout",
          "text": [
            "           0    1   2   3  4  5  6          7\n",
            "0       John   45  89  34  C  A  F       56.0\n",
            "1    William   50   3  65  C  F  B  39.333333\n",
            "2      Henry   34   2  76  F  F  A  37.333333\n",
            "3      Chris   22  42  87  F  S  A  50.333333\n",
            "4       Jack   78  44  55  A  S  C       59.0\n",
            "5   Stephane   23  11  67  F  F  B  33.666667\n",
            "6     Harald   23  97  87  F  A  A       69.0\n",
            "7     Hearmy   43  45  54  S  C  C  47.333333\n",
            "8     Sinsel    2  34  34  F  F  F  23.333333\n",
            "9     George   23  66  56  F  B  C  48.333333\n",
            "10     James   44  33  76  S  F  A       51.0\n",
            "11      Jade   22  56  55  F  C  C  44.333333\n",
            "12     Tommy   44  32   4  S  F  F  26.666667\n",
            "13     Yonus   90  28   4  A  F  F  40.666667\n",
            "14     Randy   19  67  56  F  B  C  47.333333\n",
            "15       Rex   32  87   6  F  A  F  41.666667\n",
            "16    Tucsan   45  65  90  C  B  A  66.666667\n",
            "17     Amell  100  32  45  A  F  C       59.0\n",
            "18       Vin   34   2  65  F  F  B  33.666667\n",
            "19    Hector   55   4  98  C  F  A  52.333333\n"
          ]
        }
      ]
    },
    {
      "cell_type": "code",
      "source": [
        "df=pd.DataFrame(data=dataset,columns=[\"name\",\"maths\",\"phy\",\"chem\",\"m-grade\",\"p-grade\",\"c-grade\",\"avg\"])\n",
        "print(df)"
      ],
      "metadata": {
        "colab": {
          "base_uri": "https://localhost:8080/"
        },
        "id": "minRoUGz7DzG",
        "outputId": "b004c9fd-a9d4-4e2e-9219-746936725e95"
      },
      "execution_count": 26,
      "outputs": [
        {
          "output_type": "stream",
          "name": "stdout",
          "text": [
            "        name maths phy chem m-grade p-grade c-grade        avg\n",
            "0       John    45  89   34       C       A       F       56.0\n",
            "1    William    50   3   65       C       F       B  39.333333\n",
            "2      Henry    34   2   76       F       F       A  37.333333\n",
            "3      Chris    22  42   87       F       S       A  50.333333\n",
            "4       Jack    78  44   55       A       S       C       59.0\n",
            "5   Stephane    23  11   67       F       F       B  33.666667\n",
            "6     Harald    23  97   87       F       A       A       69.0\n",
            "7     Hearmy    43  45   54       S       C       C  47.333333\n",
            "8     Sinsel     2  34   34       F       F       F  23.333333\n",
            "9     George    23  66   56       F       B       C  48.333333\n",
            "10     James    44  33   76       S       F       A       51.0\n",
            "11      Jade    22  56   55       F       C       C  44.333333\n",
            "12     Tommy    44  32    4       S       F       F  26.666667\n",
            "13     Yonus    90  28    4       A       F       F  40.666667\n",
            "14     Randy    19  67   56       F       B       C  47.333333\n",
            "15       Rex    32  87    6       F       A       F  41.666667\n",
            "16    Tucsan    45  65   90       C       B       A  66.666667\n",
            "17     Amell   100  32   45       A       F       C       59.0\n",
            "18       Vin    34   2   65       F       F       B  33.666667\n",
            "19    Hector    55   4   98       C       F       A  52.333333\n"
          ]
        }
      ]
    },
    {
      "cell_type": "code",
      "source": [
        "df.to_csv('/content/drive/MyDrive/Colab Notebooks/Python_Programming/new_dataset.csv',index=False)"
      ],
      "metadata": {
        "id": "OLjOhy8f7YAI"
      },
      "execution_count": 27,
      "outputs": []
    },
    {
      "cell_type": "code",
      "source": [],
      "metadata": {
        "id": "hn8mI1pq7rFO"
      },
      "execution_count": null,
      "outputs": []
    }
  ]
}