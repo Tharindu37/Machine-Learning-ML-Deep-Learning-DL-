{
 "cells": [
  {
   "cell_type": "code",
   "execution_count": 1,
   "id": "abf1ad2f-ac7f-4546-9cf5-a5e606890d4b",
   "metadata": {},
   "outputs": [],
   "source": [
    "x=10\n",
    "y=10"
   ]
  },
  {
   "cell_type": "code",
   "execution_count": 2,
   "id": "f2eabdf8-f5e0-400b-b4a4-8856be3c51ea",
   "metadata": {},
   "outputs": [
    {
     "name": "stdout",
     "output_type": "stream",
     "text": [
      "10 10\n"
     ]
    }
   ],
   "source": [
    "print(x,y)"
   ]
  },
  {
   "cell_type": "markdown",
   "id": "bceb74ec-b8c0-4117-b8db-e98eb07b891f",
   "metadata": {},
   "source": [
    "# Heading 1\n",
    "## Heading 2\n",
    "\n",
    "<h1>This is a heading</h1>"
   ]
  },
  {
   "cell_type": "code",
   "execution_count": null,
   "id": "38c71975-2092-4060-a595-5f3c975b3bdc",
   "metadata": {},
   "outputs": [],
   "source": []
  }
 ],
 "metadata": {
  "kernelspec": {
   "display_name": "Python 3 (ipykernel)",
   "language": "python",
   "name": "python3"
  },
  "language_info": {
   "codemirror_mode": {
    "name": "ipython",
    "version": 3
   },
   "file_extension": ".py",
   "mimetype": "text/x-python",
   "name": "python",
   "nbconvert_exporter": "python",
   "pygments_lexer": "ipython3",
   "version": "3.10.7"
  }
 },
 "nbformat": 4,
 "nbformat_minor": 5
}
