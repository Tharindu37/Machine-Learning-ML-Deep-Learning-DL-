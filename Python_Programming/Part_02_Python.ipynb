{
 "cells": [
  {
   "cell_type": "markdown",
   "id": "9a311ee4-a7f6-4202-a54c-b304db2e4b2c",
   "metadata": {},
   "source": [
    "## 1.1 Python Veriables\n",
    "<ul>\n",
    "    <li>Numbers</li>\n",
    "    <li>String</li>\n",
    "    <li>List</li>\n",
    "    <li>Tuple</li>\n",
    "    <li>Dictionary</li>\n",
    "</ul>\n",
    "\n",
    "<h5>Python Identifiers</h5>\n",
    "<p>A Python identifier is a name used to identify a variable, function, class, module or other object.</p>"
   ]
  },
  {
   "cell_type": "code",
   "execution_count": 1,
   "id": "ff6da05d-c102-4ec0-836e-c83c52fb09e2",
   "metadata": {},
   "outputs": [
    {
     "name": "stdout",
     "output_type": "stream",
     "text": [
      "10 20.5 X Hello World\n"
     ]
    }
   ],
   "source": [
    "a=10\n",
    "b=20.5\n",
    "c='X'\n",
    "d='Hello World'\n",
    "\n",
    "print(a, b, c, d)"
   ]
  },
  {
   "cell_type": "code",
   "execution_count": 2,
   "id": "a0ddd61a-a3f3-4311-a527-33ec7f277f98",
   "metadata": {},
   "outputs": [
    {
     "name": "stdout",
     "output_type": "stream",
     "text": [
      "1 1 1\n"
     ]
    }
   ],
   "source": [
    "a = b = c = 1\n",
    "print(a, b, c)"
   ]
  },
  {
   "cell_type": "code",
   "execution_count": 3,
   "id": "a359f757-f6fd-4817-8744-b93d76cf2261",
   "metadata": {},
   "outputs": [
    {
     "name": "stdout",
     "output_type": "stream",
     "text": [
      "1 2 john\n"
     ]
    }
   ],
   "source": [
    "a, b, c = 1, 2, \"john\"\n",
    "print(a, b, c)"
   ]
  },
  {
   "cell_type": "markdown",
   "id": "c95a08d9-1ea8-417b-8935-c9c62c45a3f4",
   "metadata": {},
   "source": [
    "## 1.2 Python Strings\n",
    "<p>String in Python are identified as a contiguous set of characters represented in the quotation marks. Python allows for either pairs of single or double quotes.</p>"
   ]
  },
  {
   "cell_type": "code",
   "execution_count": 4,
   "id": "0ec01507-943a-4149-862b-5b6b7ebaf7e7",
   "metadata": {},
   "outputs": [
    {
     "name": "stdout",
     "output_type": "stream",
     "text": [
      "Hello World!\n",
      "H\n",
      "llo\n",
      "llo World!\n",
      "Hello World!Hello World!\n",
      "Hello World!TEST\n"
     ]
    }
   ],
   "source": [
    "myStr=\"Hello World!\"\n",
    "print(myStr) # Prints complete string\n",
    "print(myStr[0]) # Prints first character of the string\n",
    "print(myStr[2:5]) # Prints characters starting from 3rd to 5th\n",
    "print(myStr[2:]) # Prints string starting from 3rd character\n",
    "print(myStr * 2) # Prints string two times\n",
    "print(myStr + \"TEST\") # Prints concatenated string"
   ]
  },
  {
   "cell_type": "markdown",
   "id": "1221b968-efe9-4fb1-8d42-f8a677bd7bda",
   "metadata": {},
   "source": [
    "## 1.3 Python Input\n",
    "<p>Python <b>input()</b> function returns the user keyboard input as a string. You can use the <b>eval()</b> function to convert it into the desired data type. </p>"
   ]
  },
  {
   "cell_type": "code",
   "execution_count": 6,
   "id": "10d0b49b-5837-4ce2-975a-71733ad82bc7",
   "metadata": {},
   "outputs": [
    {
     "name": "stdin",
     "output_type": "stream",
     "text": [
      " 10\n"
     ]
    },
    {
     "name": "stdout",
     "output_type": "stream",
     "text": [
      "x:  10\n"
     ]
    }
   ],
   "source": [
    "x=input()\n",
    "print('x: ', x)"
   ]
  },
  {
   "cell_type": "code",
   "execution_count": 7,
   "id": "93f3620b-b11b-4f56-91bd-35384e8d4ef4",
   "metadata": {},
   "outputs": [
    {
     "name": "stdin",
     "output_type": "stream",
     "text": [
      "Enter a value for x: 20\n"
     ]
    },
    {
     "name": "stdout",
     "output_type": "stream",
     "text": [
      "x:  20\n"
     ]
    }
   ],
   "source": [
    "x=input('Enter a value for x:')\n",
    "print('x: ', x)"
   ]
  },
  {
   "cell_type": "code",
   "execution_count": 8,
   "id": "10911ac2-0b8d-4976-af9f-372c8ade2859",
   "metadata": {},
   "outputs": [
    {
     "name": "stdin",
     "output_type": "stream",
     "text": [
      "Enter a value for x: 10\n",
      "Enter a value for y: 20.5\n"
     ]
    },
    {
     "name": "stdout",
     "output_type": "stream",
     "text": [
      "x+y 1020.5\n"
     ]
    }
   ],
   "source": [
    "x=input('Enter a value for x:')\n",
    "y=input('Enter a value for y:')\n",
    "print('x+y', x+y)"
   ]
  },
  {
   "cell_type": "code",
   "execution_count": 9,
   "id": "859aa030-f03c-4dc6-9515-1a0f57a64d9d",
   "metadata": {},
   "outputs": [
    {
     "name": "stdin",
     "output_type": "stream",
     "text": [
      "Enter a value for x: 10\n",
      "Enter a value for y: 20.5\n"
     ]
    },
    {
     "name": "stdout",
     "output_type": "stream",
     "text": [
      "x+y: 30.5\n"
     ]
    }
   ],
   "source": [
    "x=eval(input('Enter a value for x:'))\n",
    "y=eval(input('Enter a value for y:'))\n",
    "print('x+y:', x+y)"
   ]
  },
  {
   "cell_type": "code",
   "execution_count": 12,
   "id": "075639a5-63aa-41d8-8cd0-6a0b4a0f8899",
   "metadata": {},
   "outputs": [
    {
     "name": "stdin",
     "output_type": "stream",
     "text": [
      "Enter value1: 20\n",
      "Enter value1: 10\n"
     ]
    },
    {
     "name": "stdout",
     "output_type": "stream",
     "text": [
      "Addition 30\n",
      "Subtraction 10\n",
      "Multiplication 200\n",
      "Division 2.0\n",
      "Modulus 0\n",
      "Exponent 10240000000000\n"
     ]
    }
   ],
   "source": [
    "value1=eval(input('Enter value1:'))\n",
    "value2=eval(input('Enter value1:'))\n",
    "print('Addition', value1+value2)\n",
    "print('Subtraction', value1-value2)\n",
    "print('Multiplication', value1*value2)\n",
    "print('Division', value1/value2)\n",
    "print('Modulus', value1%value2)\n",
    "print('Exponent', value1**value2)"
   ]
  },
  {
   "cell_type": "markdown",
   "id": "e928942f-1ca0-43d1-b8f0-437e2b81ac3f",
   "metadata": {},
   "source": [
    "## 2 Arrays in Python\n",
    "<p>In most of the other Programming Languages, an array defined as a data structure, which can store a fixed-size collection of elements of the same data type.</p>\n",
    "<ul>\n",
    "    <li>Lists</li>\n",
    "    <li>Tuples</li>\n",
    "    <li>Dictionaries</li>\n",
    "</ul>"
   ]
  },
  {
   "cell_type": "markdown",
   "id": "4a7fc563-25b8-4c97-b14a-3ba87f315688",
   "metadata": {},
   "source": [
    "## 2.1 Lists\n",
    "<p>The list is the most versatile datatype available in Python, which can be written as a list of comma-separated values (items) between square brackets. Important thing about a list is that the items in a list need not be of the same type.</p>\n",
    "<p>Creating a list is as simple as putting different comma-separated values between square brackets.</p>"
   ]
  },
  {
   "cell_type": "code",
   "execution_count": 13,
   "id": "5b2a57d3-3a65-43c0-820a-366566307a35",
   "metadata": {},
   "outputs": [
    {
     "name": "stdout",
     "output_type": "stream",
     "text": [
      "[10, 20.5, 'X', 'Hello']\n",
      "10\n",
      "20.5\n"
     ]
    }
   ],
   "source": [
    "myList=[10,20.5,'X','Hello']\n",
    "print(myList)\n",
    "print(myList[0])\n",
    "print(myList[1])"
   ]
  },
  {
   "cell_type": "code",
   "execution_count": 17,
   "id": "316f3132-2f7b-4bf5-9a29-59e993c92660",
   "metadata": {},
   "outputs": [
    {
     "name": "stdout",
     "output_type": "stream",
     "text": [
      "[10, 20, 40]\n",
      "[10, 20, 40]\n",
      "[23, 21, 24, 12]\n",
      "[40, 23, 21]\n"
     ]
    }
   ],
   "source": [
    "myList=[10,20,40,23,21,24,12]\n",
    "print(myList[0:3])\n",
    "print(myList[:3])\n",
    "print(myList[3:])\n",
    "print(myList[2:5])"
   ]
  },
  {
   "cell_type": "markdown",
   "id": "359a51ea-d26c-45f9-9cb5-495008c05a45",
   "metadata": {},
   "source": [
    "<h5>Update List Elements</h5>\n",
    "<p>You can update single or multiple elements of lists by giving the slice on the left-hand side of the assignment operator.</p>"
   ]
  },
  {
   "cell_type": "code",
   "execution_count": 15,
   "id": "83ad6572-1d09-42f9-9e94-834f760abf94",
   "metadata": {},
   "outputs": [
    {
     "name": "stdout",
     "output_type": "stream",
     "text": [
      "Value available at index 2 1997\n",
      "New value available at index 2 :  2001\n"
     ]
    }
   ],
   "source": [
    "myList=['Physics','Chemistry',1997,2000]\n",
    "print(\"Value available at index 2\", myList[2])\n",
    "\n",
    "myList[2]=2001\n",
    "print(\"New value available at index 2 : \", myList[2])"
   ]
  },
  {
   "cell_type": "markdown",
   "id": "a9e39c2f-7216-4a72-a60b-ea53ff38f1db",
   "metadata": {},
   "source": [
    "<h5>Delete List Elements</h5>\n",
    "<p>To remove a list element, you can use either the del statement if you know exactly which element(s) you are deleting. You can use the <b>remove()</b> method if you do not know exactly which items to delete. For example -</p>"
   ]
  },
  {
   "cell_type": "code",
   "execution_count": 16,
   "id": "725e28a6-1bcf-4bb2-aa35-ea293eefc91d",
   "metadata": {},
   "outputs": [
    {
     "name": "stdout",
     "output_type": "stream",
     "text": [
      "['Physics', 'Chemistry', 1997, 2000]\n",
      "After deleting value at index 2 :  ['Physics', 'Chemistry', 2000]\n"
     ]
    }
   ],
   "source": [
    "myList=['Physics','Chemistry',1997,2000]\n",
    "print(myList)\n",
    "\n",
    "del myList[2]\n",
    "print(\"After deleting value at index 2 : \", myList)"
   ]
  },
  {
   "cell_type": "markdown",
   "id": "a5f5d87e-f9ce-4a3b-8220-82addb91ee45",
   "metadata": {},
   "source": [
    "<h5>Built-in List Functions and Methods</h5>\n",
    "<p>Python include the following list functions-</p>\n",
    "<ul>\n",
    "    <li><b>len(list)</b> Gives the total length of the list.</li>\n",
    "    <li><b>max(list)</b> Returns item from the list with max value.</li>\n",
    "    <li><b>min(list)</b> Returns item from the list with min value.</li>\n",
    "    <li><b>sum(list)</b> Returns summation of the items from the list.</li>\n",
    "</ul>"
   ]
  },
  {
   "cell_type": "code",
   "execution_count": 18,
   "id": "bfd27652-c0b6-47f9-a51f-44a42c6848e0",
   "metadata": {},
   "outputs": [
    {
     "name": "stdout",
     "output_type": "stream",
     "text": [
      "3\n"
     ]
    }
   ],
   "source": [
    "list1=['Physics','Chemistry','Maths']\n",
    "x=len(list1)\n",
    "print(x)"
   ]
  },
  {
   "cell_type": "code",
   "execution_count": 19,
   "id": "4873b5ec-411b-4156-af7e-4c4f04ebf3c4",
   "metadata": {},
   "outputs": [
    {
     "name": "stdout",
     "output_type": "stream",
     "text": [
      "Max value element :  Python\n",
      "Max value element :  700\n"
     ]
    }
   ],
   "source": [
    "list1, list2=['C++', 'Java', 'Python'], [456, 700, 200]\n",
    "print(\"Max value element : \", max(list1))\n",
    "print(\"Max value element : \", max(list2))"
   ]
  },
  {
   "cell_type": "code",
   "execution_count": 20,
   "id": "308ee07a-dfcd-40a2-9eea-8391a05dd6fd",
   "metadata": {},
   "outputs": [
    {
     "name": "stdout",
     "output_type": "stream",
     "text": [
      "[0, 1, 2, 3, 4, 5, 6, 7, 8, 9]\n",
      "45\n"
     ]
    }
   ],
   "source": [
    "list3=list(range(10))\n",
    "print(list3)\n",
    "print(sum(list3))"
   ]
  },
  {
   "cell_type": "markdown",
   "id": "5f44b835-1748-46d5-a08a-7e838af12015",
   "metadata": {},
   "source": [
    "<h6>Python includes the following list methods</h6>\n",
    "<ul>\n",
    "    <li><b>list.append(obj)</b> Appends object obj to list</li>\n",
    "    <li><b>list.count(obj)</b> Returns count of how many times obj occurs in list</li>\n",
    "    <li><b>list.extend(seq)</b> Appends the contents of seq to list</li>\n",
    "    <li><b>list.index(obj)</b> Returns the lowest index in list that obj appears</li>\n",
    "    <li><b>list.insert(index,obj)</b> Inserts object obj into list at offset index</li>\n",
    "    <li><b>list.sort([func])</b> Sorts objects of list, use compare func if given</li>\n",
    "    <li><b>list.remove(obj)</b> Removes object obj from list</li>\n",
    "</ul>"
   ]
  },
  {
   "cell_type": "code",
   "execution_count": 22,
   "id": "e71dcdba-8d68-4a67-aa00-bfcd5370856f",
   "metadata": {},
   "outputs": [
    {
     "name": "stdout",
     "output_type": "stream",
     "text": [
      "Update list :  ['C++', 'Java', 'Python', 'C#']\n"
     ]
    }
   ],
   "source": [
    "list1=['C++', 'Java', 'Python']\n",
    "list1.append('C#')\n",
    "print(\"Update list : \", list1)"
   ]
  },
  {
   "cell_type": "code",
   "execution_count": 23,
   "id": "190eca51-ec6f-4165-8233-3a25036a6c4f",
   "metadata": {},
   "outputs": [
    {
     "name": "stdout",
     "output_type": "stream",
     "text": [
      "Count for 123 :  2\n",
      "Count fro zara :  1\n"
     ]
    }
   ],
   "source": [
    "aList=[123, 'xyz', 'zara', 'abc', 123];\n",
    "print(\"Count for 123 : \", aList.count(123))\n",
    "print(\"Count fro zara : \", aList.count('zara'))"
   ]
  },
  {
   "cell_type": "code",
   "execution_count": 1,
   "id": "c606ecbf-46e1-48a9-9986-6abddad01d15",
   "metadata": {},
   "outputs": [
    {
     "name": "stdout",
     "output_type": "stream",
     "text": [
      "Extended List : ['physics', 'chemistry', 'maths', 0, 1, 2, 3, 4]\n"
     ]
    }
   ],
   "source": [
    "list1=['physics','chemistry','maths']\n",
    "list2=list(range(5)) #creates list of numbers between 0-4\n",
    "list1.extend(list2)\n",
    "print('Extended List :', list1)"
   ]
  },
  {
   "cell_type": "code",
   "execution_count": 2,
   "id": "a6e9551c-f296-429c-a582-a0640e512a22",
   "metadata": {},
   "outputs": [
    {
     "name": "stdout",
     "output_type": "stream",
     "text": [
      "Index of chemistry: 1\n"
     ]
    }
   ],
   "source": [
    "list1=['physics','chemistry','maths']\n",
    "print('Index of chemistry:', list1.index('chemistry'))"
   ]
  },
  {
   "cell_type": "code",
   "execution_count": 3,
   "id": "c5f0a1b0-dc3d-475a-a047-4ec105fbb95e",
   "metadata": {},
   "outputs": [
    {
     "name": "stdout",
     "output_type": "stream",
     "text": [
      "list now:  ['physics', 'biology', 'chemistry']\n",
      "list now:  ['physics', 'chemistry']\n"
     ]
    }
   ],
   "source": [
    "list1=['physics','biology','chemistry','maths']\n",
    "list1.pop()\n",
    "print('list now: ',list1)\n",
    "list1.pop(1)\n",
    "print('list now: ', list1)"
   ]
  },
  {
   "cell_type": "code",
   "execution_count": 4,
   "id": "dd3c9a47-f35a-4151-9764-c06420af9400",
   "metadata": {},
   "outputs": [
    {
     "name": "stdout",
     "output_type": "stream",
     "text": [
      "list now :  ['physics', 'chemistry', 'maths']\n",
      "list now :  ['physics', 'chemistry']\n"
     ]
    }
   ],
   "source": [
    "list1=['physics','biology','chemistry','maths']\n",
    "list1.remove('biology')\n",
    "print(\"list now : \", list1)\n",
    "list1.remove('maths')\n",
    "print(\"list now : \", list1)"
   ]
  },
  {
   "cell_type": "code",
   "execution_count": 5,
   "id": "0a8777e1-90e0-426b-87a3-1416590156af",
   "metadata": {},
   "outputs": [
    {
     "name": "stdout",
     "output_type": "stream",
     "text": [
      "list now :  ['maths', 'chemistry', 'biology', 'physics']\n"
     ]
    }
   ],
   "source": [
    "list1=['physics','biology','chemistry','maths']\n",
    "list1.reverse()\n",
    "print(\"list now : \", list1)"
   ]
  },
  {
   "cell_type": "code",
   "execution_count": 11,
   "id": "deed22ee-f6f2-46ec-b01f-eb5af0baa341",
   "metadata": {},
   "outputs": [
    {
     "name": "stdout",
     "output_type": "stream",
     "text": [
      "list now :  ['biology', 'chemistry', 'maths', 'physics']\n"
     ]
    }
   ],
   "source": [
    "list1=['physics','biology','chemistry','maths']\n",
    "list1.sort(reverse=False)\n",
    "print(\"list now : \", list1)"
   ]
  },
  {
   "cell_type": "code",
   "execution_count": 7,
   "id": "32087a40-f930-4f40-93ed-86cdc60e32a6",
   "metadata": {},
   "outputs": [
    {
     "name": "stdout",
     "output_type": "stream",
     "text": [
      "list now :  ['biology', 'chemistry', 'maths', 'physics']\n"
     ]
    }
   ],
   "source": [
    "list1=['physics','biology','chemistry','maths']\n",
    "list1.sort()\n",
    "print(\"list now : \", list1)"
   ]
  },
  {
   "cell_type": "code",
   "execution_count": 12,
   "id": "4f2b45d4-9c5a-4c54-8843-a42e0610f448",
   "metadata": {},
   "outputs": [
    {
     "name": "stdout",
     "output_type": "stream",
     "text": [
      "list now :  ['physics', 'maths', 'chemistry', 'biology']\n"
     ]
    }
   ],
   "source": [
    "list1=['physics','biology','chemistry','maths']\n",
    "list1.sort(reverse=True)\n",
    "print(\"list now : \", list1)"
   ]
  },
  {
   "cell_type": "markdown",
   "id": "3f2090d4-4098-4189-880e-bce0d609506b",
   "metadata": {},
   "source": [
    "## 2.2 Tuples\n",
    "<p>A tuple a sequence of immutable python objects. Tuples are sequences just like lists. The main difference between the tuples and lists is that the tuples cannot be changed unike lists. Tuples use parentheses whereas lists use square brackets.</p>\n",
    "<p>Creating a tuple is as simple as putting different comma-separated values. Optionally you can put these comma-separated values between parentheses also</p>"
   ]
  },
  {
   "cell_type": "code",
   "execution_count": 1,
   "id": "de3126b9-05d0-4f3b-83b3-ed752e6f40f7",
   "metadata": {},
   "outputs": [],
   "source": [
    "tup1=('physics','chemistry',1997,2000)\n",
    "tup2=(1,2,3,4,5)\n",
    "tup3=\"a\",\"b\",\"c\",\"d\""
   ]
  },
  {
   "cell_type": "markdown",
   "id": "ca355684-c932-47fa-a968-df412ed3af79",
   "metadata": {},
   "source": [
    "<h5>Accessing Values in Tuples</h5>\n",
    "<p>To access values in tuple, use the square brackets for slicing along with the index or indices to obtain the value available at that index</p>"
   ]
  },
  {
   "cell_type": "code",
   "execution_count": 9,
   "id": "838e33ed-34f1-49e0-9b0f-b2a56f2c6823",
   "metadata": {},
   "outputs": [
    {
     "name": "stdout",
     "output_type": "stream",
     "text": [
      "tup1[0]:  physics\n",
      "tup2[1:5]:  (2, 3, 4, 5)\n"
     ]
    }
   ],
   "source": [
    "tup1=('physics','chemistry',1997,2000)\n",
    "tup2=(1,2,3,4,5,6,7)\n",
    "\n",
    "print(\"tup1[0]: \", tup1[0])\n",
    "print(\"tup2[1:5]: \", tup2[1:5])"
   ]
  },
  {
   "cell_type": "markdown",
   "id": "55216495-9aa4-4770-bba1-34d7535724ae",
   "metadata": {},
   "source": [
    "<h5>Updating Tuples</h5>\n",
    "<p>Tuples are immutable, which means you cannot update or change the values of tuple elements.</p>"
   ]
  },
  {
   "cell_type": "code",
   "execution_count": 10,
   "id": "439d614d-1471-49d3-ab6e-7a4dc6addc29",
   "metadata": {},
   "outputs": [
    {
     "ename": "TypeError",
     "evalue": "'tuple' object does not support item assignment",
     "output_type": "error",
     "traceback": [
      "\u001b[1;31m---------------------------------------------------------------------------\u001b[0m",
      "\u001b[1;31mTypeError\u001b[0m                                 Traceback (most recent call last)",
      "Cell \u001b[1;32mIn[10], line 4\u001b[0m\n\u001b[0;32m      2\u001b[0m tup2\u001b[38;5;241m=\u001b[39m(\u001b[38;5;124m'\u001b[39m\u001b[38;5;124mabc\u001b[39m\u001b[38;5;124m'\u001b[39m,\u001b[38;5;124m'\u001b[39m\u001b[38;5;124mxyz\u001b[39m\u001b[38;5;124m'\u001b[39m)\n\u001b[0;32m      3\u001b[0m \u001b[38;5;66;03m# Following action is not valid for tuples\u001b[39;00m\n\u001b[1;32m----> 4\u001b[0m \u001b[43mtup1\u001b[49m\u001b[43m[\u001b[49m\u001b[38;5;241;43m0\u001b[39;49m\u001b[43m]\u001b[49m\u001b[38;5;241m=\u001b[39m\u001b[38;5;241m100\u001b[39m\n",
      "\u001b[1;31mTypeError\u001b[0m: 'tuple' object does not support item assignment"
     ]
    }
   ],
   "source": [
    "tup1=(12,34.56)\n",
    "tup2=('abc','xyz')\n",
    "# Following action is not valid for tuples\n",
    "tup1[0]=100"
   ]
  },
  {
   "cell_type": "code",
   "execution_count": 13,
   "id": "e47297be-5c45-4ebf-a3ed-fa4e1587014e",
   "metadata": {},
   "outputs": [
    {
     "ename": "AttributeError",
     "evalue": "'tuple' object has no attribute 'append'",
     "output_type": "error",
     "traceback": [
      "\u001b[1;31m---------------------------------------------------------------------------\u001b[0m",
      "\u001b[1;31mAttributeError\u001b[0m                            Traceback (most recent call last)",
      "Cell \u001b[1;32mIn[13], line 2\u001b[0m\n\u001b[0;32m      1\u001b[0m \u001b[38;5;66;03m# Following action is not valid for tuples\u001b[39;00m\n\u001b[1;32m----> 2\u001b[0m \u001b[43mtup1\u001b[49m\u001b[38;5;241;43m.\u001b[39;49m\u001b[43mappend\u001b[49m(\u001b[38;5;241m100\u001b[39m)\n",
      "\u001b[1;31mAttributeError\u001b[0m: 'tuple' object has no attribute 'append'"
     ]
    }
   ],
   "source": [
    "# Following action is not valid for tuples\n",
    "tup1.append(100)"
   ]
  },
  {
   "cell_type": "markdown",
   "id": "c685badc-a4cf-49af-9165-eefcc58e83b6",
   "metadata": {},
   "source": [
    "<p>However, You are able to take portions of the existing tuples to create new tuples as the following example demonstrates</p>"
   ]
  },
  {
   "cell_type": "code",
   "execution_count": 14,
   "id": "13efb407-4378-4b85-b06a-9e91ed54732b",
   "metadata": {},
   "outputs": [
    {
     "name": "stdout",
     "output_type": "stream",
     "text": [
      "(12, 34.56, 'abc', 'xyz')\n"
     ]
    }
   ],
   "source": [
    "tup1=(12,34.56)\n",
    "tup2=('abc','xyz')\n",
    "\n",
    "tup3=tup1+tup2\n",
    "print(tup3)"
   ]
  },
  {
   "cell_type": "markdown",
   "id": "fbed9169-54b3-4a72-9fd6-4eb26380d8fb",
   "metadata": {},
   "source": [
    "<p>Or else you can convert a tuple into list and then modify.</p>"
   ]
  },
  {
   "cell_type": "code",
   "execution_count": 15,
   "id": "45cc3217-31fc-42bc-a86e-60789608d112",
   "metadata": {},
   "outputs": [
    {
     "name": "stdout",
     "output_type": "stream",
     "text": [
      "[12, 34.56]\n",
      "[20, 34.56, 100]\n"
     ]
    }
   ],
   "source": [
    "tup1=(12,34.56)\n",
    "\n",
    "list1=list(tup1)\n",
    "print(list1)\n",
    "list1.append(100)\n",
    "list1[0]=20\n",
    "print(list1)"
   ]
  },
  {
   "cell_type": "markdown",
   "id": "41a76919-e2b9-4550-9ca8-5bbd71e8620a",
   "metadata": {},
   "source": [
    "<p>Almost all the inbuilt list functions and inbuilt list methods expect methods which tries to modify a tuple work similar for tuples as well.</p>"
   ]
  },
  {
   "cell_type": "code",
   "execution_count": 16,
   "id": "f9fe48f1-bee7-45e2-97d3-8c4696954da2",
   "metadata": {},
   "outputs": [
    {
     "name": "stdout",
     "output_type": "stream",
     "text": [
      "6246\n",
      "5\n"
     ]
    }
   ],
   "source": [
    "myTuple=(12,433,53,234,6246)\n",
    "print(max(myTuple))\n",
    "print(len(myTuple))"
   ]
  },
  {
   "cell_type": "markdown",
   "id": "32c7375f-a406-4ac3-a333-93e8eb1c87e5",
   "metadata": {},
   "source": [
    "## 2.3 Dictionary\n",
    "<p>Each key is separated from its value by a colon(:), the items are separated by commas, and the whole thing is enclosed in curly braces. An empty dictionary without any items is written with just two curly braces, like this:{}</p>\n",
    "<p>Keys are unique within a dictionary while values may not be. The values of a dictionary can be of any type, but the keys must be of an immutable data type such as string, numbers or tuples</p>"
   ]
  },
  {
   "cell_type": "markdown",
   "id": "f428d815-46a7-4f3f-9c01-efb6fc1fe4cc",
   "metadata": {},
   "source": [
    "<h5>Accessing Values in Dictionary</h5>\n",
    "<p>To access dictionary elements, you can use the familiar square brackets along with the key to obtain its value.</p>"
   ]
  },
  {
   "cell_type": "code",
   "execution_count": 2,
   "id": "8a84f410-c61e-4e66-a589-6d986b2ec7f1",
   "metadata": {},
   "outputs": [
    {
     "name": "stdout",
     "output_type": "stream",
     "text": [
      "['John', 80, 85, 90, 85]\n",
      "John\n",
      "80\n"
     ]
    }
   ],
   "source": [
    "# Student(List)\n",
    "student=['John',80,85,90,85]\n",
    "print(student)\n",
    "print(student[0])\n",
    "print(student[1])"
   ]
  },
  {
   "cell_type": "code",
   "execution_count": 3,
   "id": "3cd6f609-1795-4091-b0cf-8fc1baebf339",
   "metadata": {},
   "outputs": [
    {
     "name": "stdout",
     "output_type": "stream",
     "text": [
      "{'name': 'John', 'maths': 80, 'phy': 85, 'chem': 90}\n",
      "John\n",
      "80\n"
     ]
    }
   ],
   "source": [
    "# Student(Dictionary)\n",
    "student={'name':'John','maths':80,'phy':85,'chem':90,'phy':85}\n",
    "\n",
    "print(student)\n",
    "print(student['name'])\n",
    "print(student['maths'])"
   ]
  },
  {
   "cell_type": "markdown",
   "id": "add99a47-fc0d-4cc3-9b74-1c6913c890dc",
   "metadata": {},
   "source": [
    "<h5>Updating & Assignning new elements</h5>"
   ]
  },
  {
   "cell_type": "code",
   "execution_count": 8,
   "id": "0add0697-ab21-4022-b51a-96b148212145",
   "metadata": {},
   "outputs": [
    {
     "name": "stdout",
     "output_type": "stream",
     "text": [
      "{'name': 'William', 'maths': 80, 'phy': 95, 'chem': 90}\n"
     ]
    }
   ],
   "source": [
    "student={'name':'John','maths':80,'phy':85,'chem':90,'phy':95}\n",
    "student['name']='William'\n",
    "\n",
    "print(student)"
   ]
  },
  {
   "cell_type": "code",
   "execution_count": 9,
   "id": "b21bc672-40bc-4ea9-a5aa-5f72326e45d7",
   "metadata": {},
   "outputs": [
    {
     "name": "stdout",
     "output_type": "stream",
     "text": [
      "{'name': 'William', 'maths': 80, 'phy': 95, 'chem': 90, 'avg': 88.33333333333333}\n"
     ]
    }
   ],
   "source": [
    "student['avg']=(student['maths']+student['phy']+student['chem'])/3\n",
    "print(student)"
   ]
  },
  {
   "cell_type": "markdown",
   "id": "4f27ff82-db59-42b9-8b12-864f9903f7fe",
   "metadata": {},
   "source": [
    "<h5>Delete Dictionary Elements</h5>\n",
    "<p>You can either remove individual dictionary elements or clear the entire contents of a dictionary. You can also delete entire dictionary in a single operation. To explicitly remove an entire dictionary, just use the del statement. Following is a simple example</p>"
   ]
  },
  {
   "cell_type": "code",
   "execution_count": 10,
   "id": "90f5a0c6-c4b7-47f1-a212-f8cd250f51ef",
   "metadata": {},
   "outputs": [
    {
     "name": "stdout",
     "output_type": "stream",
     "text": [
      "{'Age': 7, 'Class': 'First'}\n",
      "{}\n"
     ]
    }
   ],
   "source": [
    "myDict={'Name':'Zara', 'Age':7, 'Class':'First'}\n",
    "\n",
    "del myDict['Name'] # remove entry with key 'Name'\n",
    "print(myDict) \n",
    "myDict.clear() # remove all entries in dict\n",
    "print(myDict)\n",
    "del myDict # delete entrie dictionary"
   ]
  },
  {
   "cell_type": "markdown",
   "id": "5520aa65-cd77-4972-93e8-2609f757b8b1",
   "metadata": {},
   "source": [
    "<h5>Properties of Dictionary Keys</h5>\n",
    "<p>Dictionary values have no restrictions. They can be any arbitrary Phython object. either standard objects or user-defined objects. However, same is not true for the keys.</p>\n",
    "<p>There are two important points to remember about dictionary keys-</p>\n",
    "<p>(a) More than one entry per key is not allowed. This means no duplicate key is allowed. When duplicate keys are encountered during assignment, the last assignment wins</p>"
   ]
  },
  {
   "cell_type": "code",
   "execution_count": 11,
   "id": "dd13e99d-cdc7-4862-a60b-5b8c4aca1b38",
   "metadata": {},
   "outputs": [
    {
     "name": "stdout",
     "output_type": "stream",
     "text": [
      "myDict['Name']:  Manni\n"
     ]
    }
   ],
   "source": [
    "myDict={'Name':'Zara','Age':7,'Name':'Manni'}\n",
    "print(\"myDict['Name']: \", myDict['Name'])"
   ]
  },
  {
   "cell_type": "markdown",
   "id": "9f553e05-e792-49d8-afb3-f5df13a45803",
   "metadata": {},
   "source": [
    "(b) Keys must be immutable. This means you can use string, numbers or tuples as dictionary keys but something like ['key'] is not allowed"
   ]
  },
  {
   "cell_type": "code",
   "execution_count": 12,
   "id": "e524b0de-2296-4ac9-8aff-19750b1d9cd5",
   "metadata": {},
   "outputs": [
    {
     "ename": "TypeError",
     "evalue": "unhashable type: 'list'",
     "output_type": "error",
     "traceback": [
      "\u001b[1;31m---------------------------------------------------------------------------\u001b[0m",
      "\u001b[1;31mTypeError\u001b[0m                                 Traceback (most recent call last)",
      "Cell \u001b[1;32mIn[12], line 1\u001b[0m\n\u001b[1;32m----> 1\u001b[0m myDict\u001b[38;5;241m=\u001b[39m{[\u001b[38;5;124m'\u001b[39m\u001b[38;5;124mName\u001b[39m\u001b[38;5;124m'\u001b[39m]:\u001b[38;5;124m'\u001b[39m\u001b[38;5;124mZara\u001b[39m\u001b[38;5;124m'\u001b[39m,\u001b[38;5;124m'\u001b[39m\u001b[38;5;124mAge\u001b[39m\u001b[38;5;124m'\u001b[39m:\u001b[38;5;241m7\u001b[39m}\n\u001b[0;32m      2\u001b[0m \u001b[38;5;28mprint\u001b[39m(\u001b[38;5;124m\"\u001b[39m\u001b[38;5;124mdict[\u001b[39m\u001b[38;5;124m'\u001b[39m\u001b[38;5;124mName\u001b[39m\u001b[38;5;124m'\u001b[39m\u001b[38;5;124m]: \u001b[39m\u001b[38;5;124m\"\u001b[39m, myDict[\u001b[38;5;124m'\u001b[39m\u001b[38;5;124mName\u001b[39m\u001b[38;5;124m'\u001b[39m])\n",
      "\u001b[1;31mTypeError\u001b[0m: unhashable type: 'list'"
     ]
    }
   ],
   "source": [
    "myDict={['Name']:'Zara','Age':7}\n",
    "print(\"dict['Name']: \", myDict['Name'])"
   ]
  },
  {
   "cell_type": "code",
   "execution_count": 13,
   "id": "5ae53263-939c-4367-ba36-d38fdb82c285",
   "metadata": {},
   "outputs": [
    {
     "name": "stdout",
     "output_type": "stream",
     "text": [
      "dict[88.7]:  Zara\n"
     ]
    }
   ],
   "source": [
    "myDict={88.7:'Zara','Age':7}\n",
    "print(\"dict[88.7]: \", myDict[88.7])"
   ]
  },
  {
   "cell_type": "markdown",
   "id": "9e1183c4-2566-457b-a85b-26e6343c0c9f",
   "metadata": {},
   "source": [
    "<h5>Built-in Dictionary Functions and Methods</h5>\n",
    "<ul>\n",
    "    <li><b>len(dict)</b> Gives the total length of the dictionary. This would be equal to the number of items in the dictionary.</li>\n",
    "    <li><b>dict.clear()</b> Removes all elements of dictionary dict</li>\n",
    "    <li><b>dict.copy()</b> Returns a shallow copy of dictionary dict</li>\n",
    "    <li><b>dict.fromkeys()</b> Create a new dictionary with keys from seq and values set to value.</li>\n",
    "    <li><b>dict.get(key, default=None)</b> Focuse the in operation instead.</li>\n",
    "    <li><b>dict.items()</b> Returns a list of dict's (key,vlaue) tuple pairs</li>\n",
    "    <li><b>dict.keys()</b> Returns list of dictionary dict's keys</li>\n",
    "    <li><b>dict.setdefault(key, default=None)</b> Similar to get(), but will set dict[key]=default if key is not already in dict</li>\n",
    "    <li><b>dict.update(dict2)</b> Adds dictionary dict2's key-values pairs to dict</li>\n",
    "    <li><b>dict.values()</b> Returns list of dictionary dict's values</li>\n",
    "</ul>"
   ]
  },
  {
   "cell_type": "code",
   "execution_count": 14,
   "id": "1fd7fc8b-72f5-4933-8cd3-0d0903522005",
   "metadata": {},
   "outputs": [
    {
     "name": "stdout",
     "output_type": "stream",
     "text": [
      "length : 3\n"
     ]
    }
   ],
   "source": [
    "myDict={'Name':'Manni', 'Age':7, 'Class': 'First'}\n",
    "print(\"length :\", len(myDict))"
   ]
  },
  {
   "cell_type": "code",
   "execution_count": 15,
   "id": "92a598a4-2e78-4d07-babc-f5b80f45949b",
   "metadata": {},
   "outputs": [
    {
     "name": "stdout",
     "output_type": "stream",
     "text": [
      "New Dictionary:  {'Name': 'Manni', 'Age': 7, 'Class': 'First'}\n"
     ]
    }
   ],
   "source": [
    "dict1={'Name':'Manni', 'Age':7, 'Class': 'First'}\n",
    "dict2=dict1.copy()\n",
    "print(\"New Dictionary: \", dict2)"
   ]
  },
  {
   "cell_type": "code",
   "execution_count": 16,
   "id": "146de028-8601-414a-9cd1-a3e90650fd80",
   "metadata": {},
   "outputs": [
    {
     "name": "stdout",
     "output_type": "stream",
     "text": [
      "New Dictionary:  {'name': None, 'age': None, 'sex': None}\n"
     ]
    }
   ],
   "source": [
    "keys=('name','age','sex')\n",
    "myDict=myDict.fromkeys(keys)\n",
    "print(\"New Dictionary: \",myDict)"
   ]
  },
  {
   "cell_type": "code",
   "execution_count": 17,
   "id": "4e4ba614-5e9e-4705-8510-e38c33d5bfd1",
   "metadata": {},
   "outputs": [
    {
     "name": "stdout",
     "output_type": "stream",
     "text": [
      "{'name': 'John', 'age': 31, 'sex': 'Male'}\n"
     ]
    }
   ],
   "source": [
    "keys=('name','age','sex')\n",
    "value=['John',31,'Male']\n",
    "myDict=dict(zip(keys,value))\n",
    "print(myDict)"
   ]
  },
  {
   "cell_type": "code",
   "execution_count": 18,
   "id": "fabb9438-fabc-43ff-94a5-1a1bed914138",
   "metadata": {},
   "outputs": [
    {
     "name": "stdout",
     "output_type": "stream",
     "text": [
      "('Name', 'Zara')\n",
      "('Age', 7)\n"
     ]
    }
   ],
   "source": [
    "myDict={'Name':'Zara','Age':7}\n",
    "keys,values=myDict.items()\n",
    "print(keys)\n",
    "print(values)"
   ]
  },
  {
   "cell_type": "code",
   "execution_count": 19,
   "id": "161bc79c-683d-4507-90db-cacea979337a",
   "metadata": {},
   "outputs": [
    {
     "name": "stdout",
     "output_type": "stream",
     "text": [
      "Value : dict_items([('Name', 'Zara'), ('Age', 7)])\n"
     ]
    }
   ],
   "source": [
    "myDict={'Name':'Zara','Age':7}\n",
    "print(\"Value :\", myDict.items())"
   ]
  },
  {
   "cell_type": "code",
   "execution_count": 20,
   "id": "dcca60dd-1ec7-45ff-8763-9c036729d63f",
   "metadata": {},
   "outputs": [
    {
     "name": "stdout",
     "output_type": "stream",
     "text": [
      "dict_keys(['Name', 'Age'])\n"
     ]
    }
   ],
   "source": [
    "myDict={'Name':'Zara','Age':7}\n",
    "keys=myDict.keys()\n",
    "print(keys)"
   ]
  },
  {
   "cell_type": "code",
   "execution_count": 22,
   "id": "787a4722-ab56-4207-b457-7d22c459c26a",
   "metadata": {},
   "outputs": [
    {
     "name": "stdout",
     "output_type": "stream",
     "text": [
      "dict_values(['Zara', 7])\n"
     ]
    }
   ],
   "source": [
    "myDict={'Name':'Zara','Age':7}\n",
    "values=myDict.values()\n",
    "print(values)"
   ]
  },
  {
   "cell_type": "code",
   "execution_count": 23,
   "id": "992ac3d2-9a7c-4a9d-a745-9279312ebc72",
   "metadata": {},
   "outputs": [
    {
     "name": "stdout",
     "output_type": "stream",
     "text": [
      "Updated dict : {'Name': 'Zara', 'Age': 7, 'Sex': 'Female'}\n"
     ]
    }
   ],
   "source": [
    "dict1={'Name':'Zara','Age':7}\n",
    "dict2={'Sex':'Female'}\n",
    "\n",
    "dict1.update(dict2)\n",
    "print(\"Updated dict :\", dict1)"
   ]
  },
  {
   "cell_type": "code",
   "execution_count": 1,
   "id": "985d23cc-0095-4a09-92e9-a05adee9e4b8",
   "metadata": {},
   "outputs": [
    {
     "name": "stdout",
     "output_type": "stream",
     "text": [
      "0.5\n",
      "0.707\n",
      "Not defind\n"
     ]
    }
   ],
   "source": [
    "# Example\n",
    "sine={0:0,30:0.5,45:0.707,60:0.866,90:1}\n",
    "cosine={0:1,30:0.866,45:0.707,60:0.5,90:1}\n",
    "tangent={0:0, 30:0.577, 45:1, 60:1.732,90:'Not defind'}\n",
    "\n",
    "print(sine[30])\n",
    "print(cosine[45])\n",
    "print(tangent[90])"
   ]
  },
  {
   "cell_type": "code",
   "execution_count": 2,
   "id": "5a79393c-4870-41f0-9fdf-8ea685e37072",
   "metadata": {},
   "outputs": [
    {
     "name": "stdin",
     "output_type": "stream",
     "text": [
      "Enter the Name:  Tharindu\n",
      "Enter the Marks:  100\n",
      "Enter the Name:  Lakshan\n",
      "Enter the Marks:  90\n",
      "Enter the Name:  Bandara\n",
      "Enter the Marks:  90\n",
      "Enter the Name:  Suneth\n",
      "Enter the Marks:  34\n",
      "Enter the Name:  Rumesh\n",
      "Enter the Marks:  35\n",
      "Enter the Name:  Sahan\n",
      "Enter the Marks:  100\n",
      "Enter the Name:  Lahiru\n",
      "Enter the Marks:  67\n",
      "Enter the Name:  Kamal\n",
      "Enter the Marks:  100\n",
      "Enter the Name:  Ruwan\n",
      "Enter the Marks:  90\n",
      "Enter the Name:  Kasun\n",
      "Enter the Marks:  98\n"
     ]
    },
    {
     "name": "stdout",
     "output_type": "stream",
     "text": [
      "{'Tharindu': 100, 'Lakshan': 90, 'Bandara': 90, 'Suneth': 34, 'Rumesh': 35, 'Sahan': 100, 'Lahiru': 67, 'Kamal': 100, 'Ruwan': 90, 'Kasun': 98}\n"
     ]
    }
   ],
   "source": [
    "# Example\n",
    "names=[]\n",
    "marks=[]\n",
    "for i in range(0,10):\n",
    "    x=input('Enter the Name: ')\n",
    "    y=eval(input('Enter the Marks: '))\n",
    "\n",
    "    names.append(x)\n",
    "    marks.append(y)\n",
    "\n",
    "student=dict(zip(names,marks))\n",
    "print(student)"
   ]
  },
  {
   "cell_type": "markdown",
   "id": "d5a8ed41-105c-49b2-aa03-7020e622904c",
   "metadata": {},
   "source": [
    "## 3 Decision Making"
   ]
  },
  {
   "cell_type": "code",
   "execution_count": 4,
   "id": "bb640805-9cb1-4fbf-9c8e-92e62ad85123",
   "metadata": {},
   "outputs": [
    {
     "name": "stdout",
     "output_type": "stream",
     "text": [
      "b is greater than a\n"
     ]
    }
   ],
   "source": [
    "a=10\n",
    "b=20\n",
    "if(b>a):\n",
    "    print('b is greater than a')\n",
    "\n",
    "if(a>b):\n",
    "    print('a is greater than b')"
   ]
  },
  {
   "cell_type": "code",
   "execution_count": 5,
   "id": "d80dea8c-dd07-4917-b0e7-d59b5a3c3d47",
   "metadata": {},
   "outputs": [
    {
     "name": "stdout",
     "output_type": "stream",
     "text": [
      "1- Got a true expression value\n",
      "100\n",
      "End\n"
     ]
    }
   ],
   "source": [
    "var1=100;\n",
    "if var1:\n",
    "    print('1- Got a true expression value')\n",
    "    print(var1)\n",
    "\n",
    "var2=0\n",
    "if var2:\n",
    "    print('2- Got a true expression value')\n",
    "    print(var2)\n",
    "\n",
    "print('End')"
   ]
  },
  {
   "cell_type": "code",
   "execution_count": 6,
   "id": "b8a29aa2-3dcd-4ed5-815f-0a04ad88162f",
   "metadata": {},
   "outputs": [
    {
     "name": "stdin",
     "output_type": "stream",
     "text": [
      "Enter amount:  500\n"
     ]
    },
    {
     "name": "stdout",
     "output_type": "stream",
     "text": [
      "Discount 25.0\n",
      "Net payable:  475.0\n"
     ]
    }
   ],
   "source": [
    "amount=int(input(\"Enter amount: \"))\n",
    "\n",
    "if amount<1000:\n",
    "    discount=amount*0.05\n",
    "    print(\"Discount\", discount)\n",
    "else:\n",
    "    discount=amount*0.10\n",
    "    print(\"Discount\", discount)\n",
    "\n",
    "print(\"Net payable: \", amount-discount)"
   ]
  },
  {
   "cell_type": "code",
   "execution_count": 7,
   "id": "6fc0a00b-81bd-4d73-8c39-20ce3805a0b8",
   "metadata": {},
   "outputs": [
    {
     "name": "stdin",
     "output_type": "stream",
     "text": [
      "Enter amount:  2000\n"
     ]
    },
    {
     "name": "stdout",
     "output_type": "stream",
     "text": [
      "Discount 200.0\n",
      "Net payable:  1800.0\n"
     ]
    }
   ],
   "source": [
    "amount=int(input(\"Enter amount: \"))\n",
    "\n",
    "if amount<1000:\n",
    "    discount=amount*0.05\n",
    "    print(\"Discount\", discount)\n",
    "elif amount<5000:\n",
    "    discount=amount*0.10\n",
    "    print(\"Discount\", discount)\n",
    "else:\n",
    "    discount=amount*0.15\n",
    "    print(\"Discount\",discount)\n",
    "\n",
    "print(\"Net payable: \", amount-discount)"
   ]
  },
  {
   "cell_type": "code",
   "execution_count": 10,
   "id": "28eacbaa-b7f6-40ea-b0d5-bf2033db1dc7",
   "metadata": {},
   "outputs": [
    {
     "name": "stdin",
     "output_type": "stream",
     "text": [
      "Enter number 23\n"
     ]
    },
    {
     "name": "stdout",
     "output_type": "stream",
     "text": [
      "Not Divisible by 2 not divisible by 3\n"
     ]
    }
   ],
   "source": [
    "num=int(input(\"Enter number\"))\n",
    "if num%2==0:\n",
    "    if num%3==0:\n",
    "        print(\"Divisible by 3 and 2\")\n",
    "    else:\n",
    "        print(\"Divisible by 2 not Divisible by 3\")\n",
    "else:\n",
    "    if num%3==0:\n",
    "        print(\"Divisible by 3 not Divisible by2\")\n",
    "    else:\n",
    "        print(\"Not Divisible by 2 not divisible by 3\")"
   ]
  },
  {
   "cell_type": "markdown",
   "id": "c2625e18-6b92-4811-88a5-03dda729f12e",
   "metadata": {},
   "source": [
    "## 4 Loops"
   ]
  },
  {
   "cell_type": "code",
   "execution_count": 11,
   "id": "f5e23437-8e23-4e2f-adb7-e77c77e80a7c",
   "metadata": {},
   "outputs": [
    {
     "name": "stdout",
     "output_type": "stream",
     "text": [
      "The count is :  0\n",
      "The count is :  1\n",
      "The count is :  2\n",
      "The count is :  3\n",
      "The count is :  4\n",
      "The count is :  5\n",
      "The count is :  6\n",
      "The count is :  7\n",
      "The count is :  8\n",
      "The count is :  9\n",
      "End\n"
     ]
    }
   ],
   "source": [
    "for i in range(0,10,1):\n",
    "    print('The count is : ', i)\n",
    "\n",
    "print('End')"
   ]
  },
  {
   "cell_type": "code",
   "execution_count": 12,
   "id": "90a11ea9-4074-447e-b957-9643ddcf436f",
   "metadata": {},
   "outputs": [
    {
     "name": "stdout",
     "output_type": "stream",
     "text": [
      "The count is\"  0\n",
      "The count is\"  1\n",
      "The count is\"  2\n",
      "The count is\"  3\n",
      "The count is\"  4\n",
      "The count is\"  5\n",
      "The count is\"  6\n",
      "The count is\"  7\n",
      "The count is\"  8\n",
      "The count is\"  9\n",
      "End\n"
     ]
    }
   ],
   "source": [
    "count=0\n",
    "while(count<10):\n",
    "    print('The count is\" ', count)\n",
    "    count=count+1\n",
    "\n",
    "print('End')"
   ]
  },
  {
   "cell_type": "code",
   "execution_count": 13,
   "id": "47d70843-fc7e-4b64-820c-885c54f72d16",
   "metadata": {},
   "outputs": [
    {
     "name": "stdout",
     "output_type": "stream",
     "text": [
      "The count is:  5\n",
      "The count is:  6\n",
      "The count is:  7\n",
      "The count is:  8\n",
      "The count is:  9\n"
     ]
    }
   ],
   "source": [
    "for i in range(5,10):\n",
    "    print('The count is: ', i)"
   ]
  },
  {
   "cell_type": "code",
   "execution_count": 14,
   "id": "77f92739-8075-4557-820c-8e57198dbdd5",
   "metadata": {},
   "outputs": [
    {
     "name": "stdout",
     "output_type": "stream",
     "text": [
      "The count is: 0\n",
      "The count is: 1\n",
      "The count is: 2\n",
      "The count is: 3\n",
      "The count is: 4\n",
      "The count is: 5\n",
      "The count is: 6\n",
      "The count is: 7\n",
      "The count is: 8\n",
      "The count is: 9\n"
     ]
    }
   ],
   "source": [
    "for i in range(10):\n",
    "    print('The count is:', i)"
   ]
  },
  {
   "cell_type": "markdown",
   "id": "fefd9302-4786-408c-9fa1-ca0ab5cf2775",
   "metadata": {},
   "source": [
    "<h5>for loop and lists</h5>"
   ]
  },
  {
   "cell_type": "code",
   "execution_count": 15,
   "id": "305878e6-2602-45f6-8cd6-cb3236b70104",
   "metadata": {},
   "outputs": [
    {
     "name": "stdout",
     "output_type": "stream",
     "text": [
      "0\n",
      "1\n",
      "2\n",
      "3\n",
      "4\n",
      "5\n"
     ]
    }
   ],
   "source": [
    "myList=[123,445,534,52,44,32]\n",
    "for i in range(len(myList)):\n",
    "    print(i)"
   ]
  },
  {
   "cell_type": "code",
   "execution_count": 16,
   "id": "a3156a9a-fb65-4c84-9036-2ef5202c2ce9",
   "metadata": {},
   "outputs": [
    {
     "name": "stdout",
     "output_type": "stream",
     "text": [
      "123\n",
      "445\n",
      "534\n",
      "52\n",
      "44\n",
      "32\n"
     ]
    }
   ],
   "source": [
    "myList=[123,445,534,52,44,32]\n",
    "for i in range(len(myList)):\n",
    "    print(myList[i])"
   ]
  },
  {
   "cell_type": "code",
   "execution_count": 17,
   "id": "edcc0b6b-e6c8-4e94-ab22-7e94f2d7f347",
   "metadata": {},
   "outputs": [
    {
     "name": "stdout",
     "output_type": "stream",
     "text": [
      "123\n",
      "445\n",
      "534\n",
      "52\n",
      "44\n",
      "32\n"
     ]
    }
   ],
   "source": [
    "myList=[123,445,534,52,44,32]\n",
    "for val in myList:\n",
    "    print(val)"
   ]
  },
  {
   "cell_type": "markdown",
   "id": "e2197fdc-527f-4575-9947-4d05fe0b944f",
   "metadata": {},
   "source": [
    "<h5>Using else Statement with looops</h5>"
   ]
  },
  {
   "cell_type": "code",
   "execution_count": 18,
   "id": "e3724dfc-1e35-4ff1-a2c3-2b5278acb1f7",
   "metadata": {},
   "outputs": [
    {
     "name": "stdout",
     "output_type": "stream",
     "text": [
      "The list doesnot contain even number\n"
     ]
    }
   ],
   "source": [
    "numbers=[11,33,55,39,55,75,37,21,23,41,13]\n",
    "\n",
    "for num in numbers:\n",
    "    if num%2==0:\n",
    "        print('The list contains an even number')\n",
    "        break\n",
    "else:\n",
    "    print('The list doesnot contain even number')"
   ]
  },
  {
   "cell_type": "markdown",
   "id": "0a9f96fb-033c-42b7-ba7e-2beb5acb2d6c",
   "metadata": {},
   "source": [
    "<h5>Nested Loops</h5>"
   ]
  },
  {
   "cell_type": "code",
   "execution_count": 19,
   "id": "7a46f713-1f64-41c0-8d18-7590ffeb595f",
   "metadata": {},
   "outputs": [
    {
     "name": "stdout",
     "output_type": "stream",
     "text": [
      "0 0\n",
      "++++++\n",
      "0 1\n",
      "++++++\n",
      "0 2\n",
      "++++++\n",
      "0 3\n",
      "++++++\n",
      "0 4\n",
      "++++++\n",
      "=======\n",
      "1 0\n",
      "++++++\n",
      "1 1\n",
      "++++++\n",
      "1 2\n",
      "++++++\n",
      "1 3\n",
      "++++++\n",
      "1 4\n",
      "++++++\n",
      "=======\n",
      "2 0\n",
      "++++++\n",
      "2 1\n",
      "++++++\n",
      "2 2\n",
      "++++++\n",
      "2 3\n",
      "++++++\n",
      "2 4\n",
      "++++++\n",
      "=======\n",
      "3 0\n",
      "++++++\n",
      "3 1\n",
      "++++++\n",
      "3 2\n",
      "++++++\n",
      "3 3\n",
      "++++++\n",
      "3 4\n",
      "++++++\n",
      "=======\n",
      "4 0\n",
      "++++++\n",
      "4 1\n",
      "++++++\n",
      "4 2\n",
      "++++++\n",
      "4 3\n",
      "++++++\n",
      "4 4\n",
      "++++++\n",
      "=======\n",
      "5 0\n",
      "++++++\n",
      "5 1\n",
      "++++++\n",
      "5 2\n",
      "++++++\n",
      "5 3\n",
      "++++++\n",
      "5 4\n",
      "++++++\n",
      "=======\n",
      "6 0\n",
      "++++++\n",
      "6 1\n",
      "++++++\n",
      "6 2\n",
      "++++++\n",
      "6 3\n",
      "++++++\n",
      "6 4\n",
      "++++++\n",
      "=======\n",
      "7 0\n",
      "++++++\n",
      "7 1\n",
      "++++++\n",
      "7 2\n",
      "++++++\n",
      "7 3\n",
      "++++++\n",
      "7 4\n",
      "++++++\n",
      "=======\n",
      "8 0\n",
      "++++++\n",
      "8 1\n",
      "++++++\n",
      "8 2\n",
      "++++++\n",
      "8 3\n",
      "++++++\n",
      "8 4\n",
      "++++++\n",
      "=======\n",
      "9 0\n",
      "++++++\n",
      "9 1\n",
      "++++++\n",
      "9 2\n",
      "++++++\n",
      "9 3\n",
      "++++++\n",
      "9 4\n",
      "++++++\n",
      "=======\n"
     ]
    }
   ],
   "source": [
    "for i in range(0,10):\n",
    "    for j in range(0,5):\n",
    "        print(i,j)\n",
    "        print('++++++')\n",
    "    print('=======')"
   ]
  },
  {
   "cell_type": "code",
   "execution_count": 20,
   "id": "8bf8ba93-2d45-4184-930b-77adbf4f2bc3",
   "metadata": {},
   "outputs": [
    {
     "name": "stdout",
     "output_type": "stream",
     "text": [
      "Current Letter: P\n",
      "Current Letter: y\n",
      "Current Letter: t\n"
     ]
    }
   ],
   "source": [
    "for letter in 'Python':\n",
    "    if letter=='h':\n",
    "        break\n",
    "    print('Current Letter:', letter)"
   ]
  },
  {
   "cell_type": "code",
   "execution_count": 21,
   "id": "e9a9f1b0-c6ce-40cc-b3ff-d6d44cd73812",
   "metadata": {},
   "outputs": [
    {
     "name": "stdout",
     "output_type": "stream",
     "text": [
      "Current variable value : 10\n",
      "Current variable value : 9\n",
      "Current variable value : 8\n",
      "Current variable value : 7\n",
      "Current variable value : 6\n",
      "End\n"
     ]
    }
   ],
   "source": [
    "var =10\n",
    "while var>0:\n",
    "    print('Current variable value :', var)\n",
    "    var=var-1\n",
    "    if var==5:\n",
    "        break\n",
    "print('End')"
   ]
  },
  {
   "cell_type": "code",
   "execution_count": 22,
   "id": "ef56b77c-cd74-4ab6-99d5-a402d537406c",
   "metadata": {},
   "outputs": [
    {
     "name": "stdout",
     "output_type": "stream",
     "text": [
      "Current Letter :  P\n",
      "Current Letter :  y\n",
      "Current Letter :  t\n",
      "Current Letter :  o\n",
      "Current Letter :  n\n"
     ]
    }
   ],
   "source": [
    "for letter in 'Python':\n",
    "    if letter=='h':\n",
    "        continue\n",
    "    print('Current Letter : ', letter)"
   ]
  },
  {
   "cell_type": "code",
   "execution_count": 24,
   "id": "13157a5f-5d22-4c7b-bfb8-58b609ed902f",
   "metadata": {},
   "outputs": [
    {
     "name": "stdout",
     "output_type": "stream",
     "text": [
      "Current variable value : 9\n",
      "Current variable value : 8\n",
      "Current variable value : 7\n",
      "Current variable value : 6\n",
      "Current variable value : 4\n",
      "Current variable value : 3\n",
      "Current variable value : 2\n",
      "Current variable value : 1\n",
      "Current variable value : 0\n",
      "End\n"
     ]
    }
   ],
   "source": [
    "var =10\n",
    "while var>0:\n",
    "    var=var-1\n",
    "    if var==5:\n",
    "        continue\n",
    "    print('Current variable value :', var)\n",
    "print('End')"
   ]
  },
  {
   "cell_type": "code",
   "execution_count": 25,
   "id": "79f22535-b0b9-4ca3-aac5-7c642a6c8fb2",
   "metadata": {},
   "outputs": [
    {
     "name": "stdout",
     "output_type": "stream",
     "text": [
      "Current Letter : P\n",
      "Current Letter : y\n",
      "Current Letter : t\n",
      "This is pass block\n",
      "Current Letter : h\n",
      "Current Letter : o\n",
      "Current Letter : n\n",
      "End\n"
     ]
    }
   ],
   "source": [
    "for letter in 'Python':\n",
    "    if letter=='h':\n",
    "        pass\n",
    "        print('This is pass block')\n",
    "    print('Current Letter :', letter)\n",
    "print('End')"
   ]
  },
  {
   "cell_type": "code",
   "execution_count": 26,
   "id": "74814e3f-c69b-45a5-9be5-cd3a114c87f6",
   "metadata": {},
   "outputs": [],
   "source": [
    "for i in range(10):\n",
    "    pass"
   ]
  },
  {
   "cell_type": "markdown",
   "id": "4cd64a6f-fa3b-4d53-a4b7-4efa03d5d4f2",
   "metadata": {},
   "source": [
    "## 5 Functions"
   ]
  },
  {
   "cell_type": "code",
   "execution_count": 28,
   "id": "7ea8b5e1-cb7c-414c-98d4-d6103ba370e8",
   "metadata": {},
   "outputs": [
    {
     "name": "stdout",
     "output_type": "stream",
     "text": [
      "a: 10\n",
      "b: Hello\n",
      "c 20.4\n"
     ]
    }
   ],
   "source": [
    "def myFunc(a,b,c):\n",
    "    print('a:',a)\n",
    "    print('b:',b)\n",
    "    print('c',c)\n",
    "\n",
    "myFunc(10,'Hello',20.4)"
   ]
  },
  {
   "cell_type": "markdown",
   "id": "d3966145-305e-462d-8eff-a26e6a09d060",
   "metadata": {},
   "source": [
    "<h5>Function Arguments</h5>\n",
    "<p>You can call a function by using the following types of formal arguments</p>\n",
    "<ul>\n",
    "    <li>Required arguments</li>\n",
    "    <li>Keyword arguments</li>\n",
    "    <li>Default arguments</li>\n",
    "    <li>Variable-length arguments</li>\n",
    "</ul>"
   ]
  },
  {
   "cell_type": "markdown",
   "id": "a147c2c8-9487-4a0e-a76b-4511c3bf671d",
   "metadata": {},
   "source": [
    "<h6>Required Arguments</h6>"
   ]
  },
  {
   "cell_type": "code",
   "execution_count": 29,
   "id": "b0bb790f-277b-4731-ac44-f53a47df90c6",
   "metadata": {},
   "outputs": [
    {
     "ename": "TypeError",
     "evalue": "myFunc() missing 1 required positional argument: 'c'",
     "output_type": "error",
     "traceback": [
      "\u001b[1;31m---------------------------------------------------------------------------\u001b[0m",
      "\u001b[1;31mTypeError\u001b[0m                                 Traceback (most recent call last)",
      "Cell \u001b[1;32mIn[29], line 6\u001b[0m\n\u001b[0;32m      3\u001b[0m     \u001b[38;5;28mprint\u001b[39m(\u001b[38;5;124m'\u001b[39m\u001b[38;5;124mb:\u001b[39m\u001b[38;5;124m'\u001b[39m,b)\n\u001b[0;32m      4\u001b[0m     \u001b[38;5;28mprint\u001b[39m(\u001b[38;5;124m'\u001b[39m\u001b[38;5;124mc\u001b[39m\u001b[38;5;124m'\u001b[39m,c)\n\u001b[1;32m----> 6\u001b[0m \u001b[43mmyFunc\u001b[49m\u001b[43m(\u001b[49m\u001b[38;5;241;43m10\u001b[39;49m\u001b[43m,\u001b[49m\u001b[38;5;124;43m'\u001b[39;49m\u001b[38;5;124;43mHello\u001b[39;49m\u001b[38;5;124;43m'\u001b[39;49m\u001b[43m)\u001b[49m\n",
      "\u001b[1;31mTypeError\u001b[0m: myFunc() missing 1 required positional argument: 'c'"
     ]
    }
   ],
   "source": [
    "def myFunc(a,b,c):\n",
    "    print('a:',a)\n",
    "    print('b:',b)\n",
    "    print('c',c)\n",
    "\n",
    "myFunc(10,'Hello')"
   ]
  },
  {
   "cell_type": "markdown",
   "id": "16891007-dff0-4efe-ad1d-a2d45ffe2d53",
   "metadata": {},
   "source": [
    "<h6>Default Arguments</h6>"
   ]
  },
  {
   "cell_type": "code",
   "execution_count": 31,
   "id": "6b7335ac-1dbf-46f1-92e7-b6a01019aac5",
   "metadata": {},
   "outputs": [
    {
     "name": "stdout",
     "output_type": "stream",
     "text": [
      "a: 0\n",
      "b: \n",
      "c 0\n"
     ]
    }
   ],
   "source": [
    "def myFunc(a=0,b=\"\",c=0):\n",
    "    print('a:',a)\n",
    "    print('b:',b)\n",
    "    print('c',c)\n",
    "\n",
    "myFunc()"
   ]
  },
  {
   "cell_type": "code",
   "execution_count": 32,
   "id": "c68aecfd-90ad-46b7-964b-9c94a1a498ee",
   "metadata": {},
   "outputs": [
    {
     "name": "stdout",
     "output_type": "stream",
     "text": [
      "a: 10\n",
      "b: \n",
      "c 0\n"
     ]
    }
   ],
   "source": [
    "myFunc(10)"
   ]
  },
  {
   "cell_type": "code",
   "execution_count": 33,
   "id": "8f474239-e47a-4b7c-ae29-c7271d3268b5",
   "metadata": {},
   "outputs": [
    {
     "name": "stdout",
     "output_type": "stream",
     "text": [
      "a: 10\n",
      "b: Hi\n",
      "c 0\n"
     ]
    }
   ],
   "source": [
    "myFunc(10,\"Hi\")"
   ]
  },
  {
   "cell_type": "code",
   "execution_count": 34,
   "id": "0e947c37-add6-4a18-abe8-6f4a07ce368e",
   "metadata": {},
   "outputs": [
    {
     "name": "stdout",
     "output_type": "stream",
     "text": [
      "a: 10\n",
      "b: Hi\n",
      "c 20.3\n"
     ]
    }
   ],
   "source": [
    "myFunc(10,\"Hi\",20.3)"
   ]
  },
  {
   "cell_type": "markdown",
   "id": "46cea570-17dd-4437-a464-77c37965c245",
   "metadata": {},
   "source": [
    "<h6>Keyword Arguments</h6>"
   ]
  },
  {
   "cell_type": "code",
   "execution_count": 35,
   "id": "3d9db532-7188-4a99-b13c-4acb1fb6d345",
   "metadata": {},
   "outputs": [
    {
     "name": "stdout",
     "output_type": "stream",
     "text": [
      "a: 10\n",
      "b: Hello\n",
      "c 20.3\n"
     ]
    }
   ],
   "source": [
    "def myFunc(a,b,c):\n",
    "    print('a:',a)\n",
    "    print('b:',b)\n",
    "    print('c',c)\n",
    "\n",
    "myFunc(a=10,c=20.3,b='Hello')"
   ]
  },
  {
   "cell_type": "markdown",
   "id": "3fb9f897-dc75-4150-88aa-905e71038249",
   "metadata": {},
   "source": [
    "<h6>Variable-length Arguments</h6>"
   ]
  },
  {
   "cell_type": "code",
   "execution_count": 36,
   "id": "bc27fab2-30c6-4a80-9a6e-da6d74525202",
   "metadata": {},
   "outputs": [
    {
     "name": "stdout",
     "output_type": "stream",
     "text": [
      "arg1: 10\n",
      "var: ()\n"
     ]
    }
   ],
   "source": [
    "def printInfo(arg1, *var):\n",
    "    print('arg1:',arg1)\n",
    "    print('var:',var)\n",
    "\n",
    "printInfo(10)"
   ]
  },
  {
   "cell_type": "code",
   "execution_count": 37,
   "id": "a2195387-9402-4793-846a-203bb19ee858",
   "metadata": {},
   "outputs": [
    {
     "name": "stdout",
     "output_type": "stream",
     "text": [
      "arg1: 10\n",
      "var: (20,)\n"
     ]
    }
   ],
   "source": [
    "printInfo(10,20)"
   ]
  },
  {
   "cell_type": "code",
   "execution_count": 38,
   "id": "5ffc5c94-34b1-4adb-a838-6c6d3e191283",
   "metadata": {},
   "outputs": [
    {
     "name": "stdout",
     "output_type": "stream",
     "text": [
      "arg1: 10\n",
      "var: (20, 30, 40)\n"
     ]
    }
   ],
   "source": [
    "printInfo(10,20,30,40)"
   ]
  },
  {
   "cell_type": "markdown",
   "id": "64c89c72-060d-44bb-ab8b-9b05f737de61",
   "metadata": {},
   "source": [
    "<h5>The return Statement</h5>"
   ]
  },
  {
   "cell_type": "code",
   "execution_count": 39,
   "id": "3fe7c80e-1851-4a1b-ac1e-052013aa7cb5",
   "metadata": {},
   "outputs": [
    {
     "name": "stdout",
     "output_type": "stream",
     "text": [
      "Inside the function : 40\n",
      "Outside the function : 40\n"
     ]
    }
   ],
   "source": [
    "def add(arg1, arg2):\n",
    "    total=arg1+arg2\n",
    "    print(\"Inside the function :\", total)\n",
    "    return total\n",
    "\n",
    "val=add(10,30)\n",
    "print(\"Outside the function :\",val)"
   ]
  },
  {
   "cell_type": "markdown",
   "id": "dff9757f-91ee-4812-bd8a-334ec7faa21a",
   "metadata": {},
   "source": [
    "<h5>Python functions can return multiple values.</h5>"
   ]
  },
  {
   "cell_type": "code",
   "execution_count": 41,
   "id": "82fb04b6-89e7-4a86-9430-1ba78f8fa393",
   "metadata": {},
   "outputs": [
    {
     "name": "stdout",
     "output_type": "stream",
     "text": [
      "(12, 8, 20, 5.0)\n"
     ]
    }
   ],
   "source": [
    "def calculator(val1,val2):\n",
    "    add=val1+val2\n",
    "    sub=val1-val2\n",
    "    mult=val1*val2\n",
    "    div=val1/val2\n",
    "    return add,sub,mult,div\n",
    "\n",
    "val=calculator(10,2)\n",
    "print(val)"
   ]
  },
  {
   "cell_type": "code",
   "execution_count": 42,
   "id": "58073687-d3e2-4795-ba7f-8c36320ba733",
   "metadata": {},
   "outputs": [
    {
     "name": "stdout",
     "output_type": "stream",
     "text": [
      "12\n",
      "8\n",
      "20\n",
      "5.0\n"
     ]
    }
   ],
   "source": [
    "a,b,c,d=calculator(10,2)\n",
    "print(a)\n",
    "print(b)\n",
    "print(c)\n",
    "print(d)"
   ]
  },
  {
   "cell_type": "markdown",
   "id": "6b26f68f-9ad1-421c-b444-859f16a62932",
   "metadata": {},
   "source": [
    "<h5>The Anonymous Functions</h5>"
   ]
  },
  {
   "cell_type": "code",
   "execution_count": 43,
   "id": "e206be6b-efff-4496-9466-bf84518be749",
   "metadata": {},
   "outputs": [
    {
     "name": "stdout",
     "output_type": "stream",
     "text": [
      "Value of total:  30\n",
      "Value of tatal:  70\n"
     ]
    }
   ],
   "source": [
    "sum=lambda arg1,arg2:arg1+arg2\n",
    "\n",
    "val1=sum(10,20)\n",
    "val2=sum(30,40)\n",
    "\n",
    "print(\"Value of total: \",val1)\n",
    "print(\"Value of tatal: \",val2)"
   ]
  },
  {
   "cell_type": "markdown",
   "id": "092058df-5692-4e81-8f6b-5b5fc9b281fd",
   "metadata": {},
   "source": [
    "<h5>Scope of Variables</h5>\n",
    "<ul>\n",
    "    <li>Global variables</li>\n",
    "    <li>Local varialbles</li>\n",
    "</ul>"
   ]
  },
  {
   "cell_type": "code",
   "execution_count": 45,
   "id": "d51adf4c-23f7-45b5-affa-b24c96b5cbb9",
   "metadata": {},
   "outputs": [
    {
     "name": "stdout",
     "output_type": "stream",
     "text": [
      "Inside the function local total:  30\n",
      "Outside the function local total : 0\n"
     ]
    }
   ],
   "source": [
    "total=0 # This is global variable.\n",
    "def add(arg1,arg2):\n",
    "    total=arg1+arg2 # Here tatal is local variable\n",
    "    print(\"Inside the function local total: \", total)\n",
    "    return total\n",
    "\n",
    "val=add(10,20)\n",
    "print(\"Outside the function local total :\", total)"
   ]
  },
  {
   "cell_type": "markdown",
   "id": "4f8b1897-da71-4b15-924c-6f2ce6c74ba8",
   "metadata": {},
   "source": [
    "## 6 Modules\n",
    "<ul>\n",
    "    <li>Inbuit Modules</li>\n",
    "    <li>Custom Modules</li>\n",
    "    <li>External Modules</li>\n",
    "</ul>"
   ]
  },
  {
   "cell_type": "markdown",
   "id": "24048f25-675c-45e4-963b-3215b20253a3",
   "metadata": {},
   "source": [
    "<h5>Python Inbuilt Modules</h5>\n",
    "<ul>\n",
    "    <li>maths</li>\n",
    "    <li>datetime</li>\n",
    "    <li>os</li>\n",
    "    <li>random</li>\n",
    "    <li>tkinter</li>\n",
    "    <li>csv</li>\n",
    "    <li>re</li>\n",
    "    <li>email</li>\n",
    "    <li>html</li>\n",
    "    <li>http</li>\n",
    "</ul>"
   ]
  },
  {
   "cell_type": "markdown",
   "id": "78730380-d0bd-4aa9-92d8-b557b7cfb619",
   "metadata": {},
   "source": [
    "<h5>External Modules</h5>\n",
    "<ul>\n",
    "    <li>TensorFlow</li>\n",
    "    <li>Keras</li>\n",
    "    <li>OpenCV</li>\n",
    "    <li>scikit learn</li>\n",
    "    <li>NumPy</li>\n",
    "    <li>matplotlib</li>\n",
    "    <li>Pandas</li>\n",
    "</ul>"
   ]
  },
  {
   "cell_type": "code",
   "execution_count": 46,
   "id": "2cdf9ab6-35f0-4895-a91d-4039925bee7c",
   "metadata": {},
   "outputs": [
    {
     "data": {
      "text/plain": [
       "100.0"
      ]
     },
     "execution_count": 46,
     "metadata": {},
     "output_type": "execute_result"
    }
   ],
   "source": [
    "import math\n",
    "math.pow(10,2)"
   ]
  },
  {
   "cell_type": "code",
   "execution_count": 47,
   "id": "7315a3e6-b0b1-432b-9a7e-941f8efbc797",
   "metadata": {},
   "outputs": [
    {
     "data": {
      "text/plain": [
       "8.0"
      ]
     },
     "execution_count": 47,
     "metadata": {},
     "output_type": "execute_result"
    }
   ],
   "source": [
    "import math as m\n",
    "m.pow(2,3)"
   ]
  },
  {
   "cell_type": "code",
   "execution_count": 48,
   "id": "15b3521b-7d26-4420-8406-ec39ff314730",
   "metadata": {},
   "outputs": [
    {
     "data": {
      "text/plain": [
       "['__doc__',\n",
       " '__loader__',\n",
       " '__name__',\n",
       " '__package__',\n",
       " '__spec__',\n",
       " 'acos',\n",
       " 'acosh',\n",
       " 'asin',\n",
       " 'asinh',\n",
       " 'atan',\n",
       " 'atan2',\n",
       " 'atanh',\n",
       " 'ceil',\n",
       " 'comb',\n",
       " 'copysign',\n",
       " 'cos',\n",
       " 'cosh',\n",
       " 'degrees',\n",
       " 'dist',\n",
       " 'e',\n",
       " 'erf',\n",
       " 'erfc',\n",
       " 'exp',\n",
       " 'expm1',\n",
       " 'fabs',\n",
       " 'factorial',\n",
       " 'floor',\n",
       " 'fmod',\n",
       " 'frexp',\n",
       " 'fsum',\n",
       " 'gamma',\n",
       " 'gcd',\n",
       " 'hypot',\n",
       " 'inf',\n",
       " 'isclose',\n",
       " 'isfinite',\n",
       " 'isinf',\n",
       " 'isnan',\n",
       " 'isqrt',\n",
       " 'lcm',\n",
       " 'ldexp',\n",
       " 'lgamma',\n",
       " 'log',\n",
       " 'log10',\n",
       " 'log1p',\n",
       " 'log2',\n",
       " 'modf',\n",
       " 'nan',\n",
       " 'nextafter',\n",
       " 'perm',\n",
       " 'pi',\n",
       " 'pow',\n",
       " 'prod',\n",
       " 'radians',\n",
       " 'remainder',\n",
       " 'sin',\n",
       " 'sinh',\n",
       " 'sqrt',\n",
       " 'tan',\n",
       " 'tanh',\n",
       " 'tau',\n",
       " 'trunc',\n",
       " 'ulp']"
      ]
     },
     "execution_count": 48,
     "metadata": {},
     "output_type": "execute_result"
    }
   ],
   "source": [
    "dir(math)"
   ]
  },
  {
   "cell_type": "code",
   "execution_count": 50,
   "id": "7d222c80-3c2f-4881-992a-6c38724abe64",
   "metadata": {},
   "outputs": [
    {
     "name": "stdout",
     "output_type": "stream",
     "text": [
      "2.0\n"
     ]
    }
   ],
   "source": [
    "from math import log\n",
    "val=log(100,10)\n",
    "print(val)"
   ]
  },
  {
   "cell_type": "code",
   "execution_count": 51,
   "id": "1fa36d5c-34a8-434b-b4a6-67479ec73990",
   "metadata": {},
   "outputs": [
    {
     "name": "stdout",
     "output_type": "stream",
     "text": [
      "120\n"
     ]
    }
   ],
   "source": [
    "from math import factorial as fc\n",
    "val=fc(5)\n",
    "print(val)"
   ]
  },
  {
   "cell_type": "code",
   "execution_count": 52,
   "id": "e2934967-953a-4c42-88f6-917b86b9f511",
   "metadata": {},
   "outputs": [
    {
     "data": {
      "text/plain": [
       "24"
      ]
     },
     "execution_count": 52,
     "metadata": {},
     "output_type": "execute_result"
    }
   ],
   "source": [
    "from math import *\n",
    "factorial(4)"
   ]
  },
  {
   "cell_type": "code",
   "execution_count": 53,
   "id": "9563f167-8192-46e3-807b-4c67539eb8cf",
   "metadata": {},
   "outputs": [
    {
     "name": "stdout",
     "output_type": "stream",
     "text": [
      "Help on built-in module math:\n",
      "\n",
      "NAME\n",
      "    math\n",
      "\n",
      "DESCRIPTION\n",
      "    This module provides access to the mathematical functions\n",
      "    defined by the C standard.\n",
      "\n",
      "FUNCTIONS\n",
      "    acos(x, /)\n",
      "        Return the arc cosine (measured in radians) of x.\n",
      "        \n",
      "        The result is between 0 and pi.\n",
      "    \n",
      "    acosh(x, /)\n",
      "        Return the inverse hyperbolic cosine of x.\n",
      "    \n",
      "    asin(x, /)\n",
      "        Return the arc sine (measured in radians) of x.\n",
      "        \n",
      "        The result is between -pi/2 and pi/2.\n",
      "    \n",
      "    asinh(x, /)\n",
      "        Return the inverse hyperbolic sine of x.\n",
      "    \n",
      "    atan(x, /)\n",
      "        Return the arc tangent (measured in radians) of x.\n",
      "        \n",
      "        The result is between -pi/2 and pi/2.\n",
      "    \n",
      "    atan2(y, x, /)\n",
      "        Return the arc tangent (measured in radians) of y/x.\n",
      "        \n",
      "        Unlike atan(y/x), the signs of both x and y are considered.\n",
      "    \n",
      "    atanh(x, /)\n",
      "        Return the inverse hyperbolic tangent of x.\n",
      "    \n",
      "    ceil(x, /)\n",
      "        Return the ceiling of x as an Integral.\n",
      "        \n",
      "        This is the smallest integer >= x.\n",
      "    \n",
      "    comb(n, k, /)\n",
      "        Number of ways to choose k items from n items without repetition and without order.\n",
      "        \n",
      "        Evaluates to n! / (k! * (n - k)!) when k <= n and evaluates\n",
      "        to zero when k > n.\n",
      "        \n",
      "        Also called the binomial coefficient because it is equivalent\n",
      "        to the coefficient of k-th term in polynomial expansion of the\n",
      "        expression (1 + x)**n.\n",
      "        \n",
      "        Raises TypeError if either of the arguments are not integers.\n",
      "        Raises ValueError if either of the arguments are negative.\n",
      "    \n",
      "    copysign(x, y, /)\n",
      "        Return a float with the magnitude (absolute value) of x but the sign of y.\n",
      "        \n",
      "        On platforms that support signed zeros, copysign(1.0, -0.0)\n",
      "        returns -1.0.\n",
      "    \n",
      "    cos(x, /)\n",
      "        Return the cosine of x (measured in radians).\n",
      "    \n",
      "    cosh(x, /)\n",
      "        Return the hyperbolic cosine of x.\n",
      "    \n",
      "    degrees(x, /)\n",
      "        Convert angle x from radians to degrees.\n",
      "    \n",
      "    dist(p, q, /)\n",
      "        Return the Euclidean distance between two points p and q.\n",
      "        \n",
      "        The points should be specified as sequences (or iterables) of\n",
      "        coordinates.  Both inputs must have the same dimension.\n",
      "        \n",
      "        Roughly equivalent to:\n",
      "            sqrt(sum((px - qx) ** 2.0 for px, qx in zip(p, q)))\n",
      "    \n",
      "    erf(x, /)\n",
      "        Error function at x.\n",
      "    \n",
      "    erfc(x, /)\n",
      "        Complementary error function at x.\n",
      "    \n",
      "    exp(x, /)\n",
      "        Return e raised to the power of x.\n",
      "    \n",
      "    expm1(x, /)\n",
      "        Return exp(x)-1.\n",
      "        \n",
      "        This function avoids the loss of precision involved in the direct evaluation of exp(x)-1 for small x.\n",
      "    \n",
      "    fabs(x, /)\n",
      "        Return the absolute value of the float x.\n",
      "    \n",
      "    factorial(x, /)\n",
      "        Find x!.\n",
      "        \n",
      "        Raise a ValueError if x is negative or non-integral.\n",
      "    \n",
      "    floor(x, /)\n",
      "        Return the floor of x as an Integral.\n",
      "        \n",
      "        This is the largest integer <= x.\n",
      "    \n",
      "    fmod(x, y, /)\n",
      "        Return fmod(x, y), according to platform C.\n",
      "        \n",
      "        x % y may differ.\n",
      "    \n",
      "    frexp(x, /)\n",
      "        Return the mantissa and exponent of x, as pair (m, e).\n",
      "        \n",
      "        m is a float and e is an int, such that x = m * 2.**e.\n",
      "        If x is 0, m and e are both 0.  Else 0.5 <= abs(m) < 1.0.\n",
      "    \n",
      "    fsum(seq, /)\n",
      "        Return an accurate floating point sum of values in the iterable seq.\n",
      "        \n",
      "        Assumes IEEE-754 floating point arithmetic.\n",
      "    \n",
      "    gamma(x, /)\n",
      "        Gamma function at x.\n",
      "    \n",
      "    gcd(*integers)\n",
      "        Greatest Common Divisor.\n",
      "    \n",
      "    hypot(...)\n",
      "        hypot(*coordinates) -> value\n",
      "        \n",
      "        Multidimensional Euclidean distance from the origin to a point.\n",
      "        \n",
      "        Roughly equivalent to:\n",
      "            sqrt(sum(x**2 for x in coordinates))\n",
      "        \n",
      "        For a two dimensional point (x, y), gives the hypotenuse\n",
      "        using the Pythagorean theorem:  sqrt(x*x + y*y).\n",
      "        \n",
      "        For example, the hypotenuse of a 3/4/5 right triangle is:\n",
      "        \n",
      "            >>> hypot(3.0, 4.0)\n",
      "            5.0\n",
      "    \n",
      "    isclose(a, b, *, rel_tol=1e-09, abs_tol=0.0)\n",
      "        Determine whether two floating point numbers are close in value.\n",
      "        \n",
      "          rel_tol\n",
      "            maximum difference for being considered \"close\", relative to the\n",
      "            magnitude of the input values\n",
      "          abs_tol\n",
      "            maximum difference for being considered \"close\", regardless of the\n",
      "            magnitude of the input values\n",
      "        \n",
      "        Return True if a is close in value to b, and False otherwise.\n",
      "        \n",
      "        For the values to be considered close, the difference between them\n",
      "        must be smaller than at least one of the tolerances.\n",
      "        \n",
      "        -inf, inf and NaN behave similarly to the IEEE 754 Standard.  That\n",
      "        is, NaN is not close to anything, even itself.  inf and -inf are\n",
      "        only close to themselves.\n",
      "    \n",
      "    isfinite(x, /)\n",
      "        Return True if x is neither an infinity nor a NaN, and False otherwise.\n",
      "    \n",
      "    isinf(x, /)\n",
      "        Return True if x is a positive or negative infinity, and False otherwise.\n",
      "    \n",
      "    isnan(x, /)\n",
      "        Return True if x is a NaN (not a number), and False otherwise.\n",
      "    \n",
      "    isqrt(n, /)\n",
      "        Return the integer part of the square root of the input.\n",
      "    \n",
      "    lcm(*integers)\n",
      "        Least Common Multiple.\n",
      "    \n",
      "    ldexp(x, i, /)\n",
      "        Return x * (2**i).\n",
      "        \n",
      "        This is essentially the inverse of frexp().\n",
      "    \n",
      "    lgamma(x, /)\n",
      "        Natural logarithm of absolute value of Gamma function at x.\n",
      "    \n",
      "    log(...)\n",
      "        log(x, [base=math.e])\n",
      "        Return the logarithm of x to the given base.\n",
      "        \n",
      "        If the base not specified, returns the natural logarithm (base e) of x.\n",
      "    \n",
      "    log10(x, /)\n",
      "        Return the base 10 logarithm of x.\n",
      "    \n",
      "    log1p(x, /)\n",
      "        Return the natural logarithm of 1+x (base e).\n",
      "        \n",
      "        The result is computed in a way which is accurate for x near zero.\n",
      "    \n",
      "    log2(x, /)\n",
      "        Return the base 2 logarithm of x.\n",
      "    \n",
      "    modf(x, /)\n",
      "        Return the fractional and integer parts of x.\n",
      "        \n",
      "        Both results carry the sign of x and are floats.\n",
      "    \n",
      "    nextafter(x, y, /)\n",
      "        Return the next floating-point value after x towards y.\n",
      "    \n",
      "    perm(n, k=None, /)\n",
      "        Number of ways to choose k items from n items without repetition and with order.\n",
      "        \n",
      "        Evaluates to n! / (n - k)! when k <= n and evaluates\n",
      "        to zero when k > n.\n",
      "        \n",
      "        If k is not specified or is None, then k defaults to n\n",
      "        and the function returns n!.\n",
      "        \n",
      "        Raises TypeError if either of the arguments are not integers.\n",
      "        Raises ValueError if either of the arguments are negative.\n",
      "    \n",
      "    pow(x, y, /)\n",
      "        Return x**y (x to the power of y).\n",
      "    \n",
      "    prod(iterable, /, *, start=1)\n",
      "        Calculate the product of all the elements in the input iterable.\n",
      "        \n",
      "        The default start value for the product is 1.\n",
      "        \n",
      "        When the iterable is empty, return the start value.  This function is\n",
      "        intended specifically for use with numeric values and may reject\n",
      "        non-numeric types.\n",
      "    \n",
      "    radians(x, /)\n",
      "        Convert angle x from degrees to radians.\n",
      "    \n",
      "    remainder(x, y, /)\n",
      "        Difference between x and the closest integer multiple of y.\n",
      "        \n",
      "        Return x - n*y where n*y is the closest integer multiple of y.\n",
      "        In the case where x is exactly halfway between two multiples of\n",
      "        y, the nearest even value of n is used. The result is always exact.\n",
      "    \n",
      "    sin(x, /)\n",
      "        Return the sine of x (measured in radians).\n",
      "    \n",
      "    sinh(x, /)\n",
      "        Return the hyperbolic sine of x.\n",
      "    \n",
      "    sqrt(x, /)\n",
      "        Return the square root of x.\n",
      "    \n",
      "    tan(x, /)\n",
      "        Return the tangent of x (measured in radians).\n",
      "    \n",
      "    tanh(x, /)\n",
      "        Return the hyperbolic tangent of x.\n",
      "    \n",
      "    trunc(x, /)\n",
      "        Truncates the Real x to the nearest Integral toward 0.\n",
      "        \n",
      "        Uses the __trunc__ magic method.\n",
      "    \n",
      "    ulp(x, /)\n",
      "        Return the value of the least significant bit of the float x.\n",
      "\n",
      "DATA\n",
      "    e = 2.718281828459045\n",
      "    inf = inf\n",
      "    nan = nan\n",
      "    pi = 3.141592653589793\n",
      "    tau = 6.283185307179586\n",
      "\n",
      "FILE\n",
      "    (built-in)\n",
      "\n",
      "\n"
     ]
    }
   ],
   "source": [
    "help(math)"
   ]
  },
  {
   "cell_type": "markdown",
   "id": "1da69fd6-ff99-49bb-9162-6ae245881f85",
   "metadata": {},
   "source": [
    "<h5>Custom Modules</h5>"
   ]
  },
  {
   "cell_type": "code",
   "execution_count": 54,
   "id": "09e3da7c-ee1a-4761-86e0-3296653a8881",
   "metadata": {},
   "outputs": [
    {
     "name": "stdout",
     "output_type": "stream",
     "text": [
      "30\n"
     ]
    }
   ],
   "source": [
    "import myMath as mM\n",
    "\n",
    "val=mM.add(10,20)\n",
    "print(val)"
   ]
  },
  {
   "cell_type": "code",
   "execution_count": 55,
   "id": "19b01009-a774-4d46-b7b8-69771a5b2837",
   "metadata": {},
   "outputs": [
    {
     "name": "stdout",
     "output_type": "stream",
     "text": [
      "20.0\n"
     ]
    }
   ],
   "source": [
    "val=mM.avg(10,20,30)\n",
    "print(val)"
   ]
  },
  {
   "cell_type": "code",
   "execution_count": 56,
   "id": "7a1c20d6-71d9-4639-b220-342fc646d3f0",
   "metadata": {},
   "outputs": [
    {
     "name": "stdout",
     "output_type": "stream",
     "text": [
      "1000\n"
     ]
    }
   ],
   "source": [
    "print(mM.val1)"
   ]
  },
  {
   "cell_type": "code",
   "execution_count": 57,
   "id": "bb94e659-288b-4205-98b2-0ba52bff02fb",
   "metadata": {},
   "outputs": [
    {
     "name": "stdout",
     "output_type": "stream",
     "text": [
      "44\n"
     ]
    }
   ],
   "source": [
    "from myMath import add as a\n",
    "val=a(10,34)\n",
    "print(val)"
   ]
  },
  {
   "cell_type": "code",
   "execution_count": null,
   "id": "7bcbaa09-4beb-46ed-83ab-bf64f10c5b65",
   "metadata": {},
   "outputs": [],
   "source": []
  }
 ],
 "metadata": {
  "kernelspec": {
   "display_name": "Python 3 (ipykernel)",
   "language": "python",
   "name": "python3"
  },
  "language_info": {
   "codemirror_mode": {
    "name": "ipython",
    "version": 3
   },
   "file_extension": ".py",
   "mimetype": "text/x-python",
   "name": "python",
   "nbconvert_exporter": "python",
   "pygments_lexer": "ipython3",
   "version": "3.10.7"
  }
 },
 "nbformat": 4,
 "nbformat_minor": 5
}
