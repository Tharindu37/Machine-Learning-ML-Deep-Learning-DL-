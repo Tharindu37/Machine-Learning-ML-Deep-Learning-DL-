{
  "nbformat": 4,
  "nbformat_minor": 0,
  "metadata": {
    "colab": {
      "provenance": []
    },
    "kernelspec": {
      "name": "python3",
      "display_name": "Python 3"
    },
    "language_info": {
      "name": "python"
    }
  },
  "cells": [
    {
      "cell_type": "markdown",
      "source": [
        "<h1>Numpy array Objects</h1>\n",
        "<p>creating a multi-dimensional array object</p>"
      ],
      "metadata": {
        "id": "u-p5MncWd0Wi"
      }
    },
    {
      "cell_type": "code",
      "execution_count": 2,
      "metadata": {
        "colab": {
          "base_uri": "https://localhost:8080/"
        },
        "id": "QVFz47YKdK33",
        "outputId": "9e98e6ad-27d7-453a-9530-2eb474216f2a"
      },
      "outputs": [
        {
          "output_type": "stream",
          "name": "stdout",
          "text": [
            "[[11, 12, 13, 14], [22, 23, 24, 25], [33, 34, 35, 36]]\n"
          ]
        }
      ],
      "source": [
        "import numpy as np\n",
        "array1=[[11,12,13,14],[22,23,24,25],[33,34,35,36]]\n",
        "array1_new=np.array(array1)\n",
        "print(array1)"
      ]
    },
    {
      "cell_type": "code",
      "source": [
        "print(array1_new)"
      ],
      "metadata": {
        "colab": {
          "base_uri": "https://localhost:8080/"
        },
        "id": "fNKyDx-_eND1",
        "outputId": "fb59f021-3f9c-4c9e-e549-58d6c5b1ce6e"
      },
      "execution_count": 3,
      "outputs": [
        {
          "output_type": "stream",
          "name": "stdout",
          "text": [
            "[[11 12 13 14]\n",
            " [22 23 24 25]\n",
            " [33 34 35 36]]\n"
          ]
        }
      ]
    },
    {
      "cell_type": "code",
      "source": [
        "x=[1,2,3,4]\n",
        "array2=np.array(x)\n",
        "#array2=np.asarray(x)\n",
        "print(array2)"
      ],
      "metadata": {
        "colab": {
          "base_uri": "https://localhost:8080/"
        },
        "id": "fmxZ-LzHem4H",
        "outputId": "ee99158e-84f4-43d5-865f-f704939d5b54"
      },
      "execution_count": 4,
      "outputs": [
        {
          "output_type": "stream",
          "name": "stdout",
          "text": [
            "[1 2 3 4]\n"
          ]
        }
      ]
    },
    {
      "cell_type": "markdown",
      "source": [
        "<h2>Shape and ndim</h2>"
      ],
      "metadata": {
        "id": "ql7ZuYsee5ns"
      }
    },
    {
      "cell_type": "code",
      "source": [
        "array1=[[11,12,13,14],[22,23,24,25],[33,34,35,36]]\n",
        "array1_new=np.array(array1)"
      ],
      "metadata": {
        "id": "dw-xUYLae1Yu"
      },
      "execution_count": 5,
      "outputs": []
    },
    {
      "cell_type": "code",
      "source": [
        "print(array1_new.ndim)"
      ],
      "metadata": {
        "colab": {
          "base_uri": "https://localhost:8080/"
        },
        "id": "Nqu9JSIpfHRf",
        "outputId": "abf0603b-388d-4791-dca3-a1797d65e88a"
      },
      "execution_count": 6,
      "outputs": [
        {
          "output_type": "stream",
          "name": "stdout",
          "text": [
            "2\n"
          ]
        }
      ]
    },
    {
      "cell_type": "code",
      "source": [
        "x=[1,2,3,4]\n",
        "array2=np.array(x)\n",
        "print(array2.ndim)"
      ],
      "metadata": {
        "colab": {
          "base_uri": "https://localhost:8080/"
        },
        "id": "59j_CBbxfKda",
        "outputId": "24a66e94-5f8b-443b-8c10-b7ce77056cf1"
      },
      "execution_count": 7,
      "outputs": [
        {
          "output_type": "stream",
          "name": "stdout",
          "text": [
            "1\n"
          ]
        }
      ]
    },
    {
      "cell_type": "code",
      "source": [
        "print(array1_new.shape)"
      ],
      "metadata": {
        "colab": {
          "base_uri": "https://localhost:8080/"
        },
        "id": "qqBSurRZfTd6",
        "outputId": "8cec2940-5ccc-415f-fbca-bdce9fb50890"
      },
      "execution_count": 8,
      "outputs": [
        {
          "output_type": "stream",
          "name": "stdout",
          "text": [
            "(3, 4)\n"
          ]
        }
      ]
    },
    {
      "cell_type": "code",
      "source": [
        "print(array2.shape)"
      ],
      "metadata": {
        "colab": {
          "base_uri": "https://localhost:8080/"
        },
        "id": "nkvE1l9UfZbf",
        "outputId": "0717c5b7-559c-4a8e-b4a5-798cc4b6a549"
      },
      "execution_count": 9,
      "outputs": [
        {
          "output_type": "stream",
          "name": "stdout",
          "text": [
            "(4,)\n"
          ]
        }
      ]
    },
    {
      "cell_type": "markdown",
      "source": [
        "<h2>np.arrange() and np.resize()</h2>"
      ],
      "metadata": {
        "id": "J1jEbTZVfo6s"
      }
    },
    {
      "cell_type": "code",
      "source": [
        "print(array1_new)"
      ],
      "metadata": {
        "colab": {
          "base_uri": "https://localhost:8080/"
        },
        "id": "D5dphOGwfdnY",
        "outputId": "b2986961-2191-4743-cb25-46d5be70d810"
      },
      "execution_count": 10,
      "outputs": [
        {
          "output_type": "stream",
          "name": "stdout",
          "text": [
            "[[11 12 13 14]\n",
            " [22 23 24 25]\n",
            " [33 34 35 36]]\n"
          ]
        }
      ]
    },
    {
      "cell_type": "code",
      "source": [
        "print(array1_new.shape)"
      ],
      "metadata": {
        "colab": {
          "base_uri": "https://localhost:8080/"
        },
        "id": "isbbGpbcgDts",
        "outputId": "cd4027b1-4373-4ae5-837f-10c3387f3ace"
      },
      "execution_count": 11,
      "outputs": [
        {
          "output_type": "stream",
          "name": "stdout",
          "text": [
            "(3, 4)\n"
          ]
        }
      ]
    },
    {
      "cell_type": "code",
      "source": [
        "array2=array1_new.reshape(4,3)\n",
        "print(array2)"
      ],
      "metadata": {
        "colab": {
          "base_uri": "https://localhost:8080/"
        },
        "id": "3PRvb8W7gGQW",
        "outputId": "78e173f9-03dc-4d3d-c48b-486bc994bf37"
      },
      "execution_count": 12,
      "outputs": [
        {
          "output_type": "stream",
          "name": "stdout",
          "text": [
            "[[11 12 13]\n",
            " [14 22 23]\n",
            " [24 25 33]\n",
            " [34 35 36]]\n"
          ]
        }
      ]
    },
    {
      "cell_type": "code",
      "source": [
        "array2=array1_new.reshape(6,2)\n",
        "print(array2)"
      ],
      "metadata": {
        "colab": {
          "base_uri": "https://localhost:8080/"
        },
        "id": "jbbQQq0FgNt8",
        "outputId": "b5b6cbd0-3c30-4945-d5cc-5dd305657c21"
      },
      "execution_count": 13,
      "outputs": [
        {
          "output_type": "stream",
          "name": "stdout",
          "text": [
            "[[11 12]\n",
            " [13 14]\n",
            " [22 23]\n",
            " [24 25]\n",
            " [33 34]\n",
            " [35 36]]\n"
          ]
        }
      ]
    },
    {
      "cell_type": "code",
      "source": [
        "array2=array1_new.reshape(12,1)\n",
        "print(array2)"
      ],
      "metadata": {
        "colab": {
          "base_uri": "https://localhost:8080/"
        },
        "id": "qWXoe_FogUPC",
        "outputId": "a84c100b-443f-45b8-e8fc-ff487444c3bc"
      },
      "execution_count": 14,
      "outputs": [
        {
          "output_type": "stream",
          "name": "stdout",
          "text": [
            "[[11]\n",
            " [12]\n",
            " [13]\n",
            " [14]\n",
            " [22]\n",
            " [23]\n",
            " [24]\n",
            " [25]\n",
            " [33]\n",
            " [34]\n",
            " [35]\n",
            " [36]]\n"
          ]
        }
      ]
    },
    {
      "cell_type": "code",
      "source": [
        "array2=array1_new.reshape(1,12)\n",
        "print(array2)"
      ],
      "metadata": {
        "colab": {
          "base_uri": "https://localhost:8080/"
        },
        "id": "PyPediVBgdc_",
        "outputId": "9c56f9cb-b3a9-4574-b603-d39dfa84231d"
      },
      "execution_count": 16,
      "outputs": [
        {
          "output_type": "stream",
          "name": "stdout",
          "text": [
            "[[11 12 13 14 22 23 24 25 33 34 35 36]]\n"
          ]
        }
      ]
    },
    {
      "cell_type": "code",
      "source": [
        "array=np.arange(-10,10,2)\n",
        "print(array, array.ndim, array.shape)"
      ],
      "metadata": {
        "colab": {
          "base_uri": "https://localhost:8080/"
        },
        "id": "ZAs1e5Vvgj4I",
        "outputId": "964a3d74-e42e-4c84-a3a6-18ecc4929fa0"
      },
      "execution_count": 18,
      "outputs": [
        {
          "output_type": "stream",
          "name": "stdout",
          "text": [
            "[-10  -8  -6  -4  -2   0   2   4   6   8] 1 (10,)\n"
          ]
        }
      ]
    },
    {
      "cell_type": "code",
      "source": [
        "array1=array.reshape(-1,1)\n",
        "print(array1)"
      ],
      "metadata": {
        "colab": {
          "base_uri": "https://localhost:8080/"
        },
        "id": "WtH8A-m0g88q",
        "outputId": "b72fd323-9b98-4fbf-ce50-349cb9978388"
      },
      "execution_count": 19,
      "outputs": [
        {
          "output_type": "stream",
          "name": "stdout",
          "text": [
            "[[-10]\n",
            " [ -8]\n",
            " [ -6]\n",
            " [ -4]\n",
            " [ -2]\n",
            " [  0]\n",
            " [  2]\n",
            " [  4]\n",
            " [  6]\n",
            " [  8]]\n"
          ]
        }
      ]
    },
    {
      "cell_type": "code",
      "source": [
        "array1=array.reshape(1,-1)\n",
        "print(array1)"
      ],
      "metadata": {
        "colab": {
          "base_uri": "https://localhost:8080/"
        },
        "id": "TgZKs5J_hNQC",
        "outputId": "27627036-6fab-4ee1-eaae-f5f67e323cda"
      },
      "execution_count": 20,
      "outputs": [
        {
          "output_type": "stream",
          "name": "stdout",
          "text": [
            "[[-10  -8  -6  -4  -2   0   2   4   6   8]]\n"
          ]
        }
      ]
    },
    {
      "cell_type": "markdown",
      "source": [
        "<h2>Array Creation Routines</h2>"
      ],
      "metadata": {
        "id": "--I8HQvUqL-n"
      }
    },
    {
      "cell_type": "code",
      "source": [
        "import numpy as np\n",
        "x=np.empty((3,2),dtype=np.int)\n",
        "print(x)"
      ],
      "metadata": {
        "colab": {
          "base_uri": "https://localhost:8080/"
        },
        "id": "i3eaQqoZhTCX",
        "outputId": "0f95243f-6482-4898-bc63-55a6290beb61"
      },
      "execution_count": 21,
      "outputs": [
        {
          "output_type": "stream",
          "name": "stdout",
          "text": [
            "[[101986107472075               0]\n",
            " [140506335152112 140507603648816]\n",
            " [140506335152048 140507603648816]]\n"
          ]
        },
        {
          "output_type": "stream",
          "name": "stderr",
          "text": [
            "<ipython-input-21-2da6457b4926>:2: DeprecationWarning: `np.int` is a deprecated alias for the builtin `int`. To silence this warning, use `int` by itself. Doing this will not modify any behavior and is safe. When replacing `np.int`, you may wish to use e.g. `np.int64` or `np.int32` to specify the precision. If you wish to review your current use, check the release note link for additional information.\n",
            "Deprecated in NumPy 1.20; for more details and guidance: https://numpy.org/devdocs/release/1.20.0-notes.html#deprecations\n",
            "  x=np.empty((3,2),dtype=np.int)\n"
          ]
        }
      ]
    },
    {
      "cell_type": "markdown",
      "source": [
        "<p>It creates an uninitialized array of specified shape and dtype. The elements in an array show random values as they are not initialized.</P>"
      ],
      "metadata": {
        "id": "OkzB53Vnq9NG"
      }
    },
    {
      "cell_type": "code",
      "source": [
        "# array of five zeros. Default dtype is float\n",
        "x=np.zeros(5)\n",
        "print(x)"
      ],
      "metadata": {
        "colab": {
          "base_uri": "https://localhost:8080/"
        },
        "id": "M34FWbC8qsN9",
        "outputId": "580df73d-7699-4c9d-f266-7badc2eaebb8"
      },
      "execution_count": 22,
      "outputs": [
        {
          "output_type": "stream",
          "name": "stdout",
          "text": [
            "[0. 0. 0. 0. 0.]\n"
          ]
        }
      ]
    },
    {
      "cell_type": "code",
      "source": [
        "x=np.zeros((5,3),dtype=np.float)\n",
        "print(x)"
      ],
      "metadata": {
        "colab": {
          "base_uri": "https://localhost:8080/"
        },
        "id": "APICPIC6rYk0",
        "outputId": "c408c56b-01e9-46d7-cfc3-cf1d81636a99"
      },
      "execution_count": 24,
      "outputs": [
        {
          "output_type": "stream",
          "name": "stdout",
          "text": [
            "[[0. 0. 0.]\n",
            " [0. 0. 0.]\n",
            " [0. 0. 0.]\n",
            " [0. 0. 0.]\n",
            " [0. 0. 0.]]\n"
          ]
        },
        {
          "output_type": "stream",
          "name": "stderr",
          "text": [
            "<ipython-input-24-9e1f2760dec8>:1: DeprecationWarning: `np.float` is a deprecated alias for the builtin `float`. To silence this warning, use `float` by itself. Doing this will not modify any behavior and is safe. If you specifically wanted the numpy scalar type, use `np.float64` here.\n",
            "Deprecated in NumPy 1.20; for more details and guidance: https://numpy.org/devdocs/release/1.20.0-notes.html#deprecations\n",
            "  x=np.zeros((5,3),dtype=np.float)\n"
          ]
        }
      ]
    },
    {
      "cell_type": "code",
      "source": [
        "x=np.zeros((5,3),dtype=np.int)\n",
        "print(x)"
      ],
      "metadata": {
        "colab": {
          "base_uri": "https://localhost:8080/"
        },
        "id": "hY_ajDrKrh_G",
        "outputId": "02ed3fda-9d40-4d67-f9d5-d6dfd459d3ac"
      },
      "execution_count": 25,
      "outputs": [
        {
          "output_type": "stream",
          "name": "stdout",
          "text": [
            "[[0 0 0]\n",
            " [0 0 0]\n",
            " [0 0 0]\n",
            " [0 0 0]\n",
            " [0 0 0]]\n"
          ]
        },
        {
          "output_type": "stream",
          "name": "stderr",
          "text": [
            "<ipython-input-25-e5bdb62a92a2>:1: DeprecationWarning: `np.int` is a deprecated alias for the builtin `int`. To silence this warning, use `int` by itself. Doing this will not modify any behavior and is safe. When replacing `np.int`, you may wish to use e.g. `np.int64` or `np.int32` to specify the precision. If you wish to review your current use, check the release note link for additional information.\n",
            "Deprecated in NumPy 1.20; for more details and guidance: https://numpy.org/devdocs/release/1.20.0-notes.html#deprecations\n",
            "  x=np.zeros((5,3),dtype=np.int)\n"
          ]
        }
      ]
    },
    {
      "cell_type": "code",
      "source": [
        "x=np.ones((5,3),dtype=np.int)\n",
        "print(x)"
      ],
      "metadata": {
        "colab": {
          "base_uri": "https://localhost:8080/"
        },
        "id": "EC4KqO0GrrqY",
        "outputId": "07619591-a748-4be0-cb5f-0eb89bd3d30d"
      },
      "execution_count": 26,
      "outputs": [
        {
          "output_type": "stream",
          "name": "stdout",
          "text": [
            "[[1 1 1]\n",
            " [1 1 1]\n",
            " [1 1 1]\n",
            " [1 1 1]\n",
            " [1 1 1]]\n"
          ]
        },
        {
          "output_type": "stream",
          "name": "stderr",
          "text": [
            "<ipython-input-26-a161b07db510>:1: DeprecationWarning: `np.int` is a deprecated alias for the builtin `int`. To silence this warning, use `int` by itself. Doing this will not modify any behavior and is safe. When replacing `np.int`, you may wish to use e.g. `np.int64` or `np.int32` to specify the precision. If you wish to review your current use, check the release note link for additional information.\n",
            "Deprecated in NumPy 1.20; for more details and guidance: https://numpy.org/devdocs/release/1.20.0-notes.html#deprecations\n",
            "  x=np.ones((5,3),dtype=np.int)\n"
          ]
        }
      ]
    },
    {
      "cell_type": "markdown",
      "source": [
        "<p> This routine are useful for converting Python sequence into ndarray.</P>"
      ],
      "metadata": {
        "id": "IbOCdTIJr0KH"
      }
    },
    {
      "cell_type": "code",
      "source": [
        "x=np.arange(-10,10,2)\n",
        "print(x)"
      ],
      "metadata": {
        "colab": {
          "base_uri": "https://localhost:8080/"
        },
        "id": "aCrDY4h6ruf_",
        "outputId": "9ff7863a-4382-42fe-a29c-a0ac2f966614"
      },
      "execution_count": 27,
      "outputs": [
        {
          "output_type": "stream",
          "name": "stdout",
          "text": [
            "[-10  -8  -6  -4  -2   0   2   4   6   8]\n"
          ]
        }
      ]
    },
    {
      "cell_type": "markdown",
      "source": [
        "<p>This function returns an ndarray object containing evenly spaced values within a given range. The format of the function is as follows -</p>\n",
        "<b> numpy.arange(start,stop,step,dtype)</b>"
      ],
      "metadata": {
        "id": "H79-j1jrsHst"
      }
    },
    {
      "cell_type": "markdown",
      "source": [
        "<h2>Indexing & Slicing</h2>"
      ],
      "metadata": {
        "id": "ccw8FzCLsmGN"
      }
    },
    {
      "cell_type": "code",
      "source": [
        "array=np.random.randint(0,100,(10,5))\n",
        "print(array)"
      ],
      "metadata": {
        "colab": {
          "base_uri": "https://localhost:8080/"
        },
        "id": "JPwA9NbmsDy5",
        "outputId": "b1cfebac-d91f-46bf-d466-54b026201e55"
      },
      "execution_count": 3,
      "outputs": [
        {
          "output_type": "stream",
          "name": "stdout",
          "text": [
            "[[15 14 16 88 49]\n",
            " [78 52  4 56 53]\n",
            " [21 77 49 63 20]\n",
            " [68 39 72 97 40]\n",
            " [64 54 13 92  5]\n",
            " [62 76 36  4 83]\n",
            " [54 75 25 15 74]\n",
            " [41  6 66 90  4]\n",
            " [31 93 58 83 92]\n",
            " [41 87 54 26 64]]\n"
          ]
        }
      ]
    },
    {
      "cell_type": "code",
      "source": [
        "array1=np.random.randint(0,100,(4,3))\n",
        "array2=np.random.randint(0,100,(4,3))\n",
        "array3=array1+array2\n",
        "print('array1', array1)\n",
        "print('array2', array2)\n",
        "print('array3', array3)"
      ],
      "metadata": {
        "colab": {
          "base_uri": "https://localhost:8080/"
        },
        "id": "9VVL03w8sWdx",
        "outputId": "9ad2a9b6-53f7-4596-ee8f-436139ba01d4"
      },
      "execution_count": 4,
      "outputs": [
        {
          "output_type": "stream",
          "name": "stdout",
          "text": [
            "array1 [[ 7 20 74]\n",
            " [ 6 15 18]\n",
            " [ 6  5 51]\n",
            " [98 88 58]]\n",
            "array2 [[47 77  5]\n",
            " [55 48 32]\n",
            " [62 83 27]\n",
            " [74 51 43]]\n",
            "array3 [[ 54  97  79]\n",
            " [ 61  63  50]\n",
            " [ 68  88  78]\n",
            " [172 139 101]]\n"
          ]
        }
      ]
    },
    {
      "cell_type": "code",
      "source": [
        "array1=np.random.randint(0,100,(4,3))\n",
        "array2=array1/10\n",
        "print('array1:',array1)\n",
        "print('array2:',array2)"
      ],
      "metadata": {
        "colab": {
          "base_uri": "https://localhost:8080/"
        },
        "id": "CYJ9ghCes1Pk",
        "outputId": "3b76717f-3ec2-4568-b803-5ffa39053cd4"
      },
      "execution_count": 5,
      "outputs": [
        {
          "output_type": "stream",
          "name": "stdout",
          "text": [
            "array1: [[43 85  4]\n",
            " [80 83 64]\n",
            " [62 61 10]\n",
            " [86 58 77]]\n",
            "array2: [[4.3 8.5 0.4]\n",
            " [8.  8.3 6.4]\n",
            " [6.2 6.1 1. ]\n",
            " [8.6 5.8 7.7]]\n"
          ]
        }
      ]
    },
    {
      "cell_type": "code",
      "source": [
        "array1=np.random.randint(0,100,(4,3))\n",
        "array2=np.random.randint(0,100,(4,3))\n",
        "array3=array1*array2\n",
        "print('array1', array1)\n",
        "print('array2', array2)\n",
        "print('array3', array3)"
      ],
      "metadata": {
        "colab": {
          "base_uri": "https://localhost:8080/"
        },
        "id": "tnumgMmqtkFf",
        "outputId": "18a9f39c-7f2f-43c9-e024-c92e57622ca0"
      },
      "execution_count": 6,
      "outputs": [
        {
          "output_type": "stream",
          "name": "stdout",
          "text": [
            "array1 [[50 61 93]\n",
            " [38 57 16]\n",
            " [72 54 33]\n",
            " [55 12 21]]\n",
            "array2 [[34 68 14]\n",
            " [39 97 35]\n",
            " [68  6 92]\n",
            " [29 91 93]]\n",
            "array3 [[1700 4148 1302]\n",
            " [1482 5529  560]\n",
            " [4896  324 3036]\n",
            " [1595 1092 1953]]\n"
          ]
        }
      ]
    },
    {
      "cell_type": "code",
      "source": [
        "array1=np.random.randint(0,100,(4,3))\n",
        "array2=np.random.randint(0,100,(3,5))\n",
        "array3=np.matmul(array1,array2)\n",
        "print('array1', array1)\n",
        "print('array2', array2)\n",
        "print('array3', array3)"
      ],
      "metadata": {
        "colab": {
          "base_uri": "https://localhost:8080/"
        },
        "id": "xyY1OHDLtv-G",
        "outputId": "6af8a78a-604b-4a23-e5a6-adc32da671d1"
      },
      "execution_count": 8,
      "outputs": [
        {
          "output_type": "stream",
          "name": "stdout",
          "text": [
            "array1 [[17 59 21]\n",
            " [61 18 99]\n",
            " [93 51 75]\n",
            " [64  9 95]]\n",
            "array2 [[58 67 71 10 37]\n",
            " [98 39  2 69 57]\n",
            " [53 90 73 36 60]]\n",
            "array3 [[ 7881  5330  2858  4997  5252]\n",
            " [10549 13699 11594  5416  9223]\n",
            " [14367 14970 12180  7149 10848]\n",
            " [ 9629 13189 11497  4681  8581]]\n"
          ]
        }
      ]
    },
    {
      "cell_type": "code",
      "source": [
        "array=np.random.randint(0,100,(5,7))\n",
        "print(array)"
      ],
      "metadata": {
        "colab": {
          "base_uri": "https://localhost:8080/"
        },
        "id": "xxptYEhXt7LJ",
        "outputId": "ce15faba-97ec-4329-b93d-8e51e253a733"
      },
      "execution_count": 9,
      "outputs": [
        {
          "output_type": "stream",
          "name": "stdout",
          "text": [
            "[[49 36 93 60 89 34  9]\n",
            " [ 4 82 77 44 59 15 61]\n",
            " [ 8  3 79 86  9 30  3]\n",
            " [42 82 43 19 66 55 66]\n",
            " [96  5 40 59  7 42 94]]\n"
          ]
        }
      ]
    },
    {
      "cell_type": "code",
      "source": [
        "print(np.max(array))"
      ],
      "metadata": {
        "colab": {
          "base_uri": "https://localhost:8080/"
        },
        "id": "2roBeNdPuTE_",
        "outputId": "f3f9d53f-cbba-4c14-fb16-c17d721f8be8"
      },
      "execution_count": 10,
      "outputs": [
        {
          "output_type": "stream",
          "name": "stdout",
          "text": [
            "96\n"
          ]
        }
      ]
    },
    {
      "cell_type": "code",
      "source": [
        "print(np.argmax(array))"
      ],
      "metadata": {
        "colab": {
          "base_uri": "https://localhost:8080/"
        },
        "id": "gFHN_KsFuWZV",
        "outputId": "f90e14f5-53b6-49fa-bcb1-ecaf95b62564"
      },
      "execution_count": 11,
      "outputs": [
        {
          "output_type": "stream",
          "name": "stdout",
          "text": [
            "28\n"
          ]
        }
      ]
    },
    {
      "cell_type": "code",
      "source": [
        "print(np.max(array,axis=0))"
      ],
      "metadata": {
        "colab": {
          "base_uri": "https://localhost:8080/"
        },
        "id": "GHwP5u8duZim",
        "outputId": "fe731ec7-5b48-4776-bab6-7be7e17b5d4d"
      },
      "execution_count": 12,
      "outputs": [
        {
          "output_type": "stream",
          "name": "stdout",
          "text": [
            "[96 82 93 86 89 55 94]\n"
          ]
        }
      ]
    },
    {
      "cell_type": "code",
      "source": [
        "print(np.max(array,axis=1))"
      ],
      "metadata": {
        "colab": {
          "base_uri": "https://localhost:8080/"
        },
        "id": "4R6B0jXxuhUe",
        "outputId": "df461345-7870-4c87-8442-dac33c0d51bc"
      },
      "execution_count": 13,
      "outputs": [
        {
          "output_type": "stream",
          "name": "stdout",
          "text": [
            "[93 82 86 82 96]\n"
          ]
        }
      ]
    },
    {
      "cell_type": "code",
      "source": [
        "print(np.argmax(array,axis=1))"
      ],
      "metadata": {
        "colab": {
          "base_uri": "https://localhost:8080/"
        },
        "id": "iaCFTrNsuu49",
        "outputId": "7c03f5a0-eae5-46ac-a825-2fc1ae5d205b"
      },
      "execution_count": 14,
      "outputs": [
        {
          "output_type": "stream",
          "name": "stdout",
          "text": [
            "[2 1 3 1 0]\n"
          ]
        }
      ]
    },
    {
      "cell_type": "code",
      "source": [
        "print(np.max(array))"
      ],
      "metadata": {
        "colab": {
          "base_uri": "https://localhost:8080/"
        },
        "id": "XP3RGCqGu7O0",
        "outputId": "d802ef83-9ca4-4644-a402-8288d013e148"
      },
      "execution_count": 17,
      "outputs": [
        {
          "output_type": "stream",
          "name": "stdout",
          "text": [
            "96\n"
          ]
        }
      ]
    },
    {
      "cell_type": "code",
      "source": [
        "print(np.argmax(array))"
      ],
      "metadata": {
        "colab": {
          "base_uri": "https://localhost:8080/"
        },
        "id": "yjBXpOhtvQjq",
        "outputId": "ef5b6846-c6bc-4046-b38f-da1fe7ba1335"
      },
      "execution_count": 16,
      "outputs": [
        {
          "output_type": "stream",
          "name": "stdout",
          "text": [
            "28\n"
          ]
        }
      ]
    },
    {
      "cell_type": "code",
      "source": [
        "print(np.mean(array))"
      ],
      "metadata": {
        "colab": {
          "base_uri": "https://localhost:8080/"
        },
        "id": "9Nzd50LDvTz7",
        "outputId": "e2bcd9af-d9f1-4a1c-c849-de21a6b806d8"
      },
      "execution_count": 18,
      "outputs": [
        {
          "output_type": "stream",
          "name": "stdout",
          "text": [
            "47.02857142857143\n"
          ]
        }
      ]
    },
    {
      "cell_type": "code",
      "source": [
        "print(np.sum(array))"
      ],
      "metadata": {
        "colab": {
          "base_uri": "https://localhost:8080/"
        },
        "id": "bTXNp9zuvZvn",
        "outputId": "16268df5-8768-4bbd-e2c5-b9d64a3f4887"
      },
      "execution_count": 19,
      "outputs": [
        {
          "output_type": "stream",
          "name": "stdout",
          "text": [
            "1646\n"
          ]
        }
      ]
    },
    {
      "cell_type": "code",
      "source": [
        "print(array[0][2])"
      ],
      "metadata": {
        "colab": {
          "base_uri": "https://localhost:8080/"
        },
        "id": "od0pE_dDvcY2",
        "outputId": "66a954a5-d05e-464d-884a-417aefc034f7"
      },
      "execution_count": 20,
      "outputs": [
        {
          "output_type": "stream",
          "name": "stdout",
          "text": [
            "93\n"
          ]
        }
      ]
    },
    {
      "cell_type": "code",
      "source": [
        "print(array[0:3,2:4])"
      ],
      "metadata": {
        "colab": {
          "base_uri": "https://localhost:8080/"
        },
        "id": "bUO6ZP7rvfsP",
        "outputId": "8b80c40e-8686-48d8-da62-cec1790b01a7"
      },
      "execution_count": 21,
      "outputs": [
        {
          "output_type": "stream",
          "name": "stdout",
          "text": [
            "[[93 60]\n",
            " [77 44]\n",
            " [79 86]]\n"
          ]
        }
      ]
    },
    {
      "cell_type": "code",
      "source": [
        "print(np.mean(array))"
      ],
      "metadata": {
        "colab": {
          "base_uri": "https://localhost:8080/"
        },
        "id": "fyp1mN89vl08",
        "outputId": "dceda2be-b567-40db-885e-8150d3a67ccc"
      },
      "execution_count": 22,
      "outputs": [
        {
          "output_type": "stream",
          "name": "stdout",
          "text": [
            "47.02857142857143\n"
          ]
        }
      ]
    },
    {
      "cell_type": "code",
      "source": [
        "print(np.min(array))"
      ],
      "metadata": {
        "colab": {
          "base_uri": "https://localhost:8080/"
        },
        "id": "iLzO8DgKvsDe",
        "outputId": "c8d1d3e3-f36b-473c-88c5-ce5dad14b3d8"
      },
      "execution_count": 23,
      "outputs": [
        {
          "output_type": "stream",
          "name": "stdout",
          "text": [
            "3\n"
          ]
        }
      ]
    },
    {
      "cell_type": "code",
      "source": [
        "print(np.min(array,axis=0))"
      ],
      "metadata": {
        "colab": {
          "base_uri": "https://localhost:8080/"
        },
        "id": "eZgwutc_vyK1",
        "outputId": "a8b3a144-1e20-4c9a-d565-ff7b252a0ec9"
      },
      "execution_count": 24,
      "outputs": [
        {
          "output_type": "stream",
          "name": "stdout",
          "text": [
            "[ 4  3 40 19  7 15  3]\n"
          ]
        }
      ]
    },
    {
      "cell_type": "code",
      "source": [
        "print(np.mean(array,axis=0))"
      ],
      "metadata": {
        "colab": {
          "base_uri": "https://localhost:8080/"
        },
        "id": "wv2eCBqCv2ks",
        "outputId": "ad1ea8cd-311f-4c90-9ea4-a92b843af0bc"
      },
      "execution_count": 25,
      "outputs": [
        {
          "output_type": "stream",
          "name": "stdout",
          "text": [
            "[39.8 41.6 66.4 53.6 46.  35.2 46.6]\n"
          ]
        }
      ]
    },
    {
      "cell_type": "code",
      "source": [
        "array=np.random.randint(0,100,(5,10))\n",
        "print(array)"
      ],
      "metadata": {
        "colab": {
          "base_uri": "https://localhost:8080/"
        },
        "id": "PXm4f8q0v6RS",
        "outputId": "20280d18-cd0c-449c-85c0-d4373277cf1b"
      },
      "execution_count": 26,
      "outputs": [
        {
          "output_type": "stream",
          "name": "stdout",
          "text": [
            "[[15 97 68 11 69 22 85 15 59 58]\n",
            " [78 62 72 55 75 35 79 59 56 57]\n",
            " [25 31 25 34 73 53  5 15 27 24]\n",
            " [39 39 58 17 41 28 88 44  6 94]\n",
            " [45 45  2 43 48 99 59 20 58  9]]\n"
          ]
        }
      ]
    },
    {
      "cell_type": "code",
      "source": [
        "print(array[2,3])"
      ],
      "metadata": {
        "colab": {
          "base_uri": "https://localhost:8080/"
        },
        "id": "nsI5cP-Xwf5D",
        "outputId": "c19dac99-efd0-4d94-d25f-da31e78f2124"
      },
      "execution_count": 28,
      "outputs": [
        {
          "output_type": "stream",
          "name": "stdout",
          "text": [
            "34\n"
          ]
        }
      ]
    },
    {
      "cell_type": "code",
      "source": [
        "print(array[0:2,0:4])"
      ],
      "metadata": {
        "colab": {
          "base_uri": "https://localhost:8080/"
        },
        "id": "msWHDbXlwJz-",
        "outputId": "abb05f66-4586-4809-c6d1-c1cc5abe638c"
      },
      "execution_count": 27,
      "outputs": [
        {
          "output_type": "stream",
          "name": "stdout",
          "text": [
            "[[15 97 68 11]\n",
            " [78 62 72 55]]\n"
          ]
        }
      ]
    },
    {
      "cell_type": "code",
      "source": [
        "print(array[:,0:4])"
      ],
      "metadata": {
        "colab": {
          "base_uri": "https://localhost:8080/"
        },
        "id": "k1MZPKpOwMpa",
        "outputId": "56197213-88ce-482d-acc7-b6a1424fed30"
      },
      "execution_count": 29,
      "outputs": [
        {
          "output_type": "stream",
          "name": "stdout",
          "text": [
            "[[15 97 68 11]\n",
            " [78 62 72 55]\n",
            " [25 31 25 34]\n",
            " [39 39 58 17]\n",
            " [45 45  2 43]]\n"
          ]
        }
      ]
    },
    {
      "cell_type": "code",
      "source": [
        "print(array[:,4])"
      ],
      "metadata": {
        "colab": {
          "base_uri": "https://localhost:8080/"
        },
        "id": "Lfkr29ntwzVQ",
        "outputId": "cc1029f1-2d11-4d34-f139-839cff4ed54b"
      },
      "execution_count": 30,
      "outputs": [
        {
          "output_type": "stream",
          "name": "stdout",
          "text": [
            "[69 75 73 41 48]\n"
          ]
        }
      ]
    },
    {
      "cell_type": "code",
      "source": [
        "print(array[:2,:])"
      ],
      "metadata": {
        "colab": {
          "base_uri": "https://localhost:8080/"
        },
        "id": "EZizWd9qw2-L",
        "outputId": "9dfd9570-3761-4bc5-90e9-73b5bea2dc8d"
      },
      "execution_count": 31,
      "outputs": [
        {
          "output_type": "stream",
          "name": "stdout",
          "text": [
            "[[15 97 68 11 69 22 85 15 59 58]\n",
            " [78 62 72 55 75 35 79 59 56 57]]\n"
          ]
        }
      ]
    },
    {
      "cell_type": "code",
      "source": [
        "avg=np.mean(array[:2,:])\n",
        "print(avg)"
      ],
      "metadata": {
        "colab": {
          "base_uri": "https://localhost:8080/"
        },
        "id": "z44o3mJkw6Og",
        "outputId": "18b6a615-b39e-4bd2-a3af-4d98410bcf58"
      },
      "execution_count": 32,
      "outputs": [
        {
          "output_type": "stream",
          "name": "stdout",
          "text": [
            "56.35\n"
          ]
        }
      ]
    },
    {
      "cell_type": "code",
      "source": [],
      "metadata": {
        "id": "T4_zX586xXL5"
      },
      "execution_count": null,
      "outputs": []
    }
  ]
}